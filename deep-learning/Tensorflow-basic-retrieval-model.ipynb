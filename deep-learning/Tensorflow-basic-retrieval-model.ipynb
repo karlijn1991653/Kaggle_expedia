{
 "cells": [
  {
   "cell_type": "markdown",
   "metadata": {},
   "source": [
    "# Tensorflow Recommenders tutorial\n",
    "\n",
    "Following the tutorial: https://www.tensorflow.org/recommenders/examples/basic_retrieval"
   ]
  },
  {
   "cell_type": "code",
   "execution_count": 4,
   "metadata": {},
   "outputs": [],
   "source": [
    "import os\n",
    "import pprint\n",
    "import tempfile\n",
    "\n",
    "from typing import Dict, Text\n",
    "\n",
    "import numpy as np\n",
    "import tensorflow as tf\n",
    "import tensorflow_datasets as tfds\n",
    "\n",
    "import tensorflow_recommenders as tfrs\n"
   ]
  },
  {
   "cell_type": "markdown",
   "metadata": {},
   "source": [
    "## Read data\n",
    "\n",
    "Original data source: https://grouplens.org/datasets/movielens/100k/"
   ]
  },
  {
   "cell_type": "code",
   "execution_count": 5,
   "metadata": {},
   "outputs": [
    {
     "name": "stderr",
     "output_type": "stream",
     "text": [
      "WARNING:absl:The handle \"movie_lens\" for the MovieLens dataset is deprecated. Prefer using \"movielens\" instead.\n",
      "WARNING:absl:The handle \"movie_lens\" for the MovieLens dataset is deprecated. Prefer using \"movielens\" instead.\n"
     ]
    }
   ],
   "source": [
    "# Ratings data.\n",
    "ratings = tfds.load(\"movie_lens/100k-ratings\", split=\"train\")\n",
    "# Features of all the available movies.\n",
    "movies = tfds.load(\"movie_lens/100k-movies\", split=\"train\")"
   ]
  },
  {
   "cell_type": "code",
   "execution_count": 6,
   "metadata": {},
   "outputs": [
    {
     "name": "stdout",
     "output_type": "stream",
     "text": [
      "{'bucketized_user_age': 45.0,\n",
      " 'movie_genres': array([7]),\n",
      " 'movie_id': b'357',\n",
      " 'movie_title': b\"One Flew Over the Cuckoo's Nest (1975)\",\n",
      " 'raw_user_age': 46.0,\n",
      " 'timestamp': 879024327,\n",
      " 'user_gender': True,\n",
      " 'user_id': b'138',\n",
      " 'user_occupation_label': 4,\n",
      " 'user_occupation_text': b'doctor',\n",
      " 'user_rating': 4.0,\n",
      " 'user_zip_code': b'53211'}\n"
     ]
    }
   ],
   "source": [
    "for x in ratings.take(1).as_numpy_iterator():\n",
    "    pprint.pprint(x)"
   ]
  },
  {
   "cell_type": "code",
   "execution_count": 7,
   "metadata": {},
   "outputs": [
    {
     "name": "stdout",
     "output_type": "stream",
     "text": [
      "{'movie_genres': array([4]),\n",
      " 'movie_id': b'1681',\n",
      " 'movie_title': b'You So Crazy (1994)'}\n"
     ]
    }
   ],
   "source": [
    "for x in movies.take(1).as_numpy_iterator():\n",
    "    pprint.pprint(x)"
   ]
  },
  {
   "cell_type": "markdown",
   "metadata": {},
   "source": [
    "## Feature selection"
   ]
  },
  {
   "cell_type": "code",
   "execution_count": 8,
   "metadata": {},
   "outputs": [
    {
     "name": "stdout",
     "output_type": "stream",
     "text": [
      "Number of movies: 1682\n",
      "Number of ratings: 100000\n"
     ]
    }
   ],
   "source": [
    "print(f\"Number of movies: {len(list(movies))}\")\n",
    "print(f\"Number of ratings: {len(list(ratings))}\")"
   ]
  },
  {
   "cell_type": "code",
   "execution_count": 9,
   "metadata": {},
   "outputs": [],
   "source": [
    "ratings = ratings.map(lambda x: {\n",
    "    \"movie_title\": x[\"movie_title\"],\n",
    "    \"user_id\": x[\"user_id\"],\n",
    "})\n",
    "movies = movies.map(lambda x: x[\"movie_title\"])"
   ]
  },
  {
   "cell_type": "code",
   "execution_count": 30,
   "metadata": {},
   "outputs": [
    {
     "data": {
      "text/plain": [
       "[<tf.Tensor: shape=(), dtype=string, numpy=b'You So Crazy (1994)'>,\n",
       " <tf.Tensor: shape=(), dtype=string, numpy=b'Love Is All There Is (1996)'>,\n",
       " <tf.Tensor: shape=(), dtype=string, numpy=b'Fly Away Home (1996)'>,\n",
       " <tf.Tensor: shape=(), dtype=string, numpy=b'In the Line of Duty 2 (1987)'>,\n",
       " <tf.Tensor: shape=(), dtype=string, numpy=b'Niagara, Niagara (1997)'>,\n",
       " <tf.Tensor: shape=(), dtype=string, numpy=b\"Young Poisoner's Handbook, The (1995)\">,\n",
       " <tf.Tensor: shape=(), dtype=string, numpy=b'Age of Innocence, The (1993)'>,\n",
       " <tf.Tensor: shape=(), dtype=string, numpy=b'Flirt (1995)'>,\n",
       " <tf.Tensor: shape=(), dtype=string, numpy=b'Frisk (1995)'>,\n",
       " <tf.Tensor: shape=(), dtype=string, numpy=b'unknown'>,\n",
       " <tf.Tensor: shape=(), dtype=string, numpy=b'Girls Town (1996)'>,\n",
       " <tf.Tensor: shape=(), dtype=string, numpy=b'Stonewall (1995)'>,\n",
       " <tf.Tensor: shape=(), dtype=string, numpy=b'African Queen, The (1951)'>,\n",
       " <tf.Tensor: shape=(), dtype=string, numpy=b'Bloody Child, The (1996)'>,\n",
       " <tf.Tensor: shape=(), dtype=string, numpy=b'Executive Decision (1996)'>,\n",
       " <tf.Tensor: shape=(), dtype=string, numpy=b'Batman Returns (1992)'>,\n",
       " <tf.Tensor: shape=(), dtype=string, numpy=b'Canadian Bacon (1994)'>,\n",
       " <tf.Tensor: shape=(), dtype=string, numpy=b'FairyTale: A True Story (1997)'>,\n",
       " <tf.Tensor: shape=(), dtype=string, numpy=b'Body Snatcher, The (1945)'>,\n",
       " <tf.Tensor: shape=(), dtype=string, numpy=b'Sabrina (1954)'>,\n",
       " <tf.Tensor: shape=(), dtype=string, numpy=b'Sphere (1998)'>,\n",
       " <tf.Tensor: shape=(), dtype=string, numpy=b'Magic Hour, The (1998)'>,\n",
       " <tf.Tensor: shape=(), dtype=string, numpy=b'Raise the Red Lantern (1991)'>,\n",
       " <tf.Tensor: shape=(), dtype=string, numpy=b'Homeward Bound II: Lost in San Francisco (1996)'>,\n",
       " <tf.Tensor: shape=(), dtype=string, numpy=b'Grosse Pointe Blank (1997)'>,\n",
       " <tf.Tensor: shape=(), dtype=string, numpy=b\"Smilla's Sense of Snow (1997)\">,\n",
       " <tf.Tensor: shape=(), dtype=string, numpy=b'Princess Caraboo (1994)'>,\n",
       " <tf.Tensor: shape=(), dtype=string, numpy=b'Wings of Desire (1987)'>,\n",
       " <tf.Tensor: shape=(), dtype=string, numpy=b'Collectionneuse, La (1967)'>,\n",
       " <tf.Tensor: shape=(), dtype=string, numpy=b'To Wong Foo, Thanks for Everything! Julie Newmar (1995)'>,\n",
       " <tf.Tensor: shape=(), dtype=string, numpy=b'Lassie (1994)'>,\n",
       " <tf.Tensor: shape=(), dtype=string, numpy=b'Shadows (Cienie) (1988)'>,\n",
       " <tf.Tensor: shape=(), dtype=string, numpy=b'Beans of Egypt, Maine, The (1994)'>,\n",
       " <tf.Tensor: shape=(), dtype=string, numpy=b'Mis\\xc3\\xa9rables, Les (1995)'>,\n",
       " <tf.Tensor: shape=(), dtype=string, numpy=b'Reckless (1995)'>,\n",
       " <tf.Tensor: shape=(), dtype=string, numpy=b'Losing Isaiah (1995)'>,\n",
       " <tf.Tensor: shape=(), dtype=string, numpy=b'Ballad of Narayama, The (Narayama Bushiko) (1958)'>,\n",
       " <tf.Tensor: shape=(), dtype=string, numpy=b'Howling, The (1981)'>,\n",
       " <tf.Tensor: shape=(), dtype=string, numpy=b'Sweet Hereafter, The (1997)'>,\n",
       " <tf.Tensor: shape=(), dtype=string, numpy=b\"Boy's Life 2 (1997)\">,\n",
       " <tf.Tensor: shape=(), dtype=string, numpy=b'Carrie (1976)'>,\n",
       " <tf.Tensor: shape=(), dtype=string, numpy=b'MURDER and murder (1996)'>,\n",
       " <tf.Tensor: shape=(), dtype=string, numpy=b'Victor/Victoria (1982)'>,\n",
       " <tf.Tensor: shape=(), dtype=string, numpy=b'Screamers (1995)'>,\n",
       " <tf.Tensor: shape=(), dtype=string, numpy=b'Two Bits (1995)'>,\n",
       " <tf.Tensor: shape=(), dtype=string, numpy=b'Senseless (1998)'>,\n",
       " <tf.Tensor: shape=(), dtype=string, numpy=b'Dangerous Ground (1997)'>,\n",
       " <tf.Tensor: shape=(), dtype=string, numpy=b'Live Nude Girls (1995)'>,\n",
       " <tf.Tensor: shape=(), dtype=string, numpy=b\"Wooden Man's Bride, The (Wu Kui) (1994)\">,\n",
       " <tf.Tensor: shape=(), dtype=string, numpy=b'Mouse Hunt (1997)'>,\n",
       " <tf.Tensor: shape=(), dtype=string, numpy=b'Ran (1985)'>,\n",
       " <tf.Tensor: shape=(), dtype=string, numpy=b'Salut cousin! (1996)'>,\n",
       " <tf.Tensor: shape=(), dtype=string, numpy=b'Big Bully (1996)'>,\n",
       " <tf.Tensor: shape=(), dtype=string, numpy=b'Forbidden Planet (1956)'>,\n",
       " <tf.Tensor: shape=(), dtype=string, numpy=b'Mr. Smith Goes to Washington (1939)'>,\n",
       " <tf.Tensor: shape=(), dtype=string, numpy=b'Apocalypse Now (1979)'>,\n",
       " <tf.Tensor: shape=(), dtype=string, numpy=b'Giant (1956)'>,\n",
       " <tf.Tensor: shape=(), dtype=string, numpy=b'Of Love and Shadows (1994)'>,\n",
       " <tf.Tensor: shape=(), dtype=string, numpy=b'Pulp Fiction (1994)'>,\n",
       " <tf.Tensor: shape=(), dtype=string, numpy=b'Vermin (1998)'>,\n",
       " <tf.Tensor: shape=(), dtype=string, numpy=b'Die Hard (1988)'>,\n",
       " <tf.Tensor: shape=(), dtype=string, numpy=b'First Knight (1995)'>,\n",
       " <tf.Tensor: shape=(), dtype=string, numpy=b'Batman Forever (1995)'>,\n",
       " <tf.Tensor: shape=(), dtype=string, numpy=b'Mostro, Il (1994)'>,\n",
       " <tf.Tensor: shape=(), dtype=string, numpy=b'Invitation, The (Zaproszenie) (1986)'>,\n",
       " <tf.Tensor: shape=(), dtype=string, numpy=b'To Live (Huozhe) (1994)'>,\n",
       " <tf.Tensor: shape=(), dtype=string, numpy=b'Willy Wonka and the Chocolate Factory (1971)'>,\n",
       " <tf.Tensor: shape=(), dtype=string, numpy=b'Head Above Water (1996)'>,\n",
       " <tf.Tensor: shape=(), dtype=string, numpy=b'Fierce Creatures (1997)'>,\n",
       " <tf.Tensor: shape=(), dtype=string, numpy=b'Evil Dead II (1987)'>,\n",
       " <tf.Tensor: shape=(), dtype=string, numpy=b'Batman & Robin (1997)'>,\n",
       " <tf.Tensor: shape=(), dtype=string, numpy=b\"What's Eating Gilbert Grape (1993)\">,\n",
       " <tf.Tensor: shape=(), dtype=string, numpy=b'Stand by Me (1986)'>,\n",
       " <tf.Tensor: shape=(), dtype=string, numpy=b'Beyond Bedlam (1993)'>,\n",
       " <tf.Tensor: shape=(), dtype=string, numpy=b'Faithful (1996)'>,\n",
       " <tf.Tensor: shape=(), dtype=string, numpy=b'Mother Night (1996)'>,\n",
       " <tf.Tensor: shape=(), dtype=string, numpy=b'Swan Princess, The (1994)'>,\n",
       " <tf.Tensor: shape=(), dtype=string, numpy=b'In the Company of Men (1997)'>,\n",
       " <tf.Tensor: shape=(), dtype=string, numpy=b'Emma (1996)'>,\n",
       " <tf.Tensor: shape=(), dtype=string, numpy=b'Afterglow (1997)'>,\n",
       " <tf.Tensor: shape=(), dtype=string, numpy=b'Nosferatu a Venezia (1986)'>,\n",
       " <tf.Tensor: shape=(), dtype=string, numpy=b'Mondo (1996)'>,\n",
       " <tf.Tensor: shape=(), dtype=string, numpy=b'Hackers (1995)'>,\n",
       " <tf.Tensor: shape=(), dtype=string, numpy=b'Bread and Chocolate (Pane e cioccolata) (1973)'>,\n",
       " <tf.Tensor: shape=(), dtype=string, numpy=b'So Dear to My Heart (1949)'>,\n",
       " <tf.Tensor: shape=(), dtype=string, numpy=b'Nightmare Before Christmas, The (1993)'>,\n",
       " <tf.Tensor: shape=(), dtype=string, numpy=b'Absolute Power (1997)'>,\n",
       " <tf.Tensor: shape=(), dtype=string, numpy=b'Jurassic Park (1993)'>,\n",
       " <tf.Tensor: shape=(), dtype=string, numpy=b'Star Trek: Generations (1994)'>,\n",
       " <tf.Tensor: shape=(), dtype=string, numpy=b'Next Karate Kid, The (1994)'>,\n",
       " <tf.Tensor: shape=(), dtype=string, numpy=b'Angel and the Badman (1947)'>,\n",
       " <tf.Tensor: shape=(), dtype=string, numpy=b'Twelfth Night (1996)'>,\n",
       " <tf.Tensor: shape=(), dtype=string, numpy=b'Replacement Killers, The (1998)'>,\n",
       " <tf.Tensor: shape=(), dtype=string, numpy=b'Boys, Les (1997)'>,\n",
       " <tf.Tensor: shape=(), dtype=string, numpy=b'Palmetto (1998)'>,\n",
       " <tf.Tensor: shape=(), dtype=string, numpy=b'Inventing the Abbotts (1997)'>,\n",
       " <tf.Tensor: shape=(), dtype=string, numpy=b'Naked (1993)'>,\n",
       " <tf.Tensor: shape=(), dtype=string, numpy=b'Man of the House (1995)'>,\n",
       " <tf.Tensor: shape=(), dtype=string, numpy=b'Star Trek IV: The Voyage Home (1986)'>,\n",
       " <tf.Tensor: shape=(), dtype=string, numpy=b'Killing Fields, The (1984)'>,\n",
       " <tf.Tensor: shape=(), dtype=string, numpy=b'Speed 2: Cruise Control (1997)'>,\n",
       " <tf.Tensor: shape=(), dtype=string, numpy=b\"It's a Wonderful Life (1946)\">,\n",
       " <tf.Tensor: shape=(), dtype=string, numpy=b'Homage (1995)'>,\n",
       " <tf.Tensor: shape=(), dtype=string, numpy=b'Bewegte Mann, Der (1994)'>,\n",
       " <tf.Tensor: shape=(), dtype=string, numpy=b'Dream Man (1995)'>,\n",
       " <tf.Tensor: shape=(), dtype=string, numpy=b'Die Hard: With a Vengeance (1995)'>,\n",
       " <tf.Tensor: shape=(), dtype=string, numpy=b\"Romy and Michele's High School Reunion (1997)\">,\n",
       " <tf.Tensor: shape=(), dtype=string, numpy=b'Raising Arizona (1987)'>,\n",
       " <tf.Tensor: shape=(), dtype=string, numpy=b'Man of No Importance, A (1994)'>,\n",
       " <tf.Tensor: shape=(), dtype=string, numpy=b'In the Name of the Father (1993)'>,\n",
       " <tf.Tensor: shape=(), dtype=string, numpy=b'Pump Up the Volume (1990)'>,\n",
       " <tf.Tensor: shape=(), dtype=string, numpy=b'Walking Dead, The (1995)'>,\n",
       " <tf.Tensor: shape=(), dtype=string, numpy=b'Little Princess, The (1939)'>,\n",
       " <tf.Tensor: shape=(), dtype=string, numpy=b'Twelve Monkeys (1995)'>,\n",
       " <tf.Tensor: shape=(), dtype=string, numpy=b'Beauty and the Beast (1991)'>,\n",
       " <tf.Tensor: shape=(), dtype=string, numpy=b\"Gridlock'd (1997)\">,\n",
       " <tf.Tensor: shape=(), dtype=string, numpy=b'Night Flier (1997)'>,\n",
       " <tf.Tensor: shape=(), dtype=string, numpy=b'Surviving the Game (1994)'>,\n",
       " <tf.Tensor: shape=(), dtype=string, numpy=b'Looking for Richard (1996)'>,\n",
       " <tf.Tensor: shape=(), dtype=string, numpy=b'Unzipped (1995)'>,\n",
       " <tf.Tensor: shape=(), dtype=string, numpy=b'Frighteners, The (1996)'>,\n",
       " <tf.Tensor: shape=(), dtype=string, numpy=b'Rough Magic (1995)'>,\n",
       " <tf.Tensor: shape=(), dtype=string, numpy=b'Eraser (1996)'>,\n",
       " <tf.Tensor: shape=(), dtype=string, numpy=b'Legends of the Fall (1994)'>,\n",
       " <tf.Tensor: shape=(), dtype=string, numpy=b'Carmen Miranda: Bananas Is My Business (1994)'>,\n",
       " <tf.Tensor: shape=(), dtype=string, numpy=b'Commandments (1997)'>,\n",
       " <tf.Tensor: shape=(), dtype=string, numpy=b'Hoop Dreams (1994)'>,\n",
       " <tf.Tensor: shape=(), dtype=string, numpy=b'Keys to Tulsa (1997)'>,\n",
       " <tf.Tensor: shape=(), dtype=string, numpy=b'Peacemaker, The (1997)'>,\n",
       " <tf.Tensor: shape=(), dtype=string, numpy=b'Last Summer in the Hamptons (1995)'>,\n",
       " <tf.Tensor: shape=(), dtype=string, numpy=b'Sliver (1993)'>,\n",
       " <tf.Tensor: shape=(), dtype=string, numpy=b'JLG/JLG - autoportrait de d\\xc3\\xa9cembre (1994)'>,\n",
       " <tf.Tensor: shape=(), dtype=string, numpy=b'Gabbeh (1996)'>,\n",
       " <tf.Tensor: shape=(), dtype=string, numpy=b'Ghost and the Darkness, The (1996)'>,\n",
       " <tf.Tensor: shape=(), dtype=string, numpy=b'Program, The (1993)'>,\n",
       " <tf.Tensor: shape=(), dtype=string, numpy=b'Blood Beach (1981)'>,\n",
       " <tf.Tensor: shape=(), dtype=string, numpy=b'Truth or Consequences, N.M. (1997)'>,\n",
       " <tf.Tensor: shape=(), dtype=string, numpy=b'Doom Generation, The (1995)'>,\n",
       " <tf.Tensor: shape=(), dtype=string, numpy=b'Fried Green Tomatoes (1991)'>,\n",
       " <tf.Tensor: shape=(), dtype=string, numpy=b'Breakdown (1997)'>,\n",
       " <tf.Tensor: shape=(), dtype=string, numpy=b'Ruby in Paradise (1993)'>,\n",
       " <tf.Tensor: shape=(), dtype=string, numpy=b'Terminal Velocity (1994)'>,\n",
       " <tf.Tensor: shape=(), dtype=string, numpy=b\"Wend Kuuni (God's Gift) (1982)\">,\n",
       " <tf.Tensor: shape=(), dtype=string, numpy=b'Fire on the Mountain (1996)'>,\n",
       " <tf.Tensor: shape=(), dtype=string, numpy=b'Soul Food (1997)'>,\n",
       " <tf.Tensor: shape=(), dtype=string, numpy=b'Last of the Mohicans, The (1992)'>,\n",
       " <tf.Tensor: shape=(), dtype=string, numpy=b'Dial M for Murder (1954)'>,\n",
       " <tf.Tensor: shape=(), dtype=string, numpy=b'Bird of Prey (1996)'>,\n",
       " <tf.Tensor: shape=(), dtype=string, numpy=b'Groundhog Day (1993)'>,\n",
       " <tf.Tensor: shape=(), dtype=string, numpy=b'Fille seule, La (A Single Girl) (1995)'>,\n",
       " <tf.Tensor: shape=(), dtype=string, numpy=b'Malice (1993)'>,\n",
       " <tf.Tensor: shape=(), dtype=string, numpy=b'Crows and Sparrows (1949)'>,\n",
       " <tf.Tensor: shape=(), dtype=string, numpy=b'Eye for an Eye (1996)'>,\n",
       " <tf.Tensor: shape=(), dtype=string, numpy=b'Daens (1992)'>,\n",
       " <tf.Tensor: shape=(), dtype=string, numpy=b'Sliding Doors (1998)'>,\n",
       " <tf.Tensor: shape=(), dtype=string, numpy=b'Foreign Student (1994)'>,\n",
       " <tf.Tensor: shape=(), dtype=string, numpy=b'Primary Colors (1998)'>,\n",
       " <tf.Tensor: shape=(), dtype=string, numpy=b'From Dusk Till Dawn (1996)'>,\n",
       " <tf.Tensor: shape=(), dtype=string, numpy=b'Death and the Maiden (1994)'>,\n",
       " <tf.Tensor: shape=(), dtype=string, numpy=b'Midnight in the Garden of Good and Evil (1997)'>,\n",
       " <tf.Tensor: shape=(), dtype=string, numpy=b'For the Moment (1994)'>,\n",
       " <tf.Tensor: shape=(), dtype=string, numpy=b'Washington Square (1997)'>,\n",
       " <tf.Tensor: shape=(), dtype=string, numpy=b'Vanya on 42nd Street (1994)'>,\n",
       " <tf.Tensor: shape=(), dtype=string, numpy=b'Don Juan DeMarco (1995)'>,\n",
       " <tf.Tensor: shape=(), dtype=string, numpy=b'Billy Madison (1995)'>,\n",
       " <tf.Tensor: shape=(), dtype=string, numpy=b'Midnight Dancers (Sibak) (1994)'>,\n",
       " <tf.Tensor: shape=(), dtype=string, numpy=b'Metisse (Caf\\xc3\\xa9 au Lait) (1993)'>,\n",
       " <tf.Tensor: shape=(), dtype=string, numpy=b'Believers, The (1987)'>,\n",
       " <tf.Tensor: shape=(), dtype=string, numpy=b'Marked for Death (1990)'>,\n",
       " <tf.Tensor: shape=(), dtype=string, numpy=b'Angels and Insects (1995)'>,\n",
       " <tf.Tensor: shape=(), dtype=string, numpy=b'High Noon (1952)'>,\n",
       " <tf.Tensor: shape=(), dtype=string, numpy=b'Inkwell, The (1994)'>,\n",
       " <tf.Tensor: shape=(), dtype=string, numpy=b'Search for One-eye Jimmy, The (1996)'>,\n",
       " <tf.Tensor: shape=(), dtype=string, numpy=b\"C'est arriv\\xc3\\xa9 pr\\xc3\\xa8s de chez vous (1992)\">,\n",
       " <tf.Tensor: shape=(), dtype=string, numpy=b'Liar Liar (1997)'>,\n",
       " <tf.Tensor: shape=(), dtype=string, numpy=b'Road to Wellville, The (1994)'>,\n",
       " <tf.Tensor: shape=(), dtype=string, numpy=b'In & Out (1997)'>,\n",
       " <tf.Tensor: shape=(), dtype=string, numpy=b'World of Apu, The (Apur Sansar) (1959)'>,\n",
       " <tf.Tensor: shape=(), dtype=string, numpy=b'Love and a .45 (1994)'>,\n",
       " <tf.Tensor: shape=(), dtype=string, numpy=b'Other Voices, Other Rooms (1997)'>,\n",
       " <tf.Tensor: shape=(), dtype=string, numpy=b'Out to Sea (1997)'>,\n",
       " <tf.Tensor: shape=(), dtype=string, numpy=b'Patton (1970)'>,\n",
       " <tf.Tensor: shape=(), dtype=string, numpy=b'Pagemaster, The (1994)'>,\n",
       " <tf.Tensor: shape=(), dtype=string, numpy=b'Casablanca (1942)'>,\n",
       " <tf.Tensor: shape=(), dtype=string, numpy=b'Fire Down Below (1997)'>,\n",
       " <tf.Tensor: shape=(), dtype=string, numpy=b'Mr. Wrong (1996)'>,\n",
       " <tf.Tensor: shape=(), dtype=string, numpy=b'Prefontaine (1997)'>,\n",
       " <tf.Tensor: shape=(), dtype=string, numpy=b'Raging Bull (1980)'>,\n",
       " <tf.Tensor: shape=(), dtype=string, numpy=b'Highlander (1986)'>,\n",
       " <tf.Tensor: shape=(), dtype=string, numpy=b'Outlaw, The (1943)'>,\n",
       " <tf.Tensor: shape=(), dtype=string, numpy=b'Leave It to Beaver (1997)'>,\n",
       " <tf.Tensor: shape=(), dtype=string, numpy=b'Hour of the Pig, The (1993)'>,\n",
       " <tf.Tensor: shape=(), dtype=string, numpy=b'Vertigo (1958)'>,\n",
       " <tf.Tensor: shape=(), dtype=string, numpy=b'Harold and Maude (1971)'>,\n",
       " <tf.Tensor: shape=(), dtype=string, numpy=b'Cape Fear (1962)'>,\n",
       " <tf.Tensor: shape=(), dtype=string, numpy=b'Somewhere in Time (1980)'>,\n",
       " <tf.Tensor: shape=(), dtype=string, numpy=b'2 Days in the Valley (1996)'>,\n",
       " <tf.Tensor: shape=(), dtype=string, numpy=b'Line King: Al Hirschfeld, The (1996)'>,\n",
       " <tf.Tensor: shape=(), dtype=string, numpy=b'U.S. Marshalls (1998)'>,\n",
       " <tf.Tensor: shape=(), dtype=string, numpy=b'Secret Agent, The (1996)'>,\n",
       " <tf.Tensor: shape=(), dtype=string, numpy=b'Ready to Wear (Pret-A-Porter) (1994)'>,\n",
       " <tf.Tensor: shape=(), dtype=string, numpy=b'Amateur (1994)'>,\n",
       " <tf.Tensor: shape=(), dtype=string, numpy=b'Great Day in Harlem, A (1994)'>,\n",
       " <tf.Tensor: shape=(), dtype=string, numpy=b'City of Industry (1997)'>,\n",
       " <tf.Tensor: shape=(), dtype=string, numpy=b'Scream of Stone (Schrei aus Stein) (1991)'>,\n",
       " <tf.Tensor: shape=(), dtype=string, numpy=b'American President, The (1995)'>,\n",
       " <tf.Tensor: shape=(), dtype=string, numpy=b'Mighty Aphrodite (1995)'>,\n",
       " <tf.Tensor: shape=(), dtype=string, numpy=b'Bottle Rocket (1996)'>,\n",
       " <tf.Tensor: shape=(), dtype=string, numpy=b'Cinderella (1950)'>,\n",
       " <tf.Tensor: shape=(), dtype=string, numpy=b'Sgt. Bilko (1996)'>,\n",
       " <tf.Tensor: shape=(), dtype=string, numpy=b'Booty Call (1997)'>,\n",
       " <tf.Tensor: shape=(), dtype=string, numpy=b'Underworld (1997)'>,\n",
       " <tf.Tensor: shape=(), dtype=string, numpy=b\"Bram Stoker's Dracula (1992)\">,\n",
       " <tf.Tensor: shape=(), dtype=string, numpy=b'Stalker (1979)'>,\n",
       " <tf.Tensor: shape=(), dtype=string, numpy=b'Barcelona (1994)'>,\n",
       " <tf.Tensor: shape=(), dtype=string, numpy=b'That Darn Cat! (1997)'>,\n",
       " <tf.Tensor: shape=(), dtype=string, numpy=b\"Brother's Kiss, A (1997)\">,\n",
       " <tf.Tensor: shape=(), dtype=string, numpy=b'Shine (1996)'>,\n",
       " <tf.Tensor: shape=(), dtype=string, numpy=b'Trigger Effect, The (1996)'>,\n",
       " <tf.Tensor: shape=(), dtype=string, numpy=b'Grace of My Heart (1996)'>,\n",
       " <tf.Tensor: shape=(), dtype=string, numpy=b\"I Can't Sleep (J'ai pas sommeil) (1994)\">,\n",
       " <tf.Tensor: shape=(), dtype=string, numpy=b'Virtuosity (1995)'>,\n",
       " <tf.Tensor: shape=(), dtype=string, numpy=b'Albino Alligator (1996)'>,\n",
       " <tf.Tensor: shape=(), dtype=string, numpy=b'Heavy (1995)'>,\n",
       " <tf.Tensor: shape=(), dtype=string, numpy=b'Color of Night (1994)'>,\n",
       " <tf.Tensor: shape=(), dtype=string, numpy=b'It Takes Two (1995)'>,\n",
       " <tf.Tensor: shape=(), dtype=string, numpy=b'Diabolique (1996)'>,\n",
       " <tf.Tensor: shape=(), dtype=string, numpy=b'Perfect World, A (1993)'>,\n",
       " <tf.Tensor: shape=(), dtype=string, numpy=b'Grand Day Out, A (1992)'>,\n",
       " <tf.Tensor: shape=(), dtype=string, numpy=b'Anna (1996)'>,\n",
       " <tf.Tensor: shape=(), dtype=string, numpy=b'Aliens (1986)'>,\n",
       " <tf.Tensor: shape=(), dtype=string, numpy=b'Rob Roy (1995)'>,\n",
       " <tf.Tensor: shape=(), dtype=string, numpy=b'A Chef in Love (1996)'>,\n",
       " <tf.Tensor: shape=(), dtype=string, numpy=b'Marlene Dietrich: Shadow and Light (1996) '>,\n",
       " <tf.Tensor: shape=(), dtype=string, numpy=b'Butcher Boy, The (1998)'>,\n",
       " <tf.Tensor: shape=(), dtype=string, numpy=b'Phenomenon (1996)'>,\n",
       " <tf.Tensor: shape=(), dtype=string, numpy=b'Sleepover (1995)'>,\n",
       " <tf.Tensor: shape=(), dtype=string, numpy=b'American Buffalo (1996)'>,\n",
       " <tf.Tensor: shape=(), dtype=string, numpy=b'Mr. Jones (1993)'>,\n",
       " <tf.Tensor: shape=(), dtype=string, numpy=b'Tetsuo II: Body Hammer (1992)'>,\n",
       " <tf.Tensor: shape=(), dtype=string, numpy=b'Abyss, The (1989)'>,\n",
       " <tf.Tensor: shape=(), dtype=string, numpy=b'Sunset Blvd. (1950)'>,\n",
       " <tf.Tensor: shape=(), dtype=string, numpy=b'Candyman: Farewell to the Flesh (1995)'>,\n",
       " <tf.Tensor: shape=(), dtype=string, numpy=b'Michael Collins (1996)'>,\n",
       " <tf.Tensor: shape=(), dtype=string, numpy=b'Jerky Boys, The (1994)'>,\n",
       " <tf.Tensor: shape=(), dtype=string, numpy=b'My Favorite Year (1982)'>,\n",
       " <tf.Tensor: shape=(), dtype=string, numpy=b'Cop Land (1997)'>,\n",
       " <tf.Tensor: shape=(), dtype=string, numpy=b'Trust (1990)'>,\n",
       " <tf.Tensor: shape=(), dtype=string, numpy=b'New York Cop (1996)'>,\n",
       " <tf.Tensor: shape=(), dtype=string, numpy=b'Mrs. Winterbourne (1996)'>,\n",
       " <tf.Tensor: shape=(), dtype=string, numpy=b\"Rich Man's Wife, The (1996)\">,\n",
       " <tf.Tensor: shape=(), dtype=string, numpy=b'Country Life (1994)'>,\n",
       " <tf.Tensor: shape=(), dtype=string, numpy=b'Angela (1995)'>,\n",
       " <tf.Tensor: shape=(), dtype=string, numpy=b'Man from Down Under, The (1943)'>,\n",
       " <tf.Tensor: shape=(), dtype=string, numpy=b\"Eve's Bayou (1997)\">,\n",
       " <tf.Tensor: shape=(), dtype=string, numpy=b'Indiana Jones and the Last Crusade (1989)'>,\n",
       " <tf.Tensor: shape=(), dtype=string, numpy=b'Johnny 100 Pesos (1993)'>,\n",
       " <tf.Tensor: shape=(), dtype=string, numpy=b\"Muriel's Wedding (1994)\">,\n",
       " <tf.Tensor: shape=(), dtype=string, numpy=b'Parent Trap, The (1961)'>,\n",
       " <tf.Tensor: shape=(), dtype=string, numpy=b'Amazing Panda Adventure, The (1995)'>,\n",
       " <tf.Tensor: shape=(), dtype=string, numpy=b'Nina Takes a Lover (1994)'>,\n",
       " <tf.Tensor: shape=(), dtype=string, numpy=b'Rising Sun (1993)'>,\n",
       " <tf.Tensor: shape=(), dtype=string, numpy=b'How to Be a Player (1997)'>,\n",
       " <tf.Tensor: shape=(), dtype=string, numpy=b'Powder (1995)'>,\n",
       " <tf.Tensor: shape=(), dtype=string, numpy=b'Oscar & Lucinda (1997)'>,\n",
       " <tf.Tensor: shape=(), dtype=string, numpy=b'Crying Game, The (1992)'>,\n",
       " <tf.Tensor: shape=(), dtype=string, numpy=b'N\\xc3\\xa9nette et Boni (1996)'>,\n",
       " <tf.Tensor: shape=(), dtype=string, numpy=b'Under Siege (1992)'>,\n",
       " <tf.Tensor: shape=(), dtype=string, numpy=b'When Harry Met Sally... (1989)'>,\n",
       " <tf.Tensor: shape=(), dtype=string, numpy=b'Drop Dead Fred (1991)'>,\n",
       " <tf.Tensor: shape=(), dtype=string, numpy=b'Spawn (1997)'>,\n",
       " <tf.Tensor: shape=(), dtype=string, numpy=b'Great Dictator, The (1940)'>,\n",
       " <tf.Tensor: shape=(), dtype=string, numpy=b'Three Caballeros, The (1945)'>,\n",
       " <tf.Tensor: shape=(), dtype=string, numpy=b'Purple Noon (1960)'>,\n",
       " <tf.Tensor: shape=(), dtype=string, numpy=b'Dr. Strangelove or: How I Learned to Stop Worrying and Love the Bomb (1963)'>,\n",
       " <tf.Tensor: shape=(), dtype=string, numpy=b'Cyrano de Bergerac (1990)'>,\n",
       " <tf.Tensor: shape=(), dtype=string, numpy=b'Fish Called Wanda, A (1988)'>,\n",
       " <tf.Tensor: shape=(), dtype=string, numpy=b'Mrs. Doubtfire (1993)'>,\n",
       " <tf.Tensor: shape=(), dtype=string, numpy=b'With Honors (1994)'>,\n",
       " <tf.Tensor: shape=(), dtype=string, numpy=b'Damsel in Distress, A (1937)'>,\n",
       " <tf.Tensor: shape=(), dtype=string, numpy=b'Devil in a Blue Dress (1995)'>,\n",
       " <tf.Tensor: shape=(), dtype=string, numpy=b'Bad Taste (1987)'>,\n",
       " <tf.Tensor: shape=(), dtype=string, numpy=b'Wizard of Oz, The (1939)'>,\n",
       " <tf.Tensor: shape=(), dtype=string, numpy=b'Flubber (1997)'>,\n",
       " <tf.Tensor: shape=(), dtype=string, numpy=b'Getting Away With Murder (1996)'>,\n",
       " <tf.Tensor: shape=(), dtype=string, numpy=b'Juror, The (1996)'>,\n",
       " <tf.Tensor: shape=(), dtype=string, numpy=b'Faces (1968)'>,\n",
       " <tf.Tensor: shape=(), dtype=string, numpy=b'Window to Paris (1994)'>,\n",
       " <tf.Tensor: shape=(), dtype=string, numpy=b'Simple Wish, A (1997)'>,\n",
       " <tf.Tensor: shape=(), dtype=string, numpy=b'Mr. Wonderful (1993)'>,\n",
       " <tf.Tensor: shape=(), dtype=string, numpy=b'Paris, Texas (1984)'>,\n",
       " <tf.Tensor: shape=(), dtype=string, numpy=b'Man Who Would Be King, The (1975)'>,\n",
       " <tf.Tensor: shape=(), dtype=string, numpy=b'Money Train (1995)'>,\n",
       " <tf.Tensor: shape=(), dtype=string, numpy=b'Freeway (1996)'>,\n",
       " <tf.Tensor: shape=(), dtype=string, numpy=b'Hamlet (1996)'>,\n",
       " <tf.Tensor: shape=(), dtype=string, numpy=b'Dunston Checks In (1996)'>,\n",
       " <tf.Tensor: shape=(), dtype=string, numpy=b'Black Beauty (1994)'>,\n",
       " <tf.Tensor: shape=(), dtype=string, numpy=b'Kiss of Death (1995)'>,\n",
       " <tf.Tensor: shape=(), dtype=string, numpy=b'U Turn (1997)'>,\n",
       " <tf.Tensor: shape=(), dtype=string, numpy=b'Last Time I Committed Suicide, The (1997)'>,\n",
       " <tf.Tensor: shape=(), dtype=string, numpy=b'Flirting With Disaster (1996)'>,\n",
       " <tf.Tensor: shape=(), dtype=string, numpy=b'Unhook the Stars (1996)'>,\n",
       " <tf.Tensor: shape=(), dtype=string, numpy=b'North (1994)'>,\n",
       " <tf.Tensor: shape=(), dtype=string, numpy=b'Set It Off (1996)'>,\n",
       " <tf.Tensor: shape=(), dtype=string, numpy=b\"Mr. Holland's Opus (1995)\">,\n",
       " <tf.Tensor: shape=(), dtype=string, numpy=b'Long Kiss Goodnight, The (1996)'>,\n",
       " <tf.Tensor: shape=(), dtype=string, numpy=b'Blues Brothers, The (1980)'>,\n",
       " <tf.Tensor: shape=(), dtype=string, numpy=b'Further Gesture, A (1996)'>,\n",
       " <tf.Tensor: shape=(), dtype=string, numpy=b'Boys in Venice (1996)'>,\n",
       " <tf.Tensor: shape=(), dtype=string, numpy=b'Crooklyn (1994)'>,\n",
       " <tf.Tensor: shape=(), dtype=string, numpy=b'That Old Feeling (1997)'>,\n",
       " <tf.Tensor: shape=(), dtype=string, numpy=b'Old Lady Who Walked in the Sea, The (Vieille qui marchait dans la mer, La) (1991)'>,\n",
       " <tf.Tensor: shape=(), dtype=string, numpy=b'To Have, or Not (1995)'>,\n",
       " <tf.Tensor: shape=(), dtype=string, numpy=b'Hideaway (1995)'>,\n",
       " <tf.Tensor: shape=(), dtype=string, numpy=b'Inspector General, The (1949)'>,\n",
       " <tf.Tensor: shape=(), dtype=string, numpy=b'Thousand Acres, A (1997)'>,\n",
       " <tf.Tensor: shape=(), dtype=string, numpy=b'Blue Sky (1994)'>,\n",
       " <tf.Tensor: shape=(), dtype=string, numpy=b'Saint, The (1997)'>,\n",
       " <tf.Tensor: shape=(), dtype=string, numpy=b'Poetic Justice (1993)'>,\n",
       " <tf.Tensor: shape=(), dtype=string, numpy=b'Shadow of Angels (Schatten der Engel) (1976)'>,\n",
       " <tf.Tensor: shape=(), dtype=string, numpy=b'Paris Is Burning (1990)'>,\n",
       " <tf.Tensor: shape=(), dtype=string, numpy=b'Everest (1998)'>,\n",
       " <tf.Tensor: shape=(), dtype=string, numpy=b'I Like It Like That (1994)'>,\n",
       " <tf.Tensor: shape=(), dtype=string, numpy=b'Nutty Professor, The (1996)'>,\n",
       " <tf.Tensor: shape=(), dtype=string, numpy=b'Party Girl (1995)'>,\n",
       " <tf.Tensor: shape=(), dtype=string, numpy=b'Circle of Friends (1995)'>,\n",
       " <tf.Tensor: shape=(), dtype=string, numpy=b'Wild Things (1998)'>,\n",
       " <tf.Tensor: shape=(), dtype=string, numpy=b'Angel Baby (1995)'>,\n",
       " <tf.Tensor: shape=(), dtype=string, numpy=b'Congo (1995)'>,\n",
       " <tf.Tensor: shape=(), dtype=string, numpy=b'Beautiful Thing (1996)'>,\n",
       " <tf.Tensor: shape=(), dtype=string, numpy=b'Brothers McMullen, The (1995)'>,\n",
       " <tf.Tensor: shape=(), dtype=string, numpy=b\"Ed's Next Move (1996)\">,\n",
       " <tf.Tensor: shape=(), dtype=string, numpy=b'Heathers (1989)'>,\n",
       " <tf.Tensor: shape=(), dtype=string, numpy=b'Bushwhacked (1995)'>,\n",
       " <tf.Tensor: shape=(), dtype=string, numpy=b'Beverly Hills Cop III (1994)'>,\n",
       " <tf.Tensor: shape=(), dtype=string, numpy=b'Ice Storm, The (1997)'>,\n",
       " <tf.Tensor: shape=(), dtype=string, numpy=b'Umbrellas of Cherbourg, The (Parapluies de Cherbourg, Les) (1964)'>,\n",
       " <tf.Tensor: shape=(), dtype=string, numpy=b'Basketball Diaries, The (1995)'>,\n",
       " <tf.Tensor: shape=(), dtype=string, numpy=b'Picnic (1955)'>,\n",
       " <tf.Tensor: shape=(), dtype=string, numpy=b'Sudden Manhattan (1996)'>,\n",
       " <tf.Tensor: shape=(), dtype=string, numpy=b'Jerry Maguire (1996)'>,\n",
       " <tf.Tensor: shape=(), dtype=string, numpy=b'Kissed (1996)'>,\n",
       " <tf.Tensor: shape=(), dtype=string, numpy=b'Pompatus of Love, The (1996)'>,\n",
       " <tf.Tensor: shape=(), dtype=string, numpy=b'Mark of Zorro, The (1940)'>,\n",
       " <tf.Tensor: shape=(), dtype=string, numpy=b'Hurricane Streets (1998)'>,\n",
       " <tf.Tensor: shape=(), dtype=string, numpy=b'Bedknobs and Broomsticks (1971)'>,\n",
       " <tf.Tensor: shape=(), dtype=string, numpy=b'Boys Life (1995)'>,\n",
       " <tf.Tensor: shape=(), dtype=string, numpy=b'Full Metal Jacket (1987)'>,\n",
       " <tf.Tensor: shape=(), dtype=string, numpy=b'Steel (1997)'>,\n",
       " <tf.Tensor: shape=(), dtype=string, numpy=b'True Romance (1993)'>,\n",
       " <tf.Tensor: shape=(), dtype=string, numpy=b'When a Man Loves a Woman (1994)'>,\n",
       " <tf.Tensor: shape=(), dtype=string, numpy=b'Farewell My Concubine (1993)'>,\n",
       " <tf.Tensor: shape=(), dtype=string, numpy=b'Crow, The (1994)'>,\n",
       " <tf.Tensor: shape=(), dtype=string, numpy=b'Thin Line Between Love and Hate, A (1996)'>,\n",
       " <tf.Tensor: shape=(), dtype=string, numpy=b'Murder, My Sweet (1944)'>,\n",
       " <tf.Tensor: shape=(), dtype=string, numpy=b'Mixed Nuts (1994)'>,\n",
       " <tf.Tensor: shape=(), dtype=string, numpy=b'When the Cats Away (Chacun cherche son chat) (1996)'>,\n",
       " <tf.Tensor: shape=(), dtype=string, numpy=b'Army of Darkness (1993)'>,\n",
       " <tf.Tensor: shape=(), dtype=string, numpy=b'Three Colors: Blue (1993)'>,\n",
       " <tf.Tensor: shape=(), dtype=string, numpy=b'Free Willy (1993)'>,\n",
       " <tf.Tensor: shape=(), dtype=string, numpy=b'Made in America (1993)'>,\n",
       " <tf.Tensor: shape=(), dtype=string, numpy=b'Princess Bride, The (1987)'>,\n",
       " <tf.Tensor: shape=(), dtype=string, numpy=b'Bridges of Madison County, The (1995)'>,\n",
       " <tf.Tensor: shape=(), dtype=string, numpy=b'Hercules (1997)'>,\n",
       " <tf.Tensor: shape=(), dtype=string, numpy=b'James and the Giant Peach (1996)'>,\n",
       " <tf.Tensor: shape=(), dtype=string, numpy=b'Jaws 3-D (1983)'>,\n",
       " <tf.Tensor: shape=(), dtype=string, numpy=b'12 Angry Men (1957)'>,\n",
       " <tf.Tensor: shape=(), dtype=string, numpy=b'Dingo (1992)'>,\n",
       " <tf.Tensor: shape=(), dtype=string, numpy=b'Spanking the Monkey (1994)'>,\n",
       " <tf.Tensor: shape=(), dtype=string, numpy=b'Nosferatu (Nosferatu, eine Symphonie des Grauens) (1922)'>,\n",
       " <tf.Tensor: shape=(), dtype=string, numpy=b'Paradise Road (1997)'>,\n",
       " <tf.Tensor: shape=(), dtype=string, numpy=b'Akira (1988)'>,\n",
       " <tf.Tensor: shape=(), dtype=string, numpy=b'I Know What You Did Last Summer (1997)'>,\n",
       " <tf.Tensor: shape=(), dtype=string, numpy=b'Casper (1995)'>,\n",
       " <tf.Tensor: shape=(), dtype=string, numpy=b'Suture (1993)'>,\n",
       " <tf.Tensor: shape=(), dtype=string, numpy=b'Bastard Out of Carolina (1996)'>,\n",
       " <tf.Tensor: shape=(), dtype=string, numpy=b'Chain Reaction (1996)'>,\n",
       " <tf.Tensor: shape=(), dtype=string, numpy=b'Scout, The (1994)'>,\n",
       " <tf.Tensor: shape=(), dtype=string, numpy=b'Promise, The (Versprechen, Das) (1994)'>,\n",
       " <tf.Tensor: shape=(), dtype=string, numpy=b'Davy Crockett, King of the Wild Frontier (1955)'>,\n",
       " <tf.Tensor: shape=(), dtype=string, numpy=b'Hot Shots! Part Deux (1993)'>,\n",
       " <tf.Tensor: shape=(), dtype=string, numpy=b'Tainted (1998)'>,\n",
       " <tf.Tensor: shape=(), dtype=string, numpy=b'Crucible, The (1996)'>,\n",
       " <tf.Tensor: shape=(), dtype=string, numpy=b'Stranger, The (1994)'>,\n",
       " <tf.Tensor: shape=(), dtype=string, numpy=b'Carrington (1995)'>,\n",
       " <tf.Tensor: shape=(), dtype=string, numpy=b'Good, The Bad and The Ugly, The (1966)'>,\n",
       " <tf.Tensor: shape=(), dtype=string, numpy=b'Shallow Grave (1994)'>,\n",
       " <tf.Tensor: shape=(), dtype=string, numpy=b'Some Kind of Wonderful (1987)'>,\n",
       " <tf.Tensor: shape=(), dtype=string, numpy=b'All Over Me (1997)'>,\n",
       " <tf.Tensor: shape=(), dtype=string, numpy=b'Here Comes Cookie (1935)'>,\n",
       " <tf.Tensor: shape=(), dtype=string, numpy=b'M*A*S*H (1970)'>,\n",
       " <tf.Tensor: shape=(), dtype=string, numpy=b'Ghost in the Shell (Kokaku kidotai) (1995)'>,\n",
       " <tf.Tensor: shape=(), dtype=string, numpy=b'Manhattan Murder Mystery (1993)'>,\n",
       " <tf.Tensor: shape=(), dtype=string, numpy=b'Nemesis 2: Nebula (1995)'>,\n",
       " <tf.Tensor: shape=(), dtype=string, numpy=b'Century (1993)'>,\n",
       " <tf.Tensor: shape=(), dtype=string, numpy=b'All Things Fair (1996)'>,\n",
       " <tf.Tensor: shape=(), dtype=string, numpy=b'Haunted World of Edward D. Wood Jr., The (1995)'>,\n",
       " <tf.Tensor: shape=(), dtype=string, numpy=b'I Shot Andy Warhol (1996)'>,\n",
       " <tf.Tensor: shape=(), dtype=string, numpy=b'Truth About Cats & Dogs, The (1996)'>,\n",
       " <tf.Tensor: shape=(), dtype=string, numpy=b'Waiting for Guffman (1996)'>,\n",
       " <tf.Tensor: shape=(), dtype=string, numpy=b'Judgment Night (1993)'>,\n",
       " <tf.Tensor: shape=(), dtype=string, numpy=b'In the Army Now (1994)'>,\n",
       " <tf.Tensor: shape=(), dtype=string, numpy=b'Slingshot, The (1993)'>,\n",
       " <tf.Tensor: shape=(), dtype=string, numpy=b\"Pyromaniac's Love Story, A (1995)\">,\n",
       " <tf.Tensor: shape=(), dtype=string, numpy=b'Whole Wide World, The (1996)'>,\n",
       " <tf.Tensor: shape=(), dtype=string, numpy=b'Gold Diggers: The Secret of Bear Mountain (1995)'>,\n",
       " <tf.Tensor: shape=(), dtype=string, numpy=b'Bliss (1997)'>,\n",
       " <tf.Tensor: shape=(), dtype=string, numpy=b'Boot, Das (1981)'>,\n",
       " <tf.Tensor: shape=(), dtype=string, numpy=b\"Antonia's Line (1995)\">,\n",
       " <tf.Tensor: shape=(), dtype=string, numpy=b'Alice in Wonderland (1951)'>,\n",
       " <tf.Tensor: shape=(), dtype=string, numpy=b'Hungarian Fairy Tale, A (1987)'>,\n",
       " <tf.Tensor: shape=(), dtype=string, numpy=b'Johns (1996)'>,\n",
       " <tf.Tensor: shape=(), dtype=string, numpy=b'Blood & Wine (1997)'>,\n",
       " <tf.Tensor: shape=(), dtype=string, numpy=b'Shanghai Triad (Yao a yao yao dao waipo qiao) (1995)'>,\n",
       " <tf.Tensor: shape=(), dtype=string, numpy=b'Mille bolle blu (1993)'>,\n",
       " <tf.Tensor: shape=(), dtype=string, numpy=b'Walk in the Sun, A (1945)'>,\n",
       " <tf.Tensor: shape=(), dtype=string, numpy=b'Madame Butterfly (1995)'>,\n",
       " <tf.Tensor: shape=(), dtype=string, numpy=b'Candidate, The (1972)'>,\n",
       " <tf.Tensor: shape=(), dtype=string, numpy=b'Bringing Up Baby (1938)'>,\n",
       " <tf.Tensor: shape=(), dtype=string, numpy=b'Beyond Rangoon (1995)'>,\n",
       " <tf.Tensor: shape=(), dtype=string, numpy=b'Dragonheart (1996)'>,\n",
       " <tf.Tensor: shape=(), dtype=string, numpy=b\"William Shakespeare's Romeo and Juliet (1996)\">,\n",
       " <tf.Tensor: shape=(), dtype=string, numpy=b'Withnail and I (1987)'>,\n",
       " <tf.Tensor: shape=(), dtype=string, numpy=b'Menace II Society (1993)'>,\n",
       " <tf.Tensor: shape=(), dtype=string, numpy=b'Son in Law (1993)'>,\n",
       " <tf.Tensor: shape=(), dtype=string, numpy=b'Condition Red (1995)'>,\n",
       " <tf.Tensor: shape=(), dtype=string, numpy=b'Anne Frank Remembered (1995)'>,\n",
       " <tf.Tensor: shape=(), dtype=string, numpy=b'Braindead (1992)'>,\n",
       " <tf.Tensor: shape=(), dtype=string, numpy=b'Liebelei (1933)'>,\n",
       " <tf.Tensor: shape=(), dtype=string, numpy=b'Cliffhanger (1993)'>,\n",
       " <tf.Tensor: shape=(), dtype=string, numpy=b'Wild America (1997)'>,\n",
       " <tf.Tensor: shape=(), dtype=string, numpy=b'Interview with the Vampire (1994)'>,\n",
       " <tf.Tensor: shape=(), dtype=string, numpy=b'Big Lebowski, The (1998)'>,\n",
       " <tf.Tensor: shape=(), dtype=string, numpy=b'Dumb & Dumber (1994)'>,\n",
       " <tf.Tensor: shape=(), dtype=string, numpy=b'Mrs. Brown (Her Majesty, Mrs. Brown) (1997)'>,\n",
       " <tf.Tensor: shape=(), dtype=string, numpy=b'When Night Is Falling (1995)'>,\n",
       " <tf.Tensor: shape=(), dtype=string, numpy=b'Kull the Conqueror (1997)'>,\n",
       " <tf.Tensor: shape=(), dtype=string, numpy=b'Jaws (1975)'>,\n",
       " <tf.Tensor: shape=(), dtype=string, numpy=b'Dangerous Beauty (1998)'>,\n",
       " <tf.Tensor: shape=(), dtype=string, numpy=b'Funny Face (1957)'>,\n",
       " <tf.Tensor: shape=(), dtype=string, numpy=b'Apollo 13 (1995)'>,\n",
       " <tf.Tensor: shape=(), dtype=string, numpy=b'Free Willy 2: The Adventure Home (1995)'>,\n",
       " <tf.Tensor: shape=(), dtype=string, numpy=b'Big Sleep, The (1946)'>,\n",
       " <tf.Tensor: shape=(), dtype=string, numpy=b'Woman in Question, The (1950)'>,\n",
       " <tf.Tensor: shape=(), dtype=string, numpy=b'City of Lost Children, The (1995)'>,\n",
       " <tf.Tensor: shape=(), dtype=string, numpy=b'Aladdin (1992)'>,\n",
       " <tf.Tensor: shape=(), dtype=string, numpy=b\"Gone Fishin' (1997)\">,\n",
       " <tf.Tensor: shape=(), dtype=string, numpy=b'Dangerous Minds (1995)'>,\n",
       " <tf.Tensor: shape=(), dtype=string, numpy=b'Bad Boys (1995)'>,\n",
       " <tf.Tensor: shape=(), dtype=string, numpy=b'Careful (1992)'>,\n",
       " <tf.Tensor: shape=(), dtype=string, numpy=b'8 Seconds (1994)'>,\n",
       " <tf.Tensor: shape=(), dtype=string, numpy=b'Dark City (1998)'>,\n",
       " <tf.Tensor: shape=(), dtype=string, numpy=b'Stealing Beauty (1996)'>,\n",
       " <tf.Tensor: shape=(), dtype=string, numpy=b'Lotto Land (1995)'>,\n",
       " <tf.Tensor: shape=(), dtype=string, numpy=b'To Cross the Rubicon (1991)'>,\n",
       " <tf.Tensor: shape=(), dtype=string, numpy=b'Citizen Ruth (1996)'>,\n",
       " <tf.Tensor: shape=(), dtype=string, numpy=b'Quiet Room, The (1996)'>,\n",
       " <tf.Tensor: shape=(), dtype=string, numpy=b'Chairman of the Board (1998)'>,\n",
       " <tf.Tensor: shape=(), dtype=string, numpy=b'Reluctant Debutante, The (1958)'>,\n",
       " <tf.Tensor: shape=(), dtype=string, numpy=b'Ill Gotten Gains (1997)'>,\n",
       " <tf.Tensor: shape=(), dtype=string, numpy=b'Air Up There, The (1994)'>,\n",
       " <tf.Tensor: shape=(), dtype=string, numpy=b'Lost in Space (1998)'>,\n",
       " <tf.Tensor: shape=(), dtype=string, numpy=b'Nico Icon (1995)'>,\n",
       " <tf.Tensor: shape=(), dtype=string, numpy=b'Killer: A Journal of Murder (1995)'>,\n",
       " <tf.Tensor: shape=(), dtype=string, numpy=b'Mute Witness (1994)'>,\n",
       " <tf.Tensor: shape=(), dtype=string, numpy=b'Quartier Mozart (1992)'>,\n",
       " <tf.Tensor: shape=(), dtype=string, numpy=b'Moonlight and Valentino (1995)'>,\n",
       " <tf.Tensor: shape=(), dtype=string, numpy=b'Fast, Cheap & Out of Control (1997)'>,\n",
       " <tf.Tensor: shape=(), dtype=string, numpy=b'Love Jones (1997)'>,\n",
       " <tf.Tensor: shape=(), dtype=string, numpy=b'Amityville: A New Generation (1993)'>,\n",
       " <tf.Tensor: shape=(), dtype=string, numpy=b'Wife, The (1995)'>,\n",
       " <tf.Tensor: shape=(), dtype=string, numpy=b'Scream 2 (1997)'>,\n",
       " <tf.Tensor: shape=(), dtype=string, numpy=b'Celestial Clockwork (1994)'>,\n",
       " <tf.Tensor: shape=(), dtype=string, numpy=b\"Devil's Advocate, The (1997)\">,\n",
       " <tf.Tensor: shape=(), dtype=string, numpy=b'Englishman Who Went Up a Hill, But Came Down a Mountain, The (1995)'>,\n",
       " <tf.Tensor: shape=(), dtype=string, numpy=b\"Eye of Vichy, The (Oeil de Vichy, L') (1993)\">,\n",
       " <tf.Tensor: shape=(), dtype=string, numpy=b'Backbeat (1993)'>,\n",
       " <tf.Tensor: shape=(), dtype=string, numpy=b'Body Parts (1991)'>,\n",
       " <tf.Tensor: shape=(), dtype=string, numpy=b'Winnie the Pooh and the Blustery Day (1968)'>,\n",
       " <tf.Tensor: shape=(), dtype=string, numpy=b'Free Willy 3: The Rescue (1997)'>,\n",
       " <tf.Tensor: shape=(), dtype=string, numpy=b'What Happened Was... (1994)'>,\n",
       " <tf.Tensor: shape=(), dtype=string, numpy=b'In the Realm of the Senses (Ai no corrida) (1976)'>,\n",
       " <tf.Tensor: shape=(), dtype=string, numpy=b'Bridge on the River Kwai, The (1957)'>,\n",
       " <tf.Tensor: shape=(), dtype=string, numpy=b'Halloween: The Curse of Michael Myers (1995)'>,\n",
       " <tf.Tensor: shape=(), dtype=string, numpy=b'Before the Rain (Pred dozhdot) (1994)'>,\n",
       " <tf.Tensor: shape=(), dtype=string, numpy=b'Mulholland Falls (1996)'>,\n",
       " <tf.Tensor: shape=(), dtype=string, numpy=b'Solo (1996)'>,\n",
       " <tf.Tensor: shape=(), dtype=string, numpy=b'Now and Then (1995)'>,\n",
       " <tf.Tensor: shape=(), dtype=string, numpy=b'Men in Black (1997)'>,\n",
       " <tf.Tensor: shape=(), dtype=string, numpy=b'That Thing You Do! (1996)'>,\n",
       " <tf.Tensor: shape=(), dtype=string, numpy=b'Omen, The (1976)'>,\n",
       " <tf.Tensor: shape=(), dtype=string, numpy=b'Man in the Iron Mask, The (1998)'>,\n",
       " <tf.Tensor: shape=(), dtype=string, numpy=b'Santa with Muscles (1996)'>,\n",
       " <tf.Tensor: shape=(), dtype=string, numpy=b'Big One, The (1997)'>,\n",
       " <tf.Tensor: shape=(), dtype=string, numpy=b'Blue Angel, The (Blaue Engel, Der) (1930)'>,\n",
       " <tf.Tensor: shape=(), dtype=string, numpy=b'Band Wagon, The (1953)'>,\n",
       " <tf.Tensor: shape=(), dtype=string, numpy=b'Night of the Living Dead (1968)'>,\n",
       " <tf.Tensor: shape=(), dtype=string, numpy=b'Cobb (1994)'>,\n",
       " <tf.Tensor: shape=(), dtype=string, numpy=b'I.Q. (1994)'>,\n",
       " <tf.Tensor: shape=(), dtype=string, numpy=b'Ninotchka (1939)'>,\n",
       " <tf.Tensor: shape=(), dtype=string, numpy=b'They Made Me a Criminal (1939)'>,\n",
       " <tf.Tensor: shape=(), dtype=string, numpy=b'Even Cowgirls Get the Blues (1993)'>,\n",
       " <tf.Tensor: shape=(), dtype=string, numpy=b\"Marvin's Room (1996)\">,\n",
       " <tf.Tensor: shape=(), dtype=string, numpy=b'Three Musketeers, The (1993)'>,\n",
       " <tf.Tensor: shape=(), dtype=string, numpy=b'Farmer & Chase (1995)'>,\n",
       " <tf.Tensor: shape=(), dtype=string, numpy=b'Gate of Heavenly Peace, The (1995)'>,\n",
       " <tf.Tensor: shape=(), dtype=string, numpy=b'Radioland Murders (1994)'>,\n",
       " <tf.Tensor: shape=(), dtype=string, numpy=b'Curdled (1996)'>,\n",
       " <tf.Tensor: shape=(), dtype=string, numpy=b'Renaissance Man (1994)'>,\n",
       " <tf.Tensor: shape=(), dtype=string, numpy=b'Beavis and Butt-head Do America (1996)'>,\n",
       " <tf.Tensor: shape=(), dtype=string, numpy=b'Coldblooded (1995)'>,\n",
       " <tf.Tensor: shape=(), dtype=string, numpy=b'Village of the Damned (1995)'>,\n",
       " <tf.Tensor: shape=(), dtype=string, numpy=b'Jury Duty (1995)'>,\n",
       " <tf.Tensor: shape=(), dtype=string, numpy=b'Month by the Lake, A (1995)'>,\n",
       " <tf.Tensor: shape=(), dtype=string, numpy=b'Vermont Is For Lovers (1992)'>,\n",
       " <tf.Tensor: shape=(), dtype=string, numpy=b'Notorious (1946)'>,\n",
       " <tf.Tensor: shape=(), dtype=string, numpy=b\"Ulee's Gold (1997)\">,\n",
       " <tf.Tensor: shape=(), dtype=string, numpy=b'Tank Girl (1995)'>,\n",
       " <tf.Tensor: shape=(), dtype=string, numpy=b'Welcome To Sarajevo (1997)'>,\n",
       " <tf.Tensor: shape=(), dtype=string, numpy=b'Junior (1994)'>,\n",
       " <tf.Tensor: shape=(), dtype=string, numpy=b'Cyclo (1995)'>,\n",
       " <tf.Tensor: shape=(), dtype=string, numpy=b'Transformers: The Movie, The (1986)'>,\n",
       " <tf.Tensor: shape=(), dtype=string, numpy=b'Secret Garden, The (1993)'>,\n",
       " <tf.Tensor: shape=(), dtype=string, numpy=b\"My Best Friend's Wedding (1997)\">,\n",
       " <tf.Tensor: shape=(), dtype=string, numpy=b'Three Colors: Red (1994)'>,\n",
       " <tf.Tensor: shape=(), dtype=string, numpy=b'Man of the Year (1995)'>,\n",
       " <tf.Tensor: shape=(), dtype=string, numpy=b'Perfect Candidate, A (1996)'>,\n",
       " <tf.Tensor: shape=(), dtype=string, numpy=b'Designated Mourner, The (1997)'>,\n",
       " <tf.Tensor: shape=(), dtype=string, numpy=b'Hotel de Love (1996)'>,\n",
       " <tf.Tensor: shape=(), dtype=string, numpy=b'Nadja (1994)'>,\n",
       " <tf.Tensor: shape=(), dtype=string, numpy=b'New Jersey Drive (1995)'>,\n",
       " <tf.Tensor: shape=(), dtype=string, numpy=b'Eddie (1996)'>,\n",
       " <tf.Tensor: shape=(), dtype=string, numpy=b'Wolf (1994)'>,\n",
       " <tf.Tensor: shape=(), dtype=string, numpy=b'In the Line of Fire (1993)'>,\n",
       " <tf.Tensor: shape=(), dtype=string, numpy=b'Star Trek: The Wrath of Khan (1982)'>,\n",
       " <tf.Tensor: shape=(), dtype=string, numpy=b'Extreme Measures (1996)'>,\n",
       " <tf.Tensor: shape=(), dtype=string, numpy=b'Chairman of the Board (1998)'>,\n",
       " <tf.Tensor: shape=(), dtype=string, numpy=b'Wings of Courage (1995)'>,\n",
       " <tf.Tensor: shape=(), dtype=string, numpy=b'Alien 3 (1992)'>,\n",
       " <tf.Tensor: shape=(), dtype=string, numpy=b'Amityville Curse, The (1990)'>,\n",
       " <tf.Tensor: shape=(), dtype=string, numpy=b'Deceiver (1997)'>,\n",
       " <tf.Tensor: shape=(), dtype=string, numpy=b'Killing Zoe (1994)'>,\n",
       " <tf.Tensor: shape=(), dtype=string, numpy=b'Bob Roberts (1992)'>,\n",
       " <tf.Tensor: shape=(), dtype=string, numpy=b'While You Were Sleeping (1995)'>,\n",
       " <tf.Tensor: shape=(), dtype=string, numpy=b'Kim (1950)'>,\n",
       " <tf.Tensor: shape=(), dtype=string, numpy=b'Days of Thunder (1990)'>,\n",
       " <tf.Tensor: shape=(), dtype=string, numpy=b'Tom and Huck (1995)'>,\n",
       " <tf.Tensor: shape=(), dtype=string, numpy=b'Dirty Dancing (1987)'>,\n",
       " <tf.Tensor: shape=(), dtype=string, numpy=b'Ma vie en rose (My Life in Pink) (1997)'>,\n",
       " <tf.Tensor: shape=(), dtype=string, numpy=b'Letter From Death Row, A (1998)'>,\n",
       " <tf.Tensor: shape=(), dtype=string, numpy=b'American Dream (1990)'>,\n",
       " <tf.Tensor: shape=(), dtype=string, numpy=b'Amityville II: The Possession (1982)'>,\n",
       " <tf.Tensor: shape=(), dtype=string, numpy=b'Postino, Il (1994)'>,\n",
       " <tf.Tensor: shape=(), dtype=string, numpy=b'Bhaji on the Beach (1993)'>,\n",
       " <tf.Tensor: shape=(), dtype=string, numpy=b'My Left Foot (1989)'>,\n",
       " <tf.Tensor: shape=(), dtype=string, numpy=b'Cool Hand Luke (1967)'>,\n",
       " <tf.Tensor: shape=(), dtype=string, numpy=b'Air Bud (1997)'>,\n",
       " <tf.Tensor: shape=(), dtype=string, numpy=b'Butcher Boy, The (1998)'>,\n",
       " <tf.Tensor: shape=(), dtype=string, numpy=b'Shooting Fish (1997)'>,\n",
       " <tf.Tensor: shape=(), dtype=string, numpy=b'Up Close and Personal (1996)'>,\n",
       " <tf.Tensor: shape=(), dtype=string, numpy=b'Double Team (1997)'>,\n",
       " <tf.Tensor: shape=(), dtype=string, numpy=b'Enchanted April (1991)'>,\n",
       " <tf.Tensor: shape=(), dtype=string, numpy=b'Crossfire (1947)'>,\n",
       " <tf.Tensor: shape=(), dtype=string, numpy=b'D3: The Mighty Ducks (1996)'>,\n",
       " <tf.Tensor: shape=(), dtype=string, numpy=b'Grease 2 (1982)'>,\n",
       " <tf.Tensor: shape=(), dtype=string, numpy=b'War Room, The (1993)'>,\n",
       " <tf.Tensor: shape=(), dtype=string, numpy=b'East of Eden (1955)'>,\n",
       " <tf.Tensor: shape=(), dtype=string, numpy=b\"Jason's Lyric (1994)\">,\n",
       " <tf.Tensor: shape=(), dtype=string, numpy=b'Mad Love (1995)'>,\n",
       " <tf.Tensor: shape=(), dtype=string, numpy=b'Cutthroat Island (1995)'>,\n",
       " <tf.Tensor: shape=(), dtype=string, numpy=b'Right Stuff, The (1983)'>,\n",
       " <tf.Tensor: shape=(), dtype=string, numpy=b'French Twist (Gazon maudit) (1995)'>,\n",
       " <tf.Tensor: shape=(), dtype=string, numpy=b'Cook the Thief His Wife & Her Lover, The (1989)'>,\n",
       " <tf.Tensor: shape=(), dtype=string, numpy=b'Kika (1993)'>,\n",
       " <tf.Tensor: shape=(), dtype=string, numpy=b'8 1/2 (1963)'>,\n",
       " <tf.Tensor: shape=(), dtype=string, numpy=b'Star Kid (1997)'>,\n",
       " <tf.Tensor: shape=(), dtype=string, numpy=b'Tales From the Crypt Presents: Demon Knight (1995)'>,\n",
       " <tf.Tensor: shape=(), dtype=string, numpy=b'Tales from the Crypt Presents: Bordello of Blood (1996)'>,\n",
       " <tf.Tensor: shape=(), dtype=string, numpy=b'Assignment, The (1997)'>,\n",
       " <tf.Tensor: shape=(), dtype=string, numpy=b'Prophecy II, The (1998)'>,\n",
       " <tf.Tensor: shape=(), dtype=string, numpy=b'Like Water For Chocolate (Como agua para chocolate) (1992)'>,\n",
       " <tf.Tensor: shape=(), dtype=string, numpy=b'Caro Diario (Dear Diary) (1994)'>,\n",
       " <tf.Tensor: shape=(), dtype=string, numpy=b'Career Girls (1997)'>,\n",
       " <tf.Tensor: shape=(), dtype=string, numpy=b'Wrong Trousers, The (1993)'>,\n",
       " <tf.Tensor: shape=(), dtype=string, numpy=b'Conan the Barbarian (1981)'>,\n",
       " <tf.Tensor: shape=(), dtype=string, numpy=b'Adventures of Robin Hood, The (1938)'>,\n",
       " <tf.Tensor: shape=(), dtype=string, numpy=b'Short Cuts (1993)'>,\n",
       " <tf.Tensor: shape=(), dtype=string, numpy=b'Newton Boys, The (1998)'>,\n",
       " <tf.Tensor: shape=(), dtype=string, numpy=b'Walk in the Clouds, A (1995)'>,\n",
       " <tf.Tensor: shape=(), dtype=string, numpy=b'Santa Clause, The (1994)'>,\n",
       " <tf.Tensor: shape=(), dtype=string, numpy=b'Destiny Turns on the Radio (1995)'>,\n",
       " <tf.Tensor: shape=(), dtype=string, numpy=b'Aladdin and the King of Thieves (1996)'>,\n",
       " <tf.Tensor: shape=(), dtype=string, numpy=b'Blues Brothers 2000 (1998)'>,\n",
       " <tf.Tensor: shape=(), dtype=string, numpy=b'Striking Distance (1993)'>,\n",
       " <tf.Tensor: shape=(), dtype=string, numpy=b'Pink Floyd - The Wall (1982)'>,\n",
       " <tf.Tensor: shape=(), dtype=string, numpy=b'Zeus and Roxanne (1997)'>,\n",
       " <tf.Tensor: shape=(), dtype=string, numpy=b'GoodFellas (1990)'>,\n",
       " <tf.Tensor: shape=(), dtype=string, numpy=b'Birds, The (1963)'>,\n",
       " <tf.Tensor: shape=(), dtype=string, numpy=b'Oliver & Company (1988)'>,\n",
       " <tf.Tensor: shape=(), dtype=string, numpy=b'Desperate Measures (1998)'>,\n",
       " <tf.Tensor: shape=(), dtype=string, numpy=b'2001: A Space Odyssey (1968)'>,\n",
       " <tf.Tensor: shape=(), dtype=string, numpy=b'Basic Instinct (1992)'>,\n",
       " <tf.Tensor: shape=(), dtype=string, numpy=b'Substance of Fire, The (1996)'>,\n",
       " <tf.Tensor: shape=(), dtype=string, numpy=b'Cool Runnings (1993)'>,\n",
       " <tf.Tensor: shape=(), dtype=string, numpy=b\"Don't Be a Menace to South Central While Drinking Your Juice in the Hood (1996)\">,\n",
       " <tf.Tensor: shape=(), dtype=string, numpy=b'Lashou shentan (1992)'>,\n",
       " <tf.Tensor: shape=(), dtype=string, numpy=b'Bed of Roses (1996)'>,\n",
       " <tf.Tensor: shape=(), dtype=string, numpy=b'Delicatessen (1991)'>,\n",
       " <tf.Tensor: shape=(), dtype=string, numpy=b'Airheads (1994)'>,\n",
       " <tf.Tensor: shape=(), dtype=string, numpy=b'Titanic (1997)'>,\n",
       " <tf.Tensor: shape=(), dtype=string, numpy=b\"Kid in King Arthur's Court, A (1995)\">,\n",
       " <tf.Tensor: shape=(), dtype=string, numpy=b'Sleepless in Seattle (1993)'>,\n",
       " <tf.Tensor: shape=(), dtype=string, numpy=b'The Courtyard (1995)'>,\n",
       " <tf.Tensor: shape=(), dtype=string, numpy=b'Fled (1996)'>,\n",
       " <tf.Tensor: shape=(), dtype=string, numpy=b'Guilty as Sin (1993)'>,\n",
       " <tf.Tensor: shape=(), dtype=string, numpy=b\"Daniel Defoe's Robinson Crusoe (1996)\">,\n",
       " <tf.Tensor: shape=(), dtype=string, numpy=b'Daytrippers, The (1996)'>,\n",
       " <tf.Tensor: shape=(), dtype=string, numpy=b'Desperado (1995)'>,\n",
       " <tf.Tensor: shape=(), dtype=string, numpy=b'Poison Ivy II (1995)'>,\n",
       " <tf.Tensor: shape=(), dtype=string, numpy=b'Neon Bible, The (1995)'>,\n",
       " <tf.Tensor: shape=(), dtype=string, numpy=b'Nell (1994)'>,\n",
       " <tf.Tensor: shape=(), dtype=string, numpy=b'Happy Gilmore (1996)'>,\n",
       " <tf.Tensor: shape=(), dtype=string, numpy=b'Mad Dog Time (1996)'>,\n",
       " <tf.Tensor: shape=(), dtype=string, numpy=b'Magnificent Seven, The (1954)'>,\n",
       " <tf.Tensor: shape=(), dtype=string, numpy=b'Dream With the Fishes (1997)'>,\n",
       " <tf.Tensor: shape=(), dtype=string, numpy=b'Playing God (1997)'>,\n",
       " <tf.Tensor: shape=(), dtype=string, numpy=b'Nightwatch (1997)'>,\n",
       " <tf.Tensor: shape=(), dtype=string, numpy=b'Young Guns (1988)'>,\n",
       " <tf.Tensor: shape=(), dtype=string, numpy=b'Top Gun (1986)'>,\n",
       " <tf.Tensor: shape=(), dtype=string, numpy=b'L.A. Confidential (1997)'>,\n",
       " <tf.Tensor: shape=(), dtype=string, numpy=b'City of Angels (1998)'>,\n",
       " <tf.Tensor: shape=(), dtype=string, numpy=b'Star Wars (1977)'>,\n",
       " <tf.Tensor: shape=(), dtype=string, numpy=b'Star Trek: First Contact (1996)'>,\n",
       " <tf.Tensor: shape=(), dtype=string, numpy=b'Night Falls on Manhattan (1997)'>,\n",
       " <tf.Tensor: shape=(), dtype=string, numpy=b'Higher Learning (1995)'>,\n",
       " <tf.Tensor: shape=(), dtype=string, numpy=b'Third Man, The (1949)'>,\n",
       " <tf.Tensor: shape=(), dtype=string, numpy=b'Firm, The (1993)'>,\n",
       " <tf.Tensor: shape=(), dtype=string, numpy=b'Buddy (1997)'>,\n",
       " <tf.Tensor: shape=(), dtype=string, numpy=b'SubUrbia (1997)'>,\n",
       " <tf.Tensor: shape=(), dtype=string, numpy=b'Crumb (1994)'>,\n",
       " <tf.Tensor: shape=(), dtype=string, numpy=b'Celluloid Closet, The (1995)'>,\n",
       " <tf.Tensor: shape=(), dtype=string, numpy=b'Koyaanisqatsi (1983)'>,\n",
       " <tf.Tensor: shape=(), dtype=string, numpy=b'To Gillian on Her 37th Birthday (1996)'>,\n",
       " <tf.Tensor: shape=(), dtype=string, numpy=b'Best of the Best 3: No Turning Back (1995)'>,\n",
       " <tf.Tensor: shape=(), dtype=string, numpy=b'Love! Valour! Compassion! (1997)'>,\n",
       " <tf.Tensor: shape=(), dtype=string, numpy=b'Lady of Burlesque (1943)'>,\n",
       " <tf.Tensor: shape=(), dtype=string, numpy=b'Carried Away (1996)'>,\n",
       " <tf.Tensor: shape=(), dtype=string, numpy=b'Friday (1995)'>,\n",
       " <tf.Tensor: shape=(), dtype=string, numpy=b'Kids (1995)'>,\n",
       " <tf.Tensor: shape=(), dtype=string, numpy=b'39 Steps, The (1935)'>,\n",
       " <tf.Tensor: shape=(), dtype=string, numpy=b'My Man Godfrey (1936)'>,\n",
       " <tf.Tensor: shape=(), dtype=string, numpy=b'Chasing Amy (1997)'>,\n",
       " <tf.Tensor: shape=(), dtype=string, numpy=b\"One Flew Over the Cuckoo's Nest (1975)\">,\n",
       " <tf.Tensor: shape=(), dtype=string, numpy=b'Faster Pussycat! Kill! Kill! (1965)'>,\n",
       " <tf.Tensor: shape=(), dtype=string, numpy=b'Manhattan (1979)'>,\n",
       " <tf.Tensor: shape=(), dtype=string, numpy=b'High School High (1996)'>,\n",
       " <tf.Tensor: shape=(), dtype=string, numpy=b'Rent-a-Kid (1995)'>,\n",
       " <tf.Tensor: shape=(), dtype=string, numpy=b'Body Snatchers (1993)'>,\n",
       " <tf.Tensor: shape=(), dtype=string, numpy=b'For Whom the Bell Tolls (1943)'>,\n",
       " <tf.Tensor: shape=(), dtype=string, numpy=b'Last Klezmer: Leopold Kozlowski, His Life and Music, The (1995)'>,\n",
       " <tf.Tensor: shape=(), dtype=string, numpy=b'Symphonie pastorale, La (1946)'>,\n",
       " <tf.Tensor: shape=(), dtype=string, numpy=b'Butterfly Kiss (1995)'>,\n",
       " <tf.Tensor: shape=(), dtype=string, numpy=b'Hear My Song (1991)'>,\n",
       " <tf.Tensor: shape=(), dtype=string, numpy=b'Specialist, The (1994)'>,\n",
       " <tf.Tensor: shape=(), dtype=string, numpy=b'Love and Other Catastrophes (1996)'>,\n",
       " <tf.Tensor: shape=(), dtype=string, numpy=b'Clear and Present Danger (1994)'>,\n",
       " <tf.Tensor: shape=(), dtype=string, numpy=b'Addiction, The (1995)'>,\n",
       " <tf.Tensor: shape=(), dtype=string, numpy=b'Judge Dredd (1995)'>,\n",
       " <tf.Tensor: shape=(), dtype=string, numpy=b'Angus (1995)'>,\n",
       " <tf.Tensor: shape=(), dtype=string, numpy=b'Persuasion (1995)'>,\n",
       " <tf.Tensor: shape=(), dtype=string, numpy=b'Fear, The (1995)'>,\n",
       " <tf.Tensor: shape=(), dtype=string, numpy=b'Raiders of the Lost Ark (1981)'>,\n",
       " <tf.Tensor: shape=(), dtype=string, numpy=b'Lay of the Land, The (1997)'>,\n",
       " <tf.Tensor: shape=(), dtype=string, numpy=b'Faust (1994)'>,\n",
       " <tf.Tensor: shape=(), dtype=string, numpy=b'Local Hero (1983)'>,\n",
       " <tf.Tensor: shape=(), dtype=string, numpy=b'It Happened One Night (1934)'>,\n",
       " <tf.Tensor: shape=(), dtype=string, numpy=b'Funeral, The (1996)'>,\n",
       " <tf.Tensor: shape=(), dtype=string, numpy=b'Blade Runner (1982)'>,\n",
       " <tf.Tensor: shape=(), dtype=string, numpy=b'Brother Minister: The Assassination of Malcolm X (1994)'>,\n",
       " <tf.Tensor: shape=(), dtype=string, numpy=b'Good Will Hunting (1997)'>,\n",
       " <tf.Tensor: shape=(), dtype=string, numpy=b'Charade (1963)'>,\n",
       " <tf.Tensor: shape=(), dtype=string, numpy=b'Portrait of a Lady, The (1996)'>,\n",
       " <tf.Tensor: shape=(), dtype=string, numpy=b\"Gilligan's Island: The Movie (1998)\">,\n",
       " <tf.Tensor: shape=(), dtype=string, numpy=b'Day the Sun Turned Cold, The (Tianguo niezi) (1994)'>,\n",
       " <tf.Tensor: shape=(), dtype=string, numpy=b'Farinelli: il castrato (1994)'>,\n",
       " <tf.Tensor: shape=(), dtype=string, numpy=b'Bound (1996)'>,\n",
       " <tf.Tensor: shape=(), dtype=string, numpy=b'Braveheart (1995)'>,\n",
       " <tf.Tensor: shape=(), dtype=string, numpy=b'Clean Slate (Coup de Torchon) (1981)'>,\n",
       " <tf.Tensor: shape=(), dtype=string, numpy=b'Exotica (1994)'>,\n",
       " <tf.Tensor: shape=(), dtype=string, numpy=b'Substitute, The (1996)'>,\n",
       " <tf.Tensor: shape=(), dtype=string, numpy=b'This Is Spinal Tap (1984)'>,\n",
       " <tf.Tensor: shape=(), dtype=string, numpy=b'Wishmaster (1997)'>,\n",
       " <tf.Tensor: shape=(), dtype=string, numpy=b'Strawberry and Chocolate (Fresa y chocolate) (1993)'>,\n",
       " <tf.Tensor: shape=(), dtype=string, numpy=b'Room with a View, A (1986)'>,\n",
       " <tf.Tensor: shape=(), dtype=string, numpy=b'Fugitive, The (1993)'>,\n",
       " <tf.Tensor: shape=(), dtype=string, numpy=b'Air Force One (1997)'>,\n",
       " <tf.Tensor: shape=(), dtype=string, numpy=b'Mary Reilly (1996)'>,\n",
       " <tf.Tensor: shape=(), dtype=string, numpy=b'Beautician and the Beast, The (1997)'>,\n",
       " <tf.Tensor: shape=(), dtype=string, numpy=b'Old Man and the Sea, The (1958)'>,\n",
       " <tf.Tensor: shape=(), dtype=string, numpy=b'Love Bug, The (1969)'>,\n",
       " <tf.Tensor: shape=(), dtype=string, numpy=b'Boxing Helena (1993)'>,\n",
       " <tf.Tensor: shape=(), dtype=string, numpy=b\"Monty Python's Life of Brian (1979)\">,\n",
       " <tf.Tensor: shape=(), dtype=string, numpy=b'Day the Earth Stood Still, The (1951)'>,\n",
       " <tf.Tensor: shape=(), dtype=string, numpy=b'Great Race, The (1965)'>,\n",
       " <tf.Tensor: shape=(), dtype=string, numpy=b'Rocket Man (1997)'>,\n",
       " <tf.Tensor: shape=(), dtype=string, numpy=b'Smoke (1995)'>,\n",
       " <tf.Tensor: shape=(), dtype=string, numpy=b'Women, The (1939)'>,\n",
       " <tf.Tensor: shape=(), dtype=string, numpy=b'Little Big League (1994)'>,\n",
       " <tf.Tensor: shape=(), dtype=string, numpy=b'Caught (1996)'>,\n",
       " <tf.Tensor: shape=(), dtype=string, numpy=b'To Die For (1995)'>,\n",
       " <tf.Tensor: shape=(), dtype=string, numpy=b'Around the World in 80 Days (1956)'>,\n",
       " <tf.Tensor: shape=(), dtype=string, numpy=b'Sirens (1994)'>,\n",
       " <tf.Tensor: shape=(), dtype=string, numpy=b'Kundun (1997)'>,\n",
       " <tf.Tensor: shape=(), dtype=string, numpy=b'Telling Lies in America (1997)'>,\n",
       " <tf.Tensor: shape=(), dtype=string, numpy=b'Beverly Hillbillies, The (1993)'>,\n",
       " <tf.Tensor: shape=(), dtype=string, numpy=b'Shall We Dance? (1996)'>,\n",
       " <tf.Tensor: shape=(), dtype=string, numpy=b\"Mary Shelley's Frankenstein (1994)\">,\n",
       " <tf.Tensor: shape=(), dtype=string, numpy=b'Burnt Offerings (1976)'>,\n",
       " <tf.Tensor: shape=(), dtype=string, numpy=b'Top Hat (1935)'>,\n",
       " <tf.Tensor: shape=(), dtype=string, numpy=b'Substance of Fire, The (1996)'>,\n",
       " <tf.Tensor: shape=(), dtype=string, numpy=b'Hana-bi (1997)'>,\n",
       " <tf.Tensor: shape=(), dtype=string, numpy=b'First Wives Club, The (1996)'>,\n",
       " <tf.Tensor: shape=(), dtype=string, numpy=b'Copycat (1995)'>,\n",
       " <tf.Tensor: shape=(), dtype=string, numpy=b\"Amityville 1992: It's About Time (1992)\">,\n",
       " <tf.Tensor: shape=(), dtype=string, numpy=b'Scarlet Letter, The (1926)'>,\n",
       " <tf.Tensor: shape=(), dtype=string, numpy=b\"Things to Do in Denver when You're Dead (1995)\">,\n",
       " <tf.Tensor: shape=(), dtype=string, numpy=b'Hush (1998)'>,\n",
       " <tf.Tensor: shape=(), dtype=string, numpy=b'In the Bleak Midwinter (1995)'>,\n",
       " <tf.Tensor: shape=(), dtype=string, numpy=b'Island of Dr. Moreau, The (1996)'>,\n",
       " <tf.Tensor: shape=(), dtype=string, numpy=b'Cement Garden, The (1993)'>,\n",
       " <tf.Tensor: shape=(), dtype=string, numpy=b'Once Upon a Time... When We Were Colored (1995)'>,\n",
       " <tf.Tensor: shape=(), dtype=string, numpy=b'Nightwatch (1997)'>,\n",
       " <tf.Tensor: shape=(), dtype=string, numpy=b'Rosencrantz and Guildenstern Are Dead (1990)'>,\n",
       " <tf.Tensor: shape=(), dtype=string, numpy=b'Shadow, The (1994)'>,\n",
       " <tf.Tensor: shape=(), dtype=string, numpy=b'Dave (1993)'>,\n",
       " <tf.Tensor: shape=(), dtype=string, numpy=b'Fan, The (1996)'>,\n",
       " <tf.Tensor: shape=(), dtype=string, numpy=b'Face/Off (1997)'>,\n",
       " <tf.Tensor: shape=(), dtype=string, numpy=b'Simple Twist of Fate, A (1994)'>,\n",
       " <tf.Tensor: shape=(), dtype=string, numpy=b'Monty Python and the Holy Grail (1974)'>,\n",
       " <tf.Tensor: shape=(), dtype=string, numpy=b'Six Degrees of Separation (1993)'>,\n",
       " <tf.Tensor: shape=(), dtype=string, numpy=b'Hugo Pool (1997)'>,\n",
       " <tf.Tensor: shape=(), dtype=string, numpy=b'An Unforgettable Summer (1994)'>,\n",
       " <tf.Tensor: shape=(), dtype=string, numpy=b'Jingle All the Way (1996)'>,\n",
       " <tf.Tensor: shape=(), dtype=string, numpy=b'Belle de jour (1967)'>,\n",
       " <tf.Tensor: shape=(), dtype=string, numpy=b'Better Off Dead... (1985)'>,\n",
       " <tf.Tensor: shape=(), dtype=string, numpy=b'Robin Hood: Prince of Thieves (1991)'>,\n",
       " <tf.Tensor: shape=(), dtype=string, numpy=b\"White Man's Burden (1995)\">,\n",
       " <tf.Tensor: shape=(), dtype=string, numpy=b'Bye Bye, Love (1995)'>,\n",
       " <tf.Tensor: shape=(), dtype=string, numpy=b'Run of the Country, The (1995)'>,\n",
       " <tf.Tensor: shape=(), dtype=string, numpy=b'Barbarella (1968)'>,\n",
       " <tf.Tensor: shape=(), dtype=string, numpy=b'Foreign Correspondent (1940)'>,\n",
       " <tf.Tensor: shape=(), dtype=string, numpy=b'Ref, The (1994)'>,\n",
       " <tf.Tensor: shape=(), dtype=string, numpy=b'Until the End of the World (Bis ans Ende der Welt) (1991)'>,\n",
       " <tf.Tensor: shape=(), dtype=string, numpy=b'Independence Day (ID4) (1996)'>,\n",
       " <tf.Tensor: shape=(), dtype=string, numpy=b'Vegas Vacation (1997)'>,\n",
       " <tf.Tensor: shape=(), dtype=string, numpy=b'Story of Xinghua, The (1993)'>,\n",
       " <tf.Tensor: shape=(), dtype=string, numpy=b'Tin Drum, The (Blechtrommel, Die) (1979)'>,\n",
       " <tf.Tensor: shape=(), dtype=string, numpy=b'Shall We Dance? (1937)'>,\n",
       " <tf.Tensor: shape=(), dtype=string, numpy=b'Love in the Afternoon (1957)'>,\n",
       " <tf.Tensor: shape=(), dtype=string, numpy=b'Secret of Roan Inish, The (1994)'>,\n",
       " <tf.Tensor: shape=(), dtype=string, numpy=b'Boomerang (1992)'>,\n",
       " <tf.Tensor: shape=(), dtype=string, numpy=b'Dazed and Confused (1993)'>,\n",
       " <tf.Tensor: shape=(), dtype=string, numpy=b'Return of the Pink Panther, The (1974)'>,\n",
       " <tf.Tensor: shape=(), dtype=string, numpy=b'Down Periscope (1996)'>,\n",
       " <tf.Tensor: shape=(), dtype=string, numpy=b'Amistad (1997)'>,\n",
       " <tf.Tensor: shape=(), dtype=string, numpy=b'My Fair Lady (1964)'>,\n",
       " <tf.Tensor: shape=(), dtype=string, numpy=b'Gigi (1958)'>,\n",
       " <tf.Tensor: shape=(), dtype=string, numpy=b'Safe (1995)'>,\n",
       " <tf.Tensor: shape=(), dtype=string, numpy=b'Chasing Amy (1997)'>,\n",
       " <tf.Tensor: shape=(), dtype=string, numpy=b'Coneheads (1993)'>,\n",
       " <tf.Tensor: shape=(), dtype=string, numpy=b'Sword in the Stone, The (1963)'>,\n",
       " <tf.Tensor: shape=(), dtype=string, numpy=b'Aristocats, The (1970)'>,\n",
       " <tf.Tensor: shape=(), dtype=string, numpy=b'Mask, The (1994)'>,\n",
       " <tf.Tensor: shape=(), dtype=string, numpy=b'Last Action Hero (1993)'>,\n",
       " <tf.Tensor: shape=(), dtype=string, numpy=b'Bulletproof (1996)'>,\n",
       " <tf.Tensor: shape=(), dtype=string, numpy=b'Boys of St. Vincent, The (1993)'>,\n",
       " <tf.Tensor: shape=(), dtype=string, numpy=b'Winter Guest, The (1997)'>,\n",
       " <tf.Tensor: shape=(), dtype=string, numpy=b'Van, The (1996)'>,\n",
       " <tf.Tensor: shape=(), dtype=string, numpy=b'Alien (1979)'>,\n",
       " <tf.Tensor: shape=(), dtype=string, numpy=b'B*A*P*S (1997)'>,\n",
       " <tf.Tensor: shape=(), dtype=string, numpy=b'Favor, The (1994)'>,\n",
       " <tf.Tensor: shape=(), dtype=string, numpy=b\"Cats Don't Dance (1997)\">,\n",
       " <tf.Tensor: shape=(), dtype=string, numpy=b'Supercop (1992)'>,\n",
       " <tf.Tensor: shape=(), dtype=string, numpy=b'Life with Mikey (1993)'>,\n",
       " <tf.Tensor: shape=(), dtype=string, numpy=b'My Life as a Dog (Mitt liv som hund) (1985)'>,\n",
       " <tf.Tensor: shape=(), dtype=string, numpy=b'Paris, France (1993)'>,\n",
       " <tf.Tensor: shape=(), dtype=string, numpy=b'Denise Calls Up (1995)'>,\n",
       " <tf.Tensor: shape=(), dtype=string, numpy=b'Casino (1995)'>,\n",
       " <tf.Tensor: shape=(), dtype=string, numpy=b'Sound of Music, The (1965)'>,\n",
       " <tf.Tensor: shape=(), dtype=string, numpy=b'Jackie Brown (1997)'>,\n",
       " <tf.Tensor: shape=(), dtype=string, numpy=b'I, Worst of All (Yo, la peor de todas) (1990)'>,\n",
       " <tf.Tensor: shape=(), dtype=string, numpy=b'Lone Star (1996)'>,\n",
       " <tf.Tensor: shape=(), dtype=string, numpy=b\"I Don't Want to Talk About It (De eso no se habla) (1993)\">,\n",
       " <tf.Tensor: shape=(), dtype=string, numpy=b\"Ulee's Gold (1997)\">,\n",
       " <tf.Tensor: shape=(), dtype=string, numpy=b'Reality Bites (1994)'>,\n",
       " <tf.Tensor: shape=(), dtype=string, numpy=b'Cure, The (1995)'>,\n",
       " <tf.Tensor: shape=(), dtype=string, numpy=b'Leopard Son, The (1996)'>,\n",
       " <tf.Tensor: shape=(), dtype=string, numpy=b'Jean de Florette (1986)'>,\n",
       " <tf.Tensor: shape=(), dtype=string, numpy=b'Escape to Witch Mountain (1975)'>,\n",
       " <tf.Tensor: shape=(), dtype=string, numpy=b'Love & Human Remains (1993)'>,\n",
       " <tf.Tensor: shape=(), dtype=string, numpy=b'Balto (1995)'>,\n",
       " <tf.Tensor: shape=(), dtype=string, numpy=b'Terminator, The (1984)'>,\n",
       " <tf.Tensor: shape=(), dtype=string, numpy=b'Bullets Over Broadway (1994)'>,\n",
       " <tf.Tensor: shape=(), dtype=string, numpy=b'Ladybird Ladybird (1994)'>,\n",
       " <tf.Tensor: shape=(), dtype=string, numpy=b'Mercury Rising (1998)'>,\n",
       " <tf.Tensor: shape=(), dtype=string, numpy=b'Crow: City of Angels, The (1996)'>,\n",
       " <tf.Tensor: shape=(), dtype=string, numpy=b\"McHale's Navy (1997)\">,\n",
       " <tf.Tensor: shape=(), dtype=string, numpy=b\"Stephen King's The Langoliers (1995)\">,\n",
       " <tf.Tensor: shape=(), dtype=string, numpy=b'Good Man in Africa, A (1994)'>,\n",
       " <tf.Tensor: shape=(), dtype=string, numpy=b'Jade (1995)'>,\n",
       " <tf.Tensor: shape=(), dtype=string, numpy=b'Three Wishes (1995)'>,\n",
       " <tf.Tensor: shape=(), dtype=string, numpy=b'Tokyo Fist (1995)'>,\n",
       " <tf.Tensor: shape=(), dtype=string, numpy=b'Seven (Se7en) (1995)'>,\n",
       " <tf.Tensor: shape=(), dtype=string, numpy=b'Herbie Rides Again (1974)'>,\n",
       " <tf.Tensor: shape=(), dtype=string, numpy=b'Nick of Time (1995)'>,\n",
       " <tf.Tensor: shape=(), dtype=string, numpy=b\"Pharaoh's Army (1995)\">,\n",
       " <tf.Tensor: shape=(), dtype=string, numpy=b'Etz Hadomim Tafus (Under the Domin Tree) (1994)'>,\n",
       " <tf.Tensor: shape=(), dtype=string, numpy=b'Fatal Instinct (1993)'>,\n",
       " <tf.Tensor: shape=(), dtype=string, numpy=b'Christmas Carol, A (1938)'>,\n",
       " <tf.Tensor: shape=(), dtype=string, numpy=b'Threesome (1994)'>,\n",
       " <tf.Tensor: shape=(), dtype=string, numpy=b'Kull the Conqueror (1997)'>,\n",
       " <tf.Tensor: shape=(), dtype=string, numpy=b'Little Odessa (1994)'>,\n",
       " <tf.Tensor: shape=(), dtype=string, numpy=b'To Catch a Thief (1955)'>,\n",
       " <tf.Tensor: shape=(), dtype=string, numpy=b'Love Affair (1994)'>,\n",
       " <tf.Tensor: shape=(), dtype=string, numpy=b'Strictly Ballroom (1992)'>,\n",
       " <tf.Tensor: shape=(), dtype=string, numpy=b'Desperate Measures (1998)'>,\n",
       " <tf.Tensor: shape=(), dtype=string, numpy=b'Panther (1995)'>,\n",
       " <tf.Tensor: shape=(), dtype=string, numpy=b'Blue Chips (1994)'>,\n",
       " <tf.Tensor: shape=(), dtype=string, numpy=b'Goofy Movie, A (1995)'>,\n",
       " <tf.Tensor: shape=(), dtype=string, numpy=b\"Lover's Knot (1996)\">,\n",
       " <tf.Tensor: shape=(), dtype=string, numpy=b'Star Trek VI: The Undiscovered Country (1991)'>,\n",
       " <tf.Tensor: shape=(), dtype=string, numpy=b'Picture Bride (1995)'>,\n",
       " <tf.Tensor: shape=(), dtype=string, numpy=b'All Dogs Go to Heaven 2 (1996)'>,\n",
       " <tf.Tensor: shape=(), dtype=string, numpy=b'Tombstone (1993)'>,\n",
       " <tf.Tensor: shape=(), dtype=string, numpy=b'Kolya (1996)'>,\n",
       " <tf.Tensor: shape=(), dtype=string, numpy=b'Romper Stomper (1992)'>,\n",
       " <tf.Tensor: shape=(), dtype=string, numpy=b'Orlando (1993)'>,\n",
       " <tf.Tensor: shape=(), dtype=string, numpy=b'Kicked in the Head (1997)'>,\n",
       " <tf.Tensor: shape=(), dtype=string, numpy=b'George of the Jungle (1997)'>,\n",
       " <tf.Tensor: shape=(), dtype=string, numpy=b'Associate, The (1996)'>,\n",
       " <tf.Tensor: shape=(), dtype=string, numpy=b'Manon of the Spring (Manon des sources) (1986)'>,\n",
       " <tf.Tensor: shape=(), dtype=string, numpy=b'Showgirls (1995)'>,\n",
       " <tf.Tensor: shape=(), dtype=string, numpy=b'Phantom, The (1996)'>,\n",
       " <tf.Tensor: shape=(), dtype=string, numpy=b'Loaded (1994)'>,\n",
       " <tf.Tensor: shape=(), dtype=string, numpy=b'Girl in the Cadillac (1995)'>,\n",
       " <tf.Tensor: shape=(), dtype=string, numpy=b'Cry, the Beloved Country (1995)'>,\n",
       " <tf.Tensor: shape=(), dtype=string, numpy=b'Somebody to Love (1994)'>,\n",
       " <tf.Tensor: shape=(), dtype=string, numpy=b'Across the Sea of Time (1995)'>,\n",
       " <tf.Tensor: shape=(), dtype=string, numpy=b'Feast of July (1995)'>,\n",
       " <tf.Tensor: shape=(), dtype=string, numpy=b'Tie Me Up! Tie Me Down! (1990)'>,\n",
       " <tf.Tensor: shape=(), dtype=string, numpy=b\"Jackie Chan's First Strike (1996)\">,\n",
       " <tf.Tensor: shape=(), dtype=string, numpy=b'Professional, The (1994)'>,\n",
       " <tf.Tensor: shape=(), dtype=string, numpy=b'T-Men (1947)'>,\n",
       " <tf.Tensor: shape=(), dtype=string, numpy=b'Farewell to Arms, A (1932)'>,\n",
       " <tf.Tensor: shape=(), dtype=string, numpy=b'His Girl Friday (1940)'>,\n",
       " <tf.Tensor: shape=(), dtype=string, numpy=b'Go Fish (1994)'>,\n",
       " <tf.Tensor: shape=(), dtype=string, numpy=b'Nikita (La Femme Nikita) (1990)'>,\n",
       " <tf.Tensor: shape=(), dtype=string, numpy=b'Home for the Holidays (1995)'>,\n",
       " <tf.Tensor: shape=(), dtype=string, numpy=b'Deep Rising (1998)'>,\n",
       " <tf.Tensor: shape=(), dtype=string, numpy=b'Tommy Boy (1995)'>,\n",
       " <tf.Tensor: shape=(), dtype=string, numpy=b'Taxi Driver (1976)'>,\n",
       " <tf.Tensor: shape=(), dtype=string, numpy=b'In Love and War (1996)'>,\n",
       " <tf.Tensor: shape=(), dtype=string, numpy=b'White Balloon, The (1995)'>,\n",
       " <tf.Tensor: shape=(), dtype=string, numpy=b'Cape Fear (1991)'>,\n",
       " <tf.Tensor: shape=(), dtype=string, numpy=b'Miami Rhapsody (1995)'>,\n",
       " <tf.Tensor: shape=(), dtype=string, numpy=b'Edge, The (1997)'>,\n",
       " <tf.Tensor: shape=(), dtype=string, numpy=b'Boogie Nights (1997)'>,\n",
       " <tf.Tensor: shape=(), dtype=string, numpy=b'Four Weddings and a Funeral (1994)'>,\n",
       " <tf.Tensor: shape=(), dtype=string, numpy=b'Ayn Rand: A Sense of Life (1997)'>,\n",
       " <tf.Tensor: shape=(), dtype=string, numpy=b'Seven Years in Tibet (1997)'>,\n",
       " <tf.Tensor: shape=(), dtype=string, numpy=b'Lord of Illusions (1995)'>,\n",
       " <tf.Tensor: shape=(), dtype=string, numpy=b'Ciao, Professore! (1993)'>,\n",
       " <tf.Tensor: shape=(), dtype=string, numpy=b'Shooter, The (1995)'>,\n",
       " <tf.Tensor: shape=(), dtype=string, numpy=b'Endless Summer 2, The (1994)'>,\n",
       " <tf.Tensor: shape=(), dtype=string, numpy=b'Double Happiness (1994)'>,\n",
       " <tf.Tensor: shape=(), dtype=string, numpy=b'Lightning Jack (1994)'>,\n",
       " <tf.Tensor: shape=(), dtype=string, numpy=b'Cable Guy, The (1996)'>,\n",
       " <tf.Tensor: shape=(), dtype=string, numpy=b'Turbulence (1997)'>,\n",
       " <tf.Tensor: shape=(), dtype=string, numpy=b'Empire Strikes Back, The (1980)'>,\n",
       " <tf.Tensor: shape=(), dtype=string, numpy=b'Gang Related (1997)'>,\n",
       " <tf.Tensor: shape=(), dtype=string, numpy=b'Dead Poets Society (1989)'>,\n",
       " <tf.Tensor: shape=(), dtype=string, numpy=b'Brothers in Trouble (1995)'>,\n",
       " <tf.Tensor: shape=(), dtype=string, numpy=b'Searching for Bobby Fischer (1993)'>,\n",
       " <tf.Tensor: shape=(), dtype=string, numpy=b'Platoon (1986)'>,\n",
       " <tf.Tensor: shape=(), dtype=string, numpy=b'Unforgiven (1992)'>,\n",
       " <tf.Tensor: shape=(), dtype=string, numpy=b'Babyfever (1994)'>,\n",
       " <tf.Tensor: shape=(), dtype=string, numpy=b'Bent (1997)'>,\n",
       " <tf.Tensor: shape=(), dtype=string, numpy=b'Paths of Glory (1957)'>,\n",
       " <tf.Tensor: shape=(), dtype=string, numpy=b'Escape from New York (1981)'>,\n",
       " <tf.Tensor: shape=(), dtype=string, numpy=b'Horse Whisperer, The (1998)'>,\n",
       " <tf.Tensor: shape=(), dtype=string, numpy=b'Second Jungle Book: Mowgli & Baloo, The (1997)'>,\n",
       " <tf.Tensor: shape=(), dtype=string, numpy=b'Cronos (1992)'>,\n",
       " <tf.Tensor: shape=(), dtype=string, numpy=b'Killer (Bulletproof Heart) (1994)'>,\n",
       " <tf.Tensor: shape=(), dtype=string, numpy=b'Once Were Warriors (1994)'>,\n",
       " <tf.Tensor: shape=(), dtype=string, numpy=b'Relic, The (1997)'>,\n",
       " <tf.Tensor: shape=(), dtype=string, numpy=b'Austin Powers: International Man of Mystery (1997)'>,\n",
       " <tf.Tensor: shape=(), dtype=string, numpy=b'187 (1997)'>,\n",
       " <tf.Tensor: shape=(), dtype=string, numpy=b'Red Firecracker, Green Firecracker (1994)'>,\n",
       " <tf.Tensor: shape=(), dtype=string, numpy=b'Every Other Weekend (1990)'>,\n",
       " <tf.Tensor: shape=(), dtype=string, numpy=b'Passion Fish (1992)'>,\n",
       " <tf.Tensor: shape=(), dtype=string, numpy=b'Target (1995)'>,\n",
       " <tf.Tensor: shape=(), dtype=string, numpy=b'Terminator 2: Judgment Day (1991)'>,\n",
       " <tf.Tensor: shape=(), dtype=string, numpy=b'Duck Soup (1933)'>,\n",
       " <tf.Tensor: shape=(), dtype=string, numpy=b'Deconstructing Harry (1997)'>,\n",
       " <tf.Tensor: shape=(), dtype=string, numpy=b'Sliding Doors (1998)'>,\n",
       " <tf.Tensor: shape=(), dtype=string, numpy=b'G.I. Jane (1997)'>,\n",
       " <tf.Tensor: shape=(), dtype=string, numpy=b'Pallbearer, The (1996)'>,\n",
       " <tf.Tensor: shape=(), dtype=string, numpy=b'Alphaville (1965)'>,\n",
       " <tf.Tensor: shape=(), dtype=string, numpy=b'Mrs. Dalloway (1997)'>,\n",
       " <tf.Tensor: shape=(), dtype=string, numpy=b'Big Blue, The (Grand bleu, Le) (1988)'>,\n",
       " <tf.Tensor: shape=(), dtype=string, numpy=b'Grumpier Old Men (1995)'>,\n",
       " <tf.Tensor: shape=(), dtype=string, numpy=b'Bronx Tale, A (1993)'>,\n",
       " <tf.Tensor: shape=(), dtype=string, numpy=b'August (1996)'>,\n",
       " <tf.Tensor: shape=(), dtype=string, numpy=b'Getting Even with Dad (1994)'>,\n",
       " <tf.Tensor: shape=(), dtype=string, numpy=b'Fear (1996)'>,\n",
       " <tf.Tensor: shape=(), dtype=string, numpy=b'Mad City (1997)'>,\n",
       " <tf.Tensor: shape=(), dtype=string, numpy=b'Anastasia (1997)'>,\n",
       " <tf.Tensor: shape=(), dtype=string, numpy=b'Apt Pupil (1998)'>,\n",
       " <tf.Tensor: shape=(), dtype=string, numpy=b'Modern Affair, A (1995)'>,\n",
       " <tf.Tensor: shape=(), dtype=string, numpy=b'Grosse Fatigue (1994)'>,\n",
       " <tf.Tensor: shape=(), dtype=string, numpy=b'Object of My Affection, The (1998)'>,\n",
       " <tf.Tensor: shape=(), dtype=string, numpy=b'Excess Baggage (1997)'>,\n",
       " <tf.Tensor: shape=(), dtype=string, numpy=b'Apostle, The (1997)'>,\n",
       " <tf.Tensor: shape=(), dtype=string, numpy=b'Die xue shuang xiong (Killer, The) (1989)'>,\n",
       " <tf.Tensor: shape=(), dtype=string, numpy=b'Surviving Picasso (1996)'>,\n",
       " <tf.Tensor: shape=(), dtype=string, numpy=b'Candyman (1992)'>,\n",
       " <tf.Tensor: shape=(), dtype=string, numpy=b'Big Green, The (1995)'>,\n",
       " <tf.Tensor: shape=(), dtype=string, numpy=b'Far From Home: The Adventures of Yellow Dog (1995)'>,\n",
       " <tf.Tensor: shape=(), dtype=string, numpy=b'That Darn Cat! (1965)'>,\n",
       " <tf.Tensor: shape=(), dtype=string, numpy=b'Trial and Error (1997)'>,\n",
       " <tf.Tensor: shape=(), dtype=string, numpy=b'Babysitter, The (1995)'>,\n",
       " <tf.Tensor: shape=(), dtype=string, numpy=b'Heavenly Creatures (1994)'>,\n",
       " <tf.Tensor: shape=(), dtype=string, numpy=b'Ghost (1990)'>,\n",
       " <tf.Tensor: shape=(), dtype=string, numpy=b'Kids in the Hall: Brain Candy (1996)'>,\n",
       " <tf.Tensor: shape=(), dtype=string, numpy=b'Star Trek III: The Search for Spock (1984)'>,\n",
       " <tf.Tensor: shape=(), dtype=string, numpy=b'Two if by Sea (1996)'>,\n",
       " <tf.Tensor: shape=(), dtype=string, numpy=b'Trainspotting (1996)'>,\n",
       " <tf.Tensor: shape=(), dtype=string, numpy=b'Clerks (1994)'>,\n",
       " <tf.Tensor: shape=(), dtype=string, numpy=b'Fresh (1994)'>,\n",
       " <tf.Tensor: shape=(), dtype=string, numpy=b'Hard Rain (1998)'>,\n",
       " <tf.Tensor: shape=(), dtype=string, numpy=b'Little Princess, A (1995)'>,\n",
       " <tf.Tensor: shape=(), dtype=string, numpy=b'Prophecy, The (1995)'>,\n",
       " <tf.Tensor: shape=(), dtype=string, numpy=b'Philadelphia (1993)'>,\n",
       " <tf.Tensor: shape=(), dtype=string, numpy=b'Wedding Gift, The (1994)'>,\n",
       " <tf.Tensor: shape=(), dtype=string, numpy=b'Land Before Time III: The Time of the Great Giving (1995) (V)'>,\n",
       " <tf.Tensor: shape=(), dtype=string, numpy=b'Underground (1995)'>,\n",
       " <tf.Tensor: shape=(), dtype=string, numpy=b'Vie est belle, La (Life is Rosey) (1987)'>,\n",
       " <tf.Tensor: shape=(), dtype=string, numpy=b'Paris Was a Woman (1995)'>,\n",
       " <tf.Tensor: shape=(), dtype=string, numpy=b'Boys on the Side (1995)'>,\n",
       " <tf.Tensor: shape=(), dtype=string, numpy=b'Money Talks (1997)'>,\n",
       " <tf.Tensor: shape=(), dtype=string, numpy=b'Much Ado About Nothing (1993)'>,\n",
       " <tf.Tensor: shape=(), dtype=string, numpy=b'American Strays (1996)'>,\n",
       " <tf.Tensor: shape=(), dtype=string, numpy=b'Gattaca (1997)'>,\n",
       " <tf.Tensor: shape=(), dtype=string, numpy=b'Ripe (1996)'>,\n",
       " <tf.Tensor: shape=(), dtype=string, numpy=b'Theodore Rex (1995)'>,\n",
       " <tf.Tensor: shape=(), dtype=string, numpy=b\"Joe's Apartment (1996)\">,\n",
       " <tf.Tensor: shape=(), dtype=string, numpy=b'Hate (Haine, La) (1995)'>,\n",
       " <tf.Tensor: shape=(), dtype=string, numpy=b'Jaws 2 (1978)'>,\n",
       " <tf.Tensor: shape=(), dtype=string, numpy=b'Ace Ventura: When Nature Calls (1995)'>,\n",
       " <tf.Tensor: shape=(), dtype=string, numpy=b'Dumbo (1941)'>,\n",
       " <tf.Tensor: shape=(), dtype=string, numpy=b'Anaconda (1997)'>,\n",
       " <tf.Tensor: shape=(), dtype=string, numpy=b'Toy Story (1995)'>,\n",
       " <tf.Tensor: shape=(), dtype=string, numpy=b'Mary Poppins (1964)'>,\n",
       " <tf.Tensor: shape=(), dtype=string, numpy=b'House of Yes, The (1997)'>,\n",
       " <tf.Tensor: shape=(), dtype=string, numpy=b'Late Bloomers (1996)'>,\n",
       " <tf.Tensor: shape=(), dtype=string, numpy=b'Machine, The (1994)'>,\n",
       " <tf.Tensor: shape=(), dtype=string, numpy=b'Nil By Mouth (1997)'>,\n",
       " <tf.Tensor: shape=(), dtype=string, numpy=b\"Enfer, L' (1994)\">,\n",
       " <tf.Tensor: shape=(), dtype=string, numpy=b'Time to Kill, A (1996)'>,\n",
       " <tf.Tensor: shape=(), dtype=string, numpy=b'Beverly Hills Ninja (1997)'>,\n",
       " <tf.Tensor: shape=(), dtype=string, numpy=b'M (1931)'>,\n",
       " <tf.Tensor: shape=(), dtype=string, numpy=b'Legal Deceit (1997)'>,\n",
       " <tf.Tensor: shape=(), dtype=string, numpy=b'Piano, The (1993)'>,\n",
       " <tf.Tensor: shape=(), dtype=string, numpy=b'Broken Arrow (1996)'>,\n",
       " <tf.Tensor: shape=(), dtype=string, numpy=b'Little Lord Fauntleroy (1936)'>,\n",
       " <tf.Tensor: shape=(), dtype=string, numpy=b'Rhyme & Reason (1997)'>,\n",
       " <tf.Tensor: shape=(), dtype=string, numpy=b'Little Women (1994)'>,\n",
       " <tf.Tensor: shape=(), dtype=string, numpy=b'Mimic (1997)'>,\n",
       " <tf.Tensor: shape=(), dtype=string, numpy=b'Close Shave, A (1995)'>,\n",
       " <tf.Tensor: shape=(), dtype=string, numpy=b'Pinocchio (1940)'>,\n",
       " <tf.Tensor: shape=(), dtype=string, numpy=b'Audrey Rose (1977)'>,\n",
       " <tf.Tensor: shape=(), dtype=string, numpy=b'Very Brady Sequel, A (1996)'>,\n",
       " <tf.Tensor: shape=(), dtype=string, numpy=b'Home Alone 3 (1997)'>,\n",
       " <tf.Tensor: shape=(), dtype=string, numpy=b'Nowhere (1997)'>,\n",
       " <tf.Tensor: shape=(), dtype=string, numpy=b'Jimmy Hollywood (1994)'>,\n",
       " <tf.Tensor: shape=(), dtype=string, numpy=b'Ridicule (1996)'>,\n",
       " <tf.Tensor: shape=(), dtype=string, numpy=b\"Fathers' Day (1997)\">,\n",
       " <tf.Tensor: shape=(), dtype=string, numpy=b'Highlander III: The Sorcerer (1994)'>,\n",
       " <tf.Tensor: shape=(), dtype=string, numpy=b'Leaving Las Vegas (1995)'>,\n",
       " <tf.Tensor: shape=(), dtype=string, numpy=b'Private Benjamin (1980)'>,\n",
       " <tf.Tensor: shape=(), dtype=string, numpy=b'Unforgettable (1996)'>,\n",
       " <tf.Tensor: shape=(), dtype=string, numpy=b'Two or Three Things I Know About Her (1966)'>,\n",
       " <tf.Tensor: shape=(), dtype=string, numpy=b'Secrets & Lies (1996)'>,\n",
       " <tf.Tensor: shape=(), dtype=string, numpy=b'Bonnie and Clyde (1967)'>,\n",
       " <tf.Tensor: shape=(), dtype=string, numpy=b\"I'll Do Anything (1994)\">,\n",
       " <tf.Tensor: shape=(), dtype=string, numpy=b'Jack and Sarah (1995)'>,\n",
       " <tf.Tensor: shape=(), dtype=string, numpy=b'Palookaville (1996)'>,\n",
       " <tf.Tensor: shape=(), dtype=string, numpy=b'Thieves (Voleurs, Les) (1996)'>,\n",
       " <tf.Tensor: shape=(), dtype=string, numpy=b'Moll Flanders (1996)'>,\n",
       " <tf.Tensor: shape=(), dtype=string, numpy=b'Temptress Moon (Feng Yue) (1996)'>,\n",
       " ...]"
      ]
     },
     "execution_count": 30,
     "metadata": {},
     "output_type": "execute_result"
    }
   ],
   "source": [
    "list(movies)"
   ]
  },
  {
   "cell_type": "code",
   "execution_count": 26,
   "metadata": {},
   "outputs": [
    {
     "data": {
      "text/plain": [
       "[b'You So Crazy (1994)']"
      ]
     },
     "execution_count": 26,
     "metadata": {},
     "output_type": "execute_result"
    }
   ],
   "source": [
    "list(movies.take(1).as_numpy_iterator())"
   ]
  },
  {
   "cell_type": "code",
   "execution_count": 27,
   "metadata": {},
   "outputs": [
    {
     "data": {
      "text/plain": [
       "[{'movie_title': b\"One Flew Over the Cuckoo's Nest (1975)\", 'user_id': b'138'}]"
      ]
     },
     "execution_count": 27,
     "metadata": {},
     "output_type": "execute_result"
    }
   ],
   "source": [
    "list(ratings.take(1).as_numpy_iterator())"
   ]
  },
  {
   "cell_type": "markdown",
   "metadata": {},
   "source": [
    "## Train-test split\n",
    "\n",
    "TODO time split"
   ]
  },
  {
   "cell_type": "code",
   "execution_count": 10,
   "metadata": {},
   "outputs": [],
   "source": [
    "tf.random.set_seed(42)\n",
    "shuffled = ratings.shuffle(100_000, seed=42, reshuffle_each_iteration=False)\n",
    "\n",
    "train = shuffled.take(80_000)\n",
    "test = shuffled.skip(80_000).take(20_000)"
   ]
  },
  {
   "cell_type": "code",
   "execution_count": 11,
   "metadata": {},
   "outputs": [
    {
     "data": {
      "text/plain": [
       "array([b\"'Til There Was You (1997)\", b'1-900 (1994)',\n",
       "       b'101 Dalmatians (1996)', b'12 Angry Men (1957)', b'187 (1997)',\n",
       "       b'2 Days in the Valley (1996)',\n",
       "       b'20,000 Leagues Under the Sea (1954)',\n",
       "       b'2001: A Space Odyssey (1968)',\n",
       "       b'3 Ninjas: High Noon At Mega Mountain (1998)',\n",
       "       b'39 Steps, The (1935)'], dtype=object)"
      ]
     },
     "execution_count": 11,
     "metadata": {},
     "output_type": "execute_result"
    }
   ],
   "source": [
    "# Batch: Combines consecutive elements of this dataset into batches.\n",
    "movie_titles = movies.batch(1_000)\n",
    "user_ids = ratings.batch(1_000_000).map(lambda x: x[\"user_id\"])\n",
    "\n",
    "# Concatenates the batches into one list. This will be our vocab.\n",
    "unique_movie_titles = np.unique(np.concatenate(list(movie_titles)))\n",
    "unique_user_ids = np.unique(np.concatenate(list(user_ids)))\n",
    "\n",
    "unique_movie_titles[:10]"
   ]
  },
  {
   "cell_type": "code",
   "execution_count": 13,
   "metadata": {},
   "outputs": [
    {
     "data": {
      "text/plain": [
       "bytes"
      ]
     },
     "execution_count": 13,
     "metadata": {},
     "output_type": "execute_result"
    }
   ],
   "source": [
    "type(unique_user_ids[0])"
   ]
  },
  {
   "cell_type": "code",
   "execution_count": 49,
   "metadata": {},
   "outputs": [
    {
     "name": "stdout",
     "output_type": "stream",
     "text": [
      "Number of unique movies: 1664\n",
      "Number of unique users: 943\n"
     ]
    }
   ],
   "source": [
    "print(f\"Number of unique movies: {len(unique_movie_titles)}\")\n",
    "print(f\"Number of unique users: {len(unique_user_ids)}\")"
   ]
  },
  {
   "cell_type": "markdown",
   "metadata": {},
   "source": [
    "The first step is to decide on the dimensionality of the query and candidate representations. Higher values will correspond to models that may be more accurate, but will also be slower to fit and more prone to overfitting."
   ]
  },
  {
   "cell_type": "code",
   "execution_count": 48,
   "metadata": {},
   "outputs": [],
   "source": [
    "embedding_dimension = 32"
   ]
  },
  {
   "cell_type": "code",
   "execution_count": 51,
   "metadata": {},
   "outputs": [],
   "source": [
    "# Query tower\n",
    "user_model = tf.keras.Sequential([\n",
    "  tf.keras.layers.experimental.preprocessing.StringLookup(\n",
    "      vocabulary=unique_user_ids, mask_token=None),\n",
    "  \n",
    "  # We add an additional embedding to account for unknown tokens.\n",
    "  tf.keras.layers.Embedding(len(unique_user_ids) + 1, embedding_dimension)\n",
    "])"
   ]
  },
  {
   "cell_type": "code",
   "execution_count": 52,
   "metadata": {},
   "outputs": [],
   "source": [
    "# Candidate tower\n",
    "movie_model = tf.keras.Sequential([\n",
    "  tf.keras.layers.experimental.preprocessing.StringLookup(\n",
    "      vocabulary=unique_movie_titles, mask_token=None),\n",
    "  \n",
    "    # We add an additional embedding to account for unknown tokens.\n",
    "    tf.keras.layers.Embedding(len(unique_movie_titles) + 1, embedding_dimension)\n",
    "])"
   ]
  },
  {
   "cell_type": "code",
   "execution_count": 53,
   "metadata": {},
   "outputs": [],
   "source": [
    "# top K categorical accuracy: how often the true candidate is in the top K candidates for a given query.\n",
    "metrics = tfrs.metrics.FactorizedTopK(\n",
    "  candidates=movies.batch(128).map(movie_model)\n",
    ")"
   ]
  },
  {
   "cell_type": "code",
   "execution_count": 29,
   "metadata": {},
   "outputs": [
    {
     "data": {
      "text/plain": [
       "1682"
      ]
     },
     "execution_count": 29,
     "metadata": {},
     "output_type": "execute_result"
    }
   ],
   "source": [
    "len(list(movies))"
   ]
  },
  {
   "cell_type": "markdown",
   "metadata": {},
   "source": [
    "This task defines models that facilitate efficient retrieval of candidates from large corpora by maintaining a two-tower, factorized structure: separate query and candidate representation towers, joined at the top via a lightweight scoring function. The default loss function is the tf.keras.losses.CategoricalCrossentropy."
   ]
  },
  {
   "cell_type": "code",
   "execution_count": 54,
   "metadata": {},
   "outputs": [],
   "source": [
    "task = tfrs.tasks.Retrieval(\n",
    "  metrics=metrics\n",
    ")"
   ]
  },
  {
   "cell_type": "code",
   "execution_count": 66,
   "metadata": {},
   "outputs": [],
   "source": [
    "class MovielensModel(tfrs.Model):\n",
    "\n",
    "    def __init__(self, user_model, movie_model):\n",
    "        super().__init__()\n",
    "        self.movie_model: tf.keras.Model = movie_model\n",
    "        self.user_model: tf.keras.Model = user_model\n",
    "        self.task: tf.keras.layers.Layer = task\n",
    "\n",
    "    def compute_loss(self, features: Dict[Text, tf.Tensor], training=False) -> tf.Tensor:\n",
    "        # We pick out the user features and pass them into the user model.\n",
    "        user_embeddings = self.user_model(features[\"user_id\"])\n",
    "        # And pick out the movie features and pass them into the movie model,\n",
    "        # getting embeddings back.\n",
    "        positive_movie_embeddings = self.movie_model(features[\"movie_title\"])\n",
    "\n",
    "        # The task computes the loss and the metrics.\n",
    "        return self.task(user_embeddings, positive_movie_embeddings)"
   ]
  },
  {
   "cell_type": "code",
   "execution_count": 67,
   "metadata": {},
   "outputs": [],
   "source": [
    "model = MovielensModel(user_model, movie_model)"
   ]
  },
  {
   "cell_type": "markdown",
   "metadata": {},
   "source": [
    "## Fit and evaluate"
   ]
  },
  {
   "cell_type": "code",
   "execution_count": 69,
   "metadata": {},
   "outputs": [],
   "source": [
    "model = MovielensModel(user_model, movie_model)\n",
    "model.compile(optimizer=tf.keras.optimizers.Adagrad(learning_rate=0.1))"
   ]
  },
  {
   "cell_type": "code",
   "execution_count": 16,
   "metadata": {},
   "outputs": [],
   "source": [
    "cached_train = train.shuffle(100_000).batch(8192).cache()\n",
    "cached_test = test.batch(4096).cache()"
   ]
  },
  {
   "cell_type": "code",
   "execution_count": 25,
   "metadata": {},
   "outputs": [
    {
     "data": {
      "text/plain": [
       "80000"
      ]
     },
     "execution_count": 25,
     "metadata": {},
     "output_type": "execute_result"
    }
   ],
   "source": [
    "len(list(train))"
   ]
  },
  {
   "cell_type": "code",
   "execution_count": 26,
   "metadata": {},
   "outputs": [
    {
     "data": {
      "text/plain": [
       "10"
      ]
     },
     "execution_count": 26,
     "metadata": {},
     "output_type": "execute_result"
    }
   ],
   "source": [
    "len(list(cached_train))"
   ]
  },
  {
   "cell_type": "code",
   "execution_count": 71,
   "metadata": {},
   "outputs": [
    {
     "name": "stdout",
     "output_type": "stream",
     "text": [
      "Epoch 1/3\n",
      "10/10 [==============================] - 6s 555ms/step - factorized_top_k: 0.0532 - factorized_top_k/top_1_categorical_accuracy: 5.5000e-04 - factorized_top_k/top_5_categorical_accuracy: 0.0054 - factorized_top_k/top_10_categorical_accuracy: 0.0139 - factorized_top_k/top_50_categorical_accuracy: 0.0846 - factorized_top_k/top_100_categorical_accuracy: 0.1617 - loss: 69870.2969 - regularization_loss: 0.0000e+00 - total_loss: 69870.2969\n",
      "Epoch 2/3\n",
      "10/10 [==============================] - 6s 568ms/step - factorized_top_k: 0.1035 - factorized_top_k/top_1_categorical_accuracy: 0.0023 - factorized_top_k/top_5_categorical_accuracy: 0.0183 - factorized_top_k/top_10_categorical_accuracy: 0.0373 - factorized_top_k/top_50_categorical_accuracy: 0.1681 - factorized_top_k/top_100_categorical_accuracy: 0.2916 - loss: 67471.0440 - regularization_loss: 0.0000e+00 - total_loss: 67471.0440\n",
      "Epoch 3/3\n",
      "10/10 [==============================] - 5s 545ms/step - factorized_top_k: 0.1151 - factorized_top_k/top_1_categorical_accuracy: 0.0030 - factorized_top_k/top_5_categorical_accuracy: 0.0224 - factorized_top_k/top_10_categorical_accuracy: 0.0450 - factorized_top_k/top_50_categorical_accuracy: 0.1887 - factorized_top_k/top_100_categorical_accuracy: 0.3163 - loss: 66282.9886 - regularization_loss: 0.0000e+00 - total_loss: 66282.9886\n"
     ]
    },
    {
     "data": {
      "text/plain": [
       "<tensorflow.python.keras.callbacks.History at 0x140749790>"
      ]
     },
     "execution_count": 71,
     "metadata": {},
     "output_type": "execute_result"
    }
   ],
   "source": [
    "model.fit(cached_train, epochs=3)\n"
   ]
  },
  {
   "cell_type": "markdown",
   "metadata": {},
   "source": [
    "As the model trains, the loss is falling and a set of top-k retrieval metrics is updated. These tell us whether the true positive is in the top-k retrieved items from the entire candidate set. For example, a top-5 categorical accuracy metric of 0.2 would tell us that, on average, the true positive is in the top 5 retrieved items 20% of the time."
   ]
  },
  {
   "cell_type": "code",
   "execution_count": 72,
   "metadata": {},
   "outputs": [
    {
     "name": "stdout",
     "output_type": "stream",
     "text": [
      "5/5 [==============================] - 1s 193ms/step - factorized_top_k: 0.0791 - factorized_top_k/top_1_categorical_accuracy: 0.0011 - factorized_top_k/top_5_categorical_accuracy: 0.0105 - factorized_top_k/top_10_categorical_accuracy: 0.0221 - factorized_top_k/top_50_categorical_accuracy: 0.1222 - factorized_top_k/top_100_categorical_accuracy: 0.2396 - loss: 31079.0049 - regularization_loss: 0.0000e+00 - total_loss: 31079.0049\n"
     ]
    },
    {
     "data": {
      "text/plain": [
       "{'factorized_top_k': array([0.0011 , 0.0105 , 0.0221 , 0.12225, 0.2396 ], dtype=float32),\n",
       " 'factorized_top_k/top_1_categorical_accuracy': 0.0010999999940395355,\n",
       " 'factorized_top_k/top_5_categorical_accuracy': 0.010499999858438969,\n",
       " 'factorized_top_k/top_10_categorical_accuracy': 0.022099999710917473,\n",
       " 'factorized_top_k/top_50_categorical_accuracy': 0.12224999815225601,\n",
       " 'factorized_top_k/top_100_categorical_accuracy': 0.23960000276565552,\n",
       " 'loss': 28227.279296875,\n",
       " 'regularization_loss': 0,\n",
       " 'total_loss': 28227.279296875}"
      ]
     },
     "execution_count": 72,
     "metadata": {},
     "output_type": "execute_result"
    }
   ],
   "source": [
    "model.evaluate(cached_test, return_dict=True)"
   ]
  },
  {
   "cell_type": "markdown",
   "metadata": {},
   "source": [
    "## Predictions"
   ]
  },
  {
   "cell_type": "code",
   "execution_count": 102,
   "metadata": {},
   "outputs": [
    {
     "name": "stdout",
     "output_type": "stream",
     "text": [
      "Recommendations for user 42: [b'Bridges of Madison County, The (1995)' b'Rudy (1993)'\n",
      " b'Homeward Bound: The Incredible Journey (1993)']\n"
     ]
    }
   ],
   "source": [
    "# Create a model that takes in raw query features, and\n",
    "index = tfrs.layers.ann.BruteForce(query_model=model.user_model)\n",
    "\n",
    "# recommends movies out of the entire movies dataset.\n",
    "index.index(candidates=movies.batch(100).map(model.movie_model), \n",
    "            identifiers=movies)\n",
    "\n",
    "# Get recommendations.\n",
    "_, titles = index(queries=tf.constant([\"42\"]))\n",
    "print(f\"Recommendations for user 42: {titles[0, :3]}\")"
   ]
  },
  {
   "cell_type": "code",
   "execution_count": 109,
   "metadata": {},
   "outputs": [
    {
     "name": "stdout",
     "output_type": "stream",
     "text": [
      "Recommendations for user 42: [b'Bridges of Madison County, The (1995)' b'Rudy (1993)'\n",
      " b'Homeward Bound: The Incredible Journey (1993)']\n"
     ]
    }
   ],
   "source": [
    "# Create a model that takes in raw query features, and\n",
    "index = tfrs.layers.ann.BruteForce()\n",
    "\n",
    "# recommends movies out of the entire movies dataset.\n",
    "index.index(candidates=movies.batch(100).map(model.movie_model), \n",
    "            identifiers=movies)\n",
    "\n",
    "user_42_embedding = model.user_model(tf.constant(\"42\"))\n",
    "\n",
    "# Get recommendations.\n",
    "_, titles = index(queries=[user_42_embedding])\n",
    "print(f\"Recommendations for user 42: {titles[0, :3]}\")"
   ]
  },
  {
   "cell_type": "markdown",
   "metadata": {},
   "source": [
    "## Save model"
   ]
  },
  {
   "cell_type": "code",
   "execution_count": 103,
   "metadata": {},
   "outputs": [
    {
     "name": "stdout",
     "output_type": "stream",
     "text": [
      "WARNING:tensorflow:From /Users/wf07pu/miniconda3/envs/recommender/lib/python3.7/site-packages/tensorflow/python/training/tracking/tracking.py:111: Model.state_updates (from tensorflow.python.keras.engine.training) is deprecated and will be removed in a future version.\n",
      "Instructions for updating:\n",
      "This property should not be used in TensorFlow 2.0, as updates are applied automatically.\n"
     ]
    },
    {
     "name": "stderr",
     "output_type": "stream",
     "text": [
      "WARNING:tensorflow:From /Users/wf07pu/miniconda3/envs/recommender/lib/python3.7/site-packages/tensorflow/python/training/tracking/tracking.py:111: Model.state_updates (from tensorflow.python.keras.engine.training) is deprecated and will be removed in a future version.\n",
      "Instructions for updating:\n",
      "This property should not be used in TensorFlow 2.0, as updates are applied automatically.\n"
     ]
    },
    {
     "name": "stdout",
     "output_type": "stream",
     "text": [
      "WARNING:tensorflow:From /Users/wf07pu/miniconda3/envs/recommender/lib/python3.7/site-packages/tensorflow/python/training/tracking/tracking.py:111: Layer.updates (from tensorflow.python.keras.engine.base_layer) is deprecated and will be removed in a future version.\n",
      "Instructions for updating:\n",
      "This property should not be used in TensorFlow 2.0, as updates are applied automatically.\n"
     ]
    },
    {
     "name": "stderr",
     "output_type": "stream",
     "text": [
      "WARNING:tensorflow:From /Users/wf07pu/miniconda3/envs/recommender/lib/python3.7/site-packages/tensorflow/python/training/tracking/tracking.py:111: Layer.updates (from tensorflow.python.keras.engine.base_layer) is deprecated and will be removed in a future version.\n",
      "Instructions for updating:\n",
      "This property should not be used in TensorFlow 2.0, as updates are applied automatically.\n"
     ]
    },
    {
     "name": "stdout",
     "output_type": "stream",
     "text": [
      "INFO:tensorflow:Assets written to: /var/folders/mm/gxmzkxqn7h1dj6fl_j0623480000gq/T/tmpjx_n64hf/query_model/assets\n"
     ]
    },
    {
     "name": "stderr",
     "output_type": "stream",
     "text": [
      "INFO:tensorflow:Assets written to: /var/folders/mm/gxmzkxqn7h1dj6fl_j0623480000gq/T/tmpjx_n64hf/query_model/assets\n"
     ]
    },
    {
     "name": "stdout",
     "output_type": "stream",
     "text": [
      "WARNING:tensorflow:No training configuration found in save file, so the model was *not* compiled. Compile it manually.\n"
     ]
    },
    {
     "name": "stderr",
     "output_type": "stream",
     "text": [
      "WARNING:tensorflow:No training configuration found in save file, so the model was *not* compiled. Compile it manually.\n"
     ]
    },
    {
     "name": "stdout",
     "output_type": "stream",
     "text": [
      "Query embedding: [0.43864694 0.03869034 0.02641623]\n"
     ]
    }
   ],
   "source": [
    "# Export the query model.\n",
    "with tempfile.TemporaryDirectory() as tmp:\n",
    "    path = os.path.join(tmp, \"query_model\")\n",
    "    model.user_model.save(path)\n",
    "    loaded = tf.keras.models.load_model(path)\n",
    "    query_embedding = loaded(tf.constant([\"10\"]))\n",
    "\n",
    "    print(f\"Query embedding: {query_embedding[0, :3]}\")"
   ]
  },
  {
   "cell_type": "code",
   "execution_count": 118,
   "metadata": {},
   "outputs": [
    {
     "data": {
      "text/plain": [
       "<tf.Tensor: shape=(32,), dtype=float32, numpy=\n",
       "array([ 0.11378269,  0.10946038, -0.09611955, -0.04803411,  0.00705649,\n",
       "       -0.05529281, -0.10826959,  0.03463656,  0.00729864,  0.10602102,\n",
       "        0.07266276, -0.02265502,  0.06871083, -0.05544332, -0.11621776,\n",
       "       -0.03886645, -0.06722645, -0.11729315,  0.06618599, -0.09855856,\n",
       "        0.0656407 , -0.1143479 , -0.12918611,  0.12472833, -0.00952297,\n",
       "       -0.15671423,  0.15695775, -0.01657805, -0.09416191,  0.01256337,\n",
       "       -0.00698943, -0.11238915], dtype=float32)>"
      ]
     },
     "execution_count": 118,
     "metadata": {},
     "output_type": "execute_result"
    }
   ],
   "source": [
    "movie_embedding = model.movie_model(tf.constant(b'You So Crazy (1994)'))"
   ]
  },
  {
   "cell_type": "code",
   "execution_count": 122,
   "metadata": {},
   "outputs": [
    {
     "name": "stdout",
     "output_type": "stream",
     "text": [
      "WARNING:tensorflow:Model was constructed with shape (None,) for input Tensor(\"string_lookup_2_input:0\", shape=(None,), dtype=string), but it was called on an input with incompatible shape ().\n"
     ]
    },
    {
     "name": "stderr",
     "output_type": "stream",
     "text": [
      "WARNING:tensorflow:Model was constructed with shape (None,) for input Tensor(\"string_lookup_2_input:0\", shape=(None,), dtype=string), but it was called on an input with incompatible shape ().\n"
     ]
    }
   ],
   "source": [
    "movie_embeddings = movies.enumerate().map(lambda idx, title: (idx, title, model.movie_model(title)))"
   ]
  },
  {
   "cell_type": "markdown",
   "metadata": {},
   "source": [
    "## Annoy for candidate model"
   ]
  },
  {
   "cell_type": "code",
   "execution_count": 125,
   "metadata": {},
   "outputs": [
    {
     "data": {
      "text/plain": [
       "True"
      ]
     },
     "execution_count": 125,
     "metadata": {},
     "output_type": "execute_result"
    }
   ],
   "source": [
    "from annoy import AnnoyIndex\n",
    "\n",
    "index = AnnoyIndex(embedding_dimension, \"dot\")\n",
    "\n",
    "movie_id_to_title = dict((idx, title) for idx, title, _ in movie_embeddings.as_numpy_iterator())\n",
    "\n",
    "# We unbatch the dataset because Annoy accepts only scalar (id, embedding) pairs.\n",
    "for movie_id, _, movie_embedding in movie_embeddings.as_numpy_iterator():\n",
    "    index.add_item(movie_id, movie_embedding)\n",
    "\n",
    "# Build a 10-tree ANN index.\n",
    "index.build(10)"
   ]
  },
  {
   "cell_type": "code",
   "execution_count": 137,
   "metadata": {},
   "outputs": [
    {
     "name": "stdout",
     "output_type": "stream",
     "text": [
      "Movie: [b'346']\n",
      "Candidates: [b'Desperado (1995)', b'Quick and the Dead, The (1995)', b'Highlander (1986)'].\n",
      "\n",
      "Movie: [b'602']\n",
      "Candidates: [b\"Dante's Peak (1997)\", b'Jungle2Jungle (1997)', b'Saint, The (1997)'].\n",
      "\n",
      "Movie: [b'393']\n",
      "Candidates: [b'Tom and Huck (1995)', b'Little Big League (1994)', b'War, The (1994)'].\n",
      "\n"
     ]
    }
   ],
   "source": [
    "for row in test.batch(1).take(3):\n",
    "    query_embedding = model.user_model(row[\"user_id\"])[0]\n",
    "    candidates = index.get_nns_by_vector(query_embedding, 3)\n",
    "    print(f\"Movie: {row['user_id']}\")\n",
    "    print(f\"Candidates: {[movie_id_to_title[x] for x in candidates]}.\\n\")"
   ]
  }
 ],
 "metadata": {
  "kernelspec": {
   "display_name": "recommender (Python=3.7)",
   "language": "python",
   "name": "recommender"
  },
  "language_info": {
   "codemirror_mode": {
    "name": "ipython",
    "version": 3
   },
   "file_extension": ".py",
   "mimetype": "text/x-python",
   "name": "python",
   "nbconvert_exporter": "python",
   "pygments_lexer": "ipython3",
   "version": "3.7.9"
  },
  "toc": {
   "base_numbering": 1,
   "nav_menu": {},
   "number_sections": true,
   "sideBar": true,
   "skip_h1_title": false,
   "title_cell": "Table of Contents",
   "title_sidebar": "Contents",
   "toc_cell": false,
   "toc_position": {},
   "toc_section_display": true,
   "toc_window_display": true
  }
 },
 "nbformat": 4,
 "nbformat_minor": 4
}
