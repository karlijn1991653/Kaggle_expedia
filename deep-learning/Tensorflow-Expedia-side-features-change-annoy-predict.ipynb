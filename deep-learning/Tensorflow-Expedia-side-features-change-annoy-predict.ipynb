{
 "cells": [
  {
   "cell_type": "markdown",
   "metadata": {},
   "source": [
    "# Tensorflow Expedia plus features"
   ]
  },
  {
   "cell_type": "code",
   "execution_count": null,
   "metadata": {},
   "outputs": [],
   "source": [
    "!pip install tensorflow_recommenders"
   ]
  },
  {
   "cell_type": "code",
   "execution_count": 1,
   "metadata": {},
   "outputs": [],
   "source": [
    "import os\n",
    "import pprint\n",
    "import tempfile\n",
    "\n",
    "from typing import Dict, Text\n",
    "\n",
    "import datetime as dt\n",
    "\n",
    "%matplotlib inline\n",
    "import matplotlib.pyplot as plt\n",
    "\n",
    "import numpy as np\n",
    "import tensorflow as tf\n",
    "import tensorflow_datasets as tfds\n",
    "import pandas as pd\n",
    "\n",
    "import tensorflow_recommenders as tfrs"
   ]
  },
  {
   "cell_type": "code",
   "execution_count": 2,
   "metadata": {},
   "outputs": [],
   "source": [
    "tf.compat.v1.logging.set_verbosity(tf.compat.v1.logging.ERROR)"
   ]
  },
  {
   "cell_type": "markdown",
   "metadata": {},
   "source": [
    "## Load data"
   ]
  },
  {
   "cell_type": "code",
   "execution_count": 32,
   "metadata": {},
   "outputs": [
    {
     "data": {
      "text/plain": [
       "Index(['date_time', 'site_name', 'posa_continent', 'user_location_country',\n",
       "       'user_location_region', 'user_location_city',\n",
       "       'orig_destination_distance', 'user_id', 'is_mobile', 'is_package',\n",
       "       'channel', 'srch_ci', 'srch_co', 'srch_adults_cnt', 'srch_children_cnt',\n",
       "       'srch_rm_cnt', 'srch_destination_id', 'srch_destination_type_id',\n",
       "       'is_booking', 'cnt', 'hotel_continent', 'hotel_country', 'hotel_market',\n",
       "       'hotel_cluster'],\n",
       "      dtype='object')"
      ]
     },
     "execution_count": 32,
     "metadata": {},
     "output_type": "execute_result"
    }
   ],
   "source": [
    "df.columns"
   ]
  },
  {
   "cell_type": "code",
   "execution_count": 34,
   "metadata": {},
   "outputs": [],
   "source": [
    "data_dir = '../data/expedia/'\n",
    "\n",
    "def convert_date(date_col):\n",
    "    return (pd.to_datetime(date_col) - dt.datetime(1970,1,1)).dt.total_seconds()\n",
    "\n",
    "def convert_features(df: pd.DataFrame) -> pd.DataFrame:\n",
    "    \n",
    "    # Convert date to unix timestamp\n",
    "    df['date_time'] = convert_date(df['date_time'])\n",
    "    \n",
    "    # Convert to bytes\n",
    "    df['user_id'] = [bytes(str(uid), 'utf-8') for uid in df['user_id']]\n",
    "    \n",
    "    df = df.drop(['srch_ci', 'srch_co'], axis=1)\n",
    "    \n",
    "    if 'hotel_cluster' in df.columns:\n",
    "        df['hotel_cluster'] = [bytes(str(uid), 'utf-8') for uid in df['hotel_cluster']]\n",
    "        df = df.drop(['cnt'], axis=1)\n",
    "    \n",
    "    return df\n",
    "    \n",
    "\n",
    "def create_tf_datasets(df: pd.DataFrame):\n",
    "            \n",
    "    features = convert_features(df)\n",
    "        \n",
    "    # Create tf datasets\n",
    "    dataset = tf.data.Dataset.from_tensor_slices((dict(features))) \n",
    "    hotels = tf.data.Dataset.from_tensor_slices([bytes(str(uid), 'utf-8') for uid in range(0, 99)])\n",
    "        \n",
    "    # Column selection\n",
    "    dataset = dataset.map(lambda x: {\n",
    "        \"hotel_cluster\": x[\"hotel_cluster\"],\n",
    "        \"user_id\": x[\"user_id\"],\n",
    "        \"is_package\" : x[\"is_package\"],\n",
    "        \"srch_adults_cnt\" : x[\"srch_adults_cnt\"],\n",
    "        \"srch_children_cnt\": x[\"srch_children_cnt\"]\n",
    "    })\n",
    "    \n",
    "    return dataset, hotels, len(df)\n",
    "    \n",
    "def create_tf_test_dataset(df: pd.DataFrame):\n",
    "    \n",
    "    features = convert_features(df)\n",
    "    \n",
    "    dataset = tf.data.Dataset.from_tensor_slices((dict(features))) \n",
    "\n",
    "    return dataset.map(lambda x: {\n",
    "        \"user_id\": x[\"user_id\"],\n",
    "        \"is_package\" : x[\"is_package\"],\n",
    "        \"srch_adults_cnt\" : x[\"srch_adults_cnt\"],\n",
    "        \"srch_children_cnt\": x[\"srch_children_cnt\"],\n",
    "\n",
    "    })    "
   ]
  },
  {
   "cell_type": "code",
   "execution_count": 35,
   "metadata": {},
   "outputs": [],
   "source": [
    "filename = 'train_sample' # 'train_sample' 'train_bookings'\n",
    "\n",
    "df = pd.read_csv(data_dir + f'{filename}.csv')\n",
    "\n",
    "dataset, hotels, n_records = create_tf_datasets(df)"
   ]
  },
  {
   "cell_type": "markdown",
   "metadata": {},
   "source": [
    "## Colab load data"
   ]
  },
  {
   "cell_type": "markdown",
   "metadata": {},
   "source": [
    "### Manual upload"
   ]
  },
  {
   "cell_type": "code",
   "execution_count": null,
   "metadata": {},
   "outputs": [],
   "source": [
    "# Upload Colab per file\n",
    "from google.colab import files\n",
    "import io\n",
    "\n",
    "uploaded = files.upload()\n",
    "\n",
    "for fn in uploaded.keys():\n",
    "    print('User uploaded file \"{name}\" with length {length} bytes'.format(\n",
    "      name=fn, length=len(uploaded[fn])))\n",
    "    \n",
    "df = pd.read_csv(io.StringIO(uploaded['train_sample.csv'].decode('utf-8')))"
   ]
  },
  {
   "cell_type": "markdown",
   "metadata": {},
   "source": [
    "### Load from Google drive"
   ]
  },
  {
   "cell_type": "code",
   "execution_count": null,
   "metadata": {},
   "outputs": [],
   "source": [
    "from google.colab import drive\n",
    "drive.mount('/content/gdrive')"
   ]
  },
  {
   "cell_type": "code",
   "execution_count": null,
   "metadata": {},
   "outputs": [],
   "source": [
    "import os\n",
    "os.environ['KAGGLE_CONFIG_DIR'] = \"/content/gdrive/My Drive/kaggle\"\n",
    "# /content/gdrive/My Drive/Kaggle is the path where kaggle.json is present in the Google Drive\n",
    "\n",
    "#changing the working directory\n",
    "%cd /content/gdrive/My Drive/kaggle\n",
    "#Check the present working directory using pwd command\n",
    "pwd()"
   ]
  },
  {
   "cell_type": "code",
   "execution_count": null,
   "metadata": {},
   "outputs": [],
   "source": [
    "# Download the Kaggle dataset in case\n",
    "!kaggle competitions download -c expedia-hotel-recommendations\n",
    "!unzip \\*.zip  && rm *.zip"
   ]
  },
  {
   "cell_type": "code",
   "execution_count": null,
   "metadata": {},
   "outputs": [],
   "source": [
    "df = pd.read_csv('train.csv')"
   ]
  },
  {
   "cell_type": "code",
   "execution_count": null,
   "metadata": {},
   "outputs": [],
   "source": [
    "dataset, hotels, n_records = create_tf_datasets(df)"
   ]
  },
  {
   "cell_type": "markdown",
   "metadata": {},
   "source": [
    "## Parse data"
   ]
  },
  {
   "cell_type": "code",
   "execution_count": 6,
   "metadata": {},
   "outputs": [
    {
     "name": "stdout",
     "output_type": "stream",
     "text": [
      "{'hotel_cluster': b'15',\n",
      " 'is_package': 0,\n",
      " 'srch_adults_cnt': 1,\n",
      " 'user_id': b'472333'}\n"
     ]
    }
   ],
   "source": [
    "for x in dataset.take(1).as_numpy_iterator():\n",
    "    pprint.pprint(x)"
   ]
  },
  {
   "cell_type": "code",
   "execution_count": 7,
   "metadata": {},
   "outputs": [
    {
     "data": {
      "text/plain": [
       "array([b'0', b'1', b'10', b'11', b'12', b'13', b'14', b'15', b'16', b'17'],\n",
       "      dtype=object)"
      ]
     },
     "execution_count": 7,
     "metadata": {},
     "output_type": "execute_result"
    }
   ],
   "source": [
    "user_ids = dataset.batch(1_000_000).map(lambda x: x[\"user_id\"])\n",
    "hotel_clusters = hotels.batch(1_000_000)\n",
    "\n",
    "unique_user_ids = np.unique(np.concatenate(list(user_ids)))\n",
    "unique_hotel_clusters = np.unique(np.concatenate(list(hotel_clusters)))\n",
    "\n",
    "unique_hotel_clusters[:10]"
   ]
  },
  {
   "cell_type": "code",
   "execution_count": 8,
   "metadata": {},
   "outputs": [],
   "source": [
    "is_package = np.concatenate(list(dataset.map(lambda x: x[\"is_package\"]).batch(100)))"
   ]
  },
  {
   "cell_type": "code",
   "execution_count": 12,
   "metadata": {},
   "outputs": [],
   "source": [
    "srch_adults = np.unique(np.concatenate(list(dataset.map(lambda x: x[\"srch_adults_cnt\"]).batch(100))))"
   ]
  },
  {
   "cell_type": "code",
   "execution_count": 36,
   "metadata": {},
   "outputs": [],
   "source": [
    "srch_children = np.unique(np.concatenate(list(dataset.batch(1_000_000).map(lambda x: x[\"srch_children_cnt\"]))))"
   ]
  },
  {
   "cell_type": "markdown",
   "metadata": {},
   "source": [
    "## Model\n",
    "\n",
    "Indicator columns and embedding columns never work on features directly\n",
    "\n",
    "https://keras.io/guides/preprocessing_layers/"
   ]
  },
  {
   "cell_type": "code",
   "execution_count": 37,
   "metadata": {},
   "outputs": [],
   "source": [
    "class UserModel(tf.keras.Model):\n",
    "  \n",
    "    def __init__(self):\n",
    "        super().__init__()\n",
    "\n",
    "        self.user_embedding = tf.keras.Sequential([\n",
    "            tf.keras.layers.experimental.preprocessing.StringLookup(\n",
    "                vocabulary=unique_user_ids, mask_token=None),\n",
    "            tf.keras.layers.Embedding(len(unique_user_ids) + 1, 32),\n",
    "        ])\n",
    "\n",
    "        self.package_encoder = (tf.keras\n",
    "                                .layers.experimental\n",
    "                                .preprocessing\n",
    "                                .CategoryEncoding(output_mode=\"binary\"))\n",
    "        \n",
    "        self.package_encoder.adapt(is_package)\n",
    "        \n",
    "        self.adults_cnt_normalizer = (tf.keras.layers\n",
    "                                      .experimental.preprocessing\n",
    "                                      .Normalization())\n",
    "        \n",
    "        self.adults_cnt_normalizer.adapt(srch_adults)\n",
    "        \n",
    "        self.children_cnt_normalizer = (tf.keras.layers\n",
    "                                      .experimental.preprocessing\n",
    "                                      .Normalization())\n",
    "        \n",
    "        self.children_cnt_normalizer.adapt(srch_children)\n",
    "\n",
    "\n",
    "    def call(self, inputs):\n",
    "\n",
    "        return tf.concat([\n",
    "            self.user_embedding(inputs[\"user_id\"]),\n",
    "            self.package_encoder(inputs[\"is_package\"]),\n",
    "            self.adults_cnt_normalizer(inputs['srch_adults_cnt'])\n",
    "        ], axis=1)"
   ]
  },
  {
   "cell_type": "code",
   "execution_count": 38,
   "metadata": {},
   "outputs": [],
   "source": [
    "# Candidate tower\n",
    "class HotelClusterModel(tf.keras.Model):\n",
    "    \n",
    "    def __init__(self):\n",
    "        super().__init__()\n",
    "        \n",
    "        self.hotel_clusters = tf.keras.Sequential([\n",
    "          tf.keras.layers.experimental.preprocessing.StringLookup(\n",
    "          vocabulary=unique_hotel_clusters, mask_token=None),\n",
    "          tf.keras.layers.Embedding(len(unique_hotel_clusters) + 1, embedding_dimension)\n",
    "        ])\n",
    "        \n",
    "    def call(self, hotel_cluster):\n",
    "        return self.hotel_clusters(hotel_cluster) \n"
   ]
  },
  {
   "cell_type": "code",
   "execution_count": 63,
   "metadata": {},
   "outputs": [],
   "source": [
    "embedding_dimension = 32\n",
    "\n",
    "# top K categorical accuracy: how often the true candidate is in the top K candidates for a given query."
   ]
  },
  {
   "cell_type": "code",
   "execution_count": 65,
   "metadata": {},
   "outputs": [],
   "source": [
    "class ExpediaModel(tfrs.Model):\n",
    "\n",
    "    def __init__(self, layer_sizes: list):\n",
    "        super().__init__()\n",
    "        self.hotel_cluster_model: tf.keras.Model = HotelClusterModel()\n",
    "        \n",
    "        self.user_model: tf.keras.Model = tf.keras.Sequential()\n",
    "            \n",
    "        self.user_model.add(UserModel())\n",
    "        \n",
    "        for layer_size in layer_sizes:\n",
    "            self.user_model.add(tf.keras.layers.Dense(layer_size, activation=\"relu\"))\n",
    "        self.user_model.add(tf.keras.layers.Dense(32))\n",
    "        \n",
    "        metrics = tfrs.metrics.FactorizedTopK(\n",
    "          candidates=hotels.batch(128).map(self.hotel_cluster_model)\n",
    "        )\n",
    "\n",
    "        self.task: tf.keras.layers.Layer = tfrs.tasks.Retrieval(\n",
    "          metrics=metrics\n",
    "        )\n",
    "\n",
    "    def compute_loss(self, features: Dict[Text, tf.Tensor], training=False) -> tf.Tensor:\n",
    "        # We pass the features to the user model\n",
    "        user_embeddings = self.user_model(features)\n",
    "        # And pick out the movie features and pass them into the movie model,\n",
    "        # getting embeddings back.\n",
    "        positive_hotel_clusters = self.hotel_cluster_model(features['hotel_cluster'])\n",
    "\n",
    "        # The task computes the loss and the metrics.\n",
    "        return self.task(user_embeddings, positive_hotel_clusters)"
   ]
  },
  {
   "cell_type": "code",
   "execution_count": 66,
   "metadata": {},
   "outputs": [],
   "source": [
    "model = ExpediaModel(layer_sizes=[])\n",
    "model.compile(optimizer=tf.keras.optimizers.Adagrad(learning_rate=0.1))"
   ]
  },
  {
   "cell_type": "code",
   "execution_count": 67,
   "metadata": {},
   "outputs": [],
   "source": [
    "# TODO timesplit\n",
    "tf.random.set_seed(42)\n",
    "shuffled = dataset.shuffle(n_records, seed=42, reshuffle_each_iteration=False)\n",
    "\n",
    "train = shuffled.take(int(0.915 * n_records))\n",
    "test = shuffled.skip(int(0.95 * n_records)).take(int(0.05 * n_records))\n",
    "\n",
    "cached_train = train.batch(8192).cache()\n",
    "cached_test = test.batch(4096).cache()"
   ]
  },
  {
   "cell_type": "code",
   "execution_count": null,
   "metadata": {},
   "outputs": [
    {
     "name": "stdout",
     "output_type": "stream",
     "text": [
      "Epoch 1/2\n",
      "22/56 [==========>...................] - ETA: 15s - factorized_top_k: 0.3677 - factorized_top_k/top_1_categorical_accuracy: 0.0117 - factorized_top_k/top_5_categorical_accuracy: 0.0762 - factorized_top_k/top_10_categorical_accuracy: 0.1456 - factorized_top_k/top_50_categorical_accuracy: 0.6051 - factorized_top_k/top_100_categorical_accuracy: 1.0000 - loss: 73491.6839 - regularization_loss: 0.0000e+00 - total_loss: 73491.6839"
     ]
    }
   ],
   "source": [
    "fitted_model = model.fit(cached_train, \n",
    "          validation_data=cached_test,\n",
    "          validation_freq=1,\n",
    "          epochs=2)"
   ]
  },
  {
   "cell_type": "code",
   "execution_count": 47,
   "metadata": {},
   "outputs": [
    {
     "name": "stdout",
     "output_type": "stream",
     "text": [
      "7/7 [==============================] - 1s 80ms/step - factorized_top_k: 0.4031 - factorized_top_k/top_1_categorical_accuracy: 0.0305 - factorized_top_k/top_5_categorical_accuracy: 0.1222 - factorized_top_k/top_10_categorical_accuracy: 0.2002 - factorized_top_k/top_50_categorical_accuracy: 0.6625 - factorized_top_k/top_100_categorical_accuracy: 1.0000 - loss: 32244.5696 - regularization_loss: 0.0000e+00 - total_loss: 32244.5696\n"
     ]
    },
    {
     "data": {
      "text/plain": [
       "{'factorized_top_k': array([0.03048, 0.12224, 0.20024, 0.66248, 1.     ], dtype=float32),\n",
       " 'factorized_top_k/top_1_categorical_accuracy': 0.030479999259114265,\n",
       " 'factorized_top_k/top_5_categorical_accuracy': 0.12223999947309494,\n",
       " 'factorized_top_k/top_10_categorical_accuracy': 0.20024000108242035,\n",
       " 'factorized_top_k/top_50_categorical_accuracy': 0.6624799966812134,\n",
       " 'factorized_top_k/top_100_categorical_accuracy': 1.0,\n",
       " 'loss': 3322.0361328125,\n",
       " 'regularization_loss': 0,\n",
       " 'total_loss': 3322.0361328125}"
      ]
     },
     "execution_count": 47,
     "metadata": {},
     "output_type": "execute_result"
    }
   ],
   "source": [
    "model.evaluate(cached_test, return_dict=True)"
   ]
  },
  {
   "cell_type": "code",
   "execution_count": 49,
   "metadata": {},
   "outputs": [
    {
     "name": "stdout",
     "output_type": "stream",
     "text": [
      "Top-1 accuracy: 0.03.\n"
     ]
    },
    {
     "data": {
      "image/png": "[encoded data removed]",
      "text/plain": [
       "<Figure size 432x288 with 1 Axes>"
      ]
     },
     "metadata": {
      "needs_background": "light"
     },
     "output_type": "display_data"
    }
   ],
   "source": [
    "accuracy = fitted_model.history[\"val_factorized_top_k/top_1_categorical_accuracy\"][-1]\n",
    "print(f\"Top-1 accuracy: {accuracy:.2f}.\")\n",
    "\n",
    "num_validation_runs = len(\n",
    "fitted_model.history[\"val_factorized_top_k/top_1_categorical_accuracy\"])\n",
    "epochs = [(x + 1)* 1 for x in range(num_validation_runs)]\n",
    "\n",
    "plt.plot(epochs, fitted_model.history[\"val_factorized_top_k/top_1_categorical_accuracy\"], label=\"simple model\")\n",
    "plt.title(\"Accuracy vs epoch\")\n",
    "plt.xlabel(\"epoch\")\n",
    "plt.ylabel(\"Top-1 accuracy\");\n",
    "plt.legend();"
   ]
  },
  {
   "cell_type": "markdown",
   "metadata": {},
   "source": [
    "### Save model"
   ]
  },
  {
   "cell_type": "code",
   "execution_count": 113,
   "metadata": {},
   "outputs": [],
   "source": [
    "# Save model\n",
    "query_path = os.path.join('./models/', f\"{filename}_package_query_model\")\n",
    "model.user_model.save(query_path)\n",
    "\n",
    "candidate_path = os.path.join('./models/', f\"{filename}_package_candidate_model\")\n",
    "model.hotel_cluster_model.save(candidate_path)"
   ]
  },
  {
   "cell_type": "code",
   "execution_count": 114,
   "metadata": {},
   "outputs": [
    {
     "data": {
      "text/plain": [
       "'/Users/wf07pu/Documents/workspace/Kaggle_expedia/deep-learning'"
      ]
     },
     "execution_count": 114,
     "metadata": {},
     "output_type": "execute_result"
    }
   ],
   "source": [
    "os.getcwd()"
   ]
  },
  {
   "cell_type": "code",
   "execution_count": 29,
   "metadata": {},
   "outputs": [
    {
     "data": {
      "text/plain": [
       "<tf.Tensor: shape=(4096, 32), dtype=float32, numpy=\n",
       "array([[-0.11536495, -0.35532725, -0.29341123, ..., -0.12003823,\n",
       "        -0.1506847 ,  0.13403347],\n",
       "       [-0.06841899,  0.12776509, -0.00734759, ...,  0.16686675,\n",
       "        -0.39123264, -0.13943402],\n",
       "       [-0.25987336, -0.0114258 ,  0.34444422, ...,  0.6702015 ,\n",
       "        -0.53774613, -0.5448187 ],\n",
       "       ...,\n",
       "       [-0.18969959, -0.41773486, -0.13887192, ...,  0.1610161 ,\n",
       "         0.07017141,  0.25148642],\n",
       "       [-0.3093794 ,  0.13931379, -0.14610325, ...,  1.1008857 ,\n",
       "         0.11728058, -0.13133314],\n",
       "       [-0.08509706, -0.39110804, -0.23782617, ..., -0.10203935,\n",
       "         0.02522854,  0.19742453]], dtype=float32)>"
      ]
     },
     "execution_count": 29,
     "metadata": {},
     "output_type": "execute_result"
    }
   ],
   "source": [
    "model.user_model(list(cached_test.take(1))[0])"
   ]
  },
  {
   "cell_type": "code",
   "execution_count": 121,
   "metadata": {},
   "outputs": [],
   "source": [
    "# Load model\n",
    "filename = 'train_sample'\n",
    "query_path = os.path.join('./models/', f\"{filename}_package_query_model\")\n",
    "user_model = tf.keras.models.load_model(query_path)\n",
    "\n",
    "candidate_path = os.path.join('./models/', f\"{filename}_package_candidate_model\")\n",
    "candidate_model = tf.keras.models.load_model(candidate_path)"
   ]
  },
  {
   "cell_type": "markdown",
   "metadata": {},
   "source": [
    "## Predictions"
   ]
  },
  {
   "cell_type": "code",
   "execution_count": null,
   "metadata": {},
   "outputs": [],
   "source": [
    "df = pd.read_csv(data_dir + 'test.csv')"
   ]
  },
  {
   "cell_type": "code",
   "execution_count": null,
   "metadata": {},
   "outputs": [],
   "source": [
    "final_test_set = create_tf_test_dataset(df)\n",
    "final_test_set_cached = final_test_set.batch(4096)"
   ]
  },
  {
   "cell_type": "code",
   "execution_count": null,
   "metadata": {},
   "outputs": [],
   "source": [
    "cached_final_test_set = final_test_set.batch(8192).cache()"
   ]
  },
  {
   "cell_type": "code",
   "execution_count": null,
   "metadata": {},
   "outputs": [],
   "source": [
    "user_embeddings = model.user_model.predict(cached_final_test_set)\n",
    "\n",
    "user_embeddings.shape"
   ]
  },
  {
   "cell_type": "markdown",
   "metadata": {},
   "source": [
    "### Brute Force"
   ]
  },
  {
   "cell_type": "code",
   "execution_count": null,
   "metadata": {},
   "outputs": [],
   "source": [
    "# Create a model that takes in raw query features, and\n",
    "# index_bruteforce = tfrs.layers.factorized_top_k.BruteForce()\n",
    "\n",
    "index_bruteforce = tfrs.layers.ann.BruteForce()\n",
    "\n",
    "hotel_cluster_embeddings = hotels.batch(100).map(model.hotel_cluster_model)\n",
    "\n",
    "# recommends hotels from all hotel clusters.\n",
    "index_bruteforce.index(candidates=hotel_cluster_embeddings, \n",
    "                      identifiers=hotels)\n",
    "\n",
    "brute_force_result = index_bruteforce(queries=user_embeddings)[1].numpy()\n",
    "\n",
    "results = [[str(int(i))\n",
    " for i \n",
    " in query[:5]]\n",
    " for query\n",
    " in brute_force_result\n",
    "]"
   ]
  },
  {
   "cell_type": "code",
   "execution_count": null,
   "metadata": {},
   "outputs": [],
   "source": [
    "pd.DataFrame({'id': df['id'], 'hotel_cluster': [' '.join(result) for result in results]}).to_csv('submission.csv', index=False)"
   ]
  },
  {
   "cell_type": "code",
   "execution_count": null,
   "metadata": {},
   "outputs": [],
   "source": [
    "!kaggle competitions submit -c expedia-hotel-recommendations -f submission.csv -m \"First tensorflow-recommender approach\""
   ]
  },
  {
   "cell_type": "markdown",
   "metadata": {},
   "source": [
    "## Archive"
   ]
  },
  {
   "cell_type": "code",
   "execution_count": null,
   "metadata": {},
   "outputs": [],
   "source": [
    "_, hotel_cluster = index(queries={'user_id':tf.constant([\"472333\"]), \n",
    "                                   'is_package': tf.constant([1])})\n",
    "print(f\"Recommendations for user 472333: {hotel_cluster[0, :3]}\")"
   ]
  },
  {
   "cell_type": "code",
   "execution_count": null,
   "metadata": {},
   "outputs": [],
   "source": [
    "users_to_predict"
   ]
  },
  {
   "cell_type": "code",
   "execution_count": null,
   "metadata": {},
   "outputs": [],
   "source": [
    "results = []\n",
    "\n",
    "for i, user in users_to_predict.iterrows():\n",
    "    _, hotel_clusters = index(queries={'user_id':tf.constant([str(user['user_id'])]), \n",
    "                                       'is_package': tf.constant([user['is_package']])})\n",
    "    results.append({'user_id': user['user_id'], 'hotel cluster' : [int(i) for i in hotel_clusters[0, :5].numpy()]})\n",
    "    if i % 1_000 == 0:\n",
    "        print(f\"Parsed {i} users.\")"
   ]
  },
  {
   "cell_type": "code",
   "execution_count": null,
   "metadata": {},
   "outputs": [],
   "source": [
    "pd.DataFrame(results)"
   ]
  },
  {
   "cell_type": "markdown",
   "metadata": {},
   "source": [
    "### Brute force per record\n",
    "\n",
    "Too slow and yields the same result"
   ]
  },
  {
   "cell_type": "code",
   "execution_count": null,
   "metadata": {},
   "outputs": [],
   "source": [
    "# Create a model that takes in raw query features, and\n",
    "index_bruteforce = tfrs.layers.ann.BruteForce(query_model=model.user_model)\n",
    "\n",
    "hotel_cluster_embeddings = hotels.batch(100).map(model.hotel_cluster_model)\n",
    "\n",
    "# recommends hotels from all hotel clusters.\n",
    "index_bruteforce.index(candidates=hotel_cluster_embeddings, \n",
    "                      identifiers=hotels)\n",
    "\n",
    "results_bruteforce = []\n",
    "\n",
    "for row in final_test_set.batch(1).take(5_00):\n",
    "    _, hotel_cluster = index_bruteforce(queries=row)\n",
    "    results_bruteforce.append([int(i) for i in hotel_cluster.numpy()[0][:5]])"
   ]
  },
  {
   "cell_type": "markdown",
   "metadata": {},
   "source": [
    "### Annoy\n",
    "\n",
    "Uses NNeirest neighbours for the items. Because we 'only' have 100 items (=hotel clusters), the computational benefit does not differ much from brute force."
   ]
  },
  {
   "cell_type": "code",
   "execution_count": null,
   "metadata": {},
   "outputs": [],
   "source": [
    "from annoy import AnnoyIndex\n",
    "\n",
    "index = AnnoyIndex(embedding_dimension, \"dot\")\n",
    "\n",
    "hotel_embeddings = hotels.enumerate().map(lambda idx, cluster: (idx, cluster, model.hotel_cluster_model(cluster)))\n",
    "hotel_embeddings\n",
    "\n",
    "# We unbatch the dataset because Annoy accepts only scalar (id, embedding) pairs.\n",
    "for hotel_id, _, hotel_embedding in hotel_embeddings.as_numpy_iterator():\n",
    "    index.add_item(hotel_id, hotel_embedding)\n",
    "\n",
    "# Build a 10-tree ANN index.\n",
    "index.build(10)\n",
    "\n",
    "results = []\n",
    "\n",
    "for i, row in enumerate(final_test_set.batch(1).take(len(final_test_set))):\n",
    "    query_embedding = model.user_model(row)[0]\n",
    "    results.append(index.get_nns_by_vector(query_embedding, 5))\n",
    "    print(query_embedding)\n",
    "    if i % 10_000 == 0:\n",
    "        print(f\"Parsed {i} users.\")\n",
    "        \n",
    "# import pickle\n",
    "\n",
    "# with open(\"./results_230_000.txt\", \"wb\") as fp:   #Pickling\n",
    "#     pickle.dump(results, fp)"
   ]
  },
  {
   "cell_type": "code",
   "execution_count": null,
   "metadata": {},
   "outputs": [],
   "source": []
  }
 ],
 "metadata": {
  "kernelspec": {
   "display_name": "recommender (Python=3.7)",
   "language": "python",
   "name": "recommender"
  },
  "language_info": {
   "codemirror_mode": {
    "name": "ipython",
    "version": 3
   },
   "file_extension": ".py",
   "mimetype": "text/x-python",
   "name": "python",
   "nbconvert_exporter": "python",
   "pygments_lexer": "ipython3",
   "version": "3.7.9"
  },
  "toc": {
   "base_numbering": 1,
   "nav_menu": {},
   "number_sections": true,
   "sideBar": true,
   "skip_h1_title": false,
   "title_cell": "Table of Contents",
   "title_sidebar": "Contents",
   "toc_cell": false,
   "toc_position": {
    "height": "calc(100% - 180px)",
    "left": "10px",
    "top": "150px",
    "width": "268.793px"
   },
   "toc_section_display": true,
   "toc_window_display": true
  }
 },
 "nbformat": 4,
 "nbformat_minor": 4
}
