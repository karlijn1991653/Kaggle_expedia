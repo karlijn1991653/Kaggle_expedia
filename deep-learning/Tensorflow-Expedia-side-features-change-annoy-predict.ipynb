{
 "cells": [
  {
   "cell_type": "markdown",
   "metadata": {},
   "source": [
    "# Tensorflow Expedia plus features"
   ]
  },
  {
   "cell_type": "code",
   "execution_count": null,
   "metadata": {},
   "outputs": [],
   "source": [
    "!pip install tensorflow_recommenders"
   ]
  },
  {
   "cell_type": "code",
   "execution_count": 116,
   "metadata": {},
   "outputs": [],
   "source": [
    "import os\n",
    "import pprint\n",
    "import tempfile\n",
    "\n",
    "from typing import Dict, Text\n",
    "\n",
    "import datetime as dt\n",
    "\n",
    "%matplotlib inline\n",
    "import matplotlib.pyplot as plt\n",
    "\n",
    "import numpy as np\n",
    "import tensorflow as tf\n",
    "import tensorflow_datasets as tfds\n",
    "import pandas as pd\n",
    "\n",
    "import tensorflow_recommenders as tfrs"
   ]
  },
  {
   "cell_type": "code",
   "execution_count": 117,
   "metadata": {},
   "outputs": [],
   "source": [
    "tf.compat.v1.logging.set_verbosity(tf.compat.v1.logging.ERROR)"
   ]
  },
  {
   "cell_type": "markdown",
   "metadata": {},
   "source": [
    "## Load data"
   ]
  },
  {
   "cell_type": "code",
   "execution_count": 227,
   "metadata": {},
   "outputs": [],
   "source": [
    "data_dir = '../data/expedia/'\n",
    "\n",
    "def convert_date(date_col):\n",
    "    return (pd.to_datetime(date_col) - dt.datetime(1970,1,1)).dt.total_seconds()\n",
    "\n",
    "def convert_features(df: pd.DataFrame) -> pd.DataFrame:\n",
    "    \n",
    "    # Convert date to unix timestamp\n",
    "    df['date_time'] = convert_date(df['date_time'])\n",
    "    \n",
    "    # Add number of days\n",
    "    df['srch_total_time'] = (pd.to_datetime(df['srch_co'], errors='coerce')\n",
    "                             -pd.to_datetime(df['srch_ci'], errors='coerce'))\n",
    "    \n",
    "    df['srch_total_time'] = (df['srch_total_time']\n",
    "                             .fillna(df['srch_total_time']\n",
    "                             .mean())\n",
    "                             .apply(lambda x: int(x.days)))\n",
    "    \n",
    "    # Convert to bytes\n",
    "    df['user_id'] = [bytes(str(uid), 'utf-8') for uid in df['user_id']]\n",
    "    \n",
    "    df = df.drop(['srch_ci', 'srch_co'], axis=1)\n",
    "    \n",
    "    if 'hotel_cluster' in df.columns:\n",
    "        df['hotel_cluster'] = [bytes(str(uid), 'utf-8') for uid in df['hotel_cluster']]\n",
    "        df = df.drop(['cnt'], axis=1)\n",
    "    \n",
    "    return df\n",
    "    \n",
    "\n",
    "def create_tf_datasets(df: pd.DataFrame):\n",
    "            \n",
    "    features = convert_features(df)\n",
    "        \n",
    "    # Create tf datasets\n",
    "    dataset = tf.data.Dataset.from_tensor_slices((dict(features))) \n",
    "    hotels = tf.data.Dataset.from_tensor_slices([bytes(str(uid), 'utf-8') for uid in range(0, 100)])    \n",
    "    \n",
    "    # Column selection\n",
    "    dataset = dataset.map(lambda x: {\n",
    "        \"hotel_cluster\": x[\"hotel_cluster\"],\n",
    "        \"user_id\": x[\"user_id\"],\n",
    "        \"is_package\" : x[\"is_package\"],\n",
    "        \"srch_adults_cnt\" : x[\"srch_adults_cnt\"],\n",
    "        \"srch_children_cnt\": x[\"srch_children_cnt\"],\n",
    "        \"srch_total_time\" : x[\"srch_total_time\"],\n",
    "        \"srch_destination_id\" : x[\"srch_destination_id\"],\n",
    "    })\n",
    "    \n",
    "    return dataset, hotels, len(df)\n",
    "    \n",
    "def create_tf_test_dataset(df: pd.DataFrame):\n",
    "    \n",
    "    features = convert_features(df)\n",
    "    \n",
    "    dataset = tf.data.Dataset.from_tensor_slices((dict(features))) \n",
    "\n",
    "    return dataset.map(lambda x: {\n",
    "        \"user_id\": x[\"user_id\"],\n",
    "        \"is_package\" : x[\"is_package\"],\n",
    "        \"srch_adults_cnt\" : x[\"srch_adults_cnt\"],\n",
    "        \"srch_children_cnt\": x[\"srch_children_cnt\"],\n",
    "        \"srch_total_time\": x[\"srch_total_time\"],\n",
    "        \"srch_destination_id\" : x[\"srch_destination_id\"],\n",
    "    })    "
   ]
  },
  {
   "cell_type": "code",
   "execution_count": 228,
   "metadata": {},
   "outputs": [],
   "source": [
    "filename = 'train_sample' # 'train_sample' 'train_bookings'\n",
    "\n",
    "df = pd.read_csv(data_dir + f'{filename}.csv')\n",
    "df_test = pd.read_csv(data_dir + 'test.csv')\n",
    "\n",
    "dataset, hotels, n_records = create_tf_datasets(df)\n",
    "final_test_set = create_tf_test_dataset(df_test)"
   ]
  },
  {
   "cell_type": "markdown",
   "metadata": {},
   "source": [
    "## Colab load data"
   ]
  },
  {
   "cell_type": "markdown",
   "metadata": {},
   "source": [
    "### Manual upload"
   ]
  },
  {
   "cell_type": "code",
   "execution_count": null,
   "metadata": {},
   "outputs": [],
   "source": [
    "# Upload Colab per file\n",
    "from google.colab import files\n",
    "import io\n",
    "\n",
    "uploaded = files.upload()\n",
    "\n",
    "for fn in uploaded.keys():\n",
    "    print('User uploaded file \"{name}\" with length {length} bytes'.format(\n",
    "      name=fn, length=len(uploaded[fn])))\n",
    "    \n",
    "df = pd.read_csv(io.StringIO(uploaded['train_sample.csv'].decode('utf-8')))"
   ]
  },
  {
   "cell_type": "markdown",
   "metadata": {},
   "source": [
    "### Load from Google drive"
   ]
  },
  {
   "cell_type": "code",
   "execution_count": null,
   "metadata": {},
   "outputs": [],
   "source": [
    "from google.colab import drive\n",
    "drive.mount('/content/gdrive')"
   ]
  },
  {
   "cell_type": "code",
   "execution_count": null,
   "metadata": {},
   "outputs": [],
   "source": [
    "import os\n",
    "os.environ['KAGGLE_CONFIG_DIR'] = \"/content/gdrive/My Drive/kaggle\"\n",
    "# /content/gdrive/My Drive/Kaggle is the path where kaggle.json is present in the Google Drive\n",
    "\n",
    "#changing the working directory\n",
    "%cd /content/gdrive/My Drive/kaggle\n",
    "#Check the present working directory using pwd command\n",
    "os.getcwd()"
   ]
  },
  {
   "cell_type": "code",
   "execution_count": null,
   "metadata": {},
   "outputs": [],
   "source": [
    "# Download the Kaggle dataset in case\n",
    "!kaggle competitions download -c expedia-hotel-recommendations\n",
    "!unzip \\*.zip  && rm *.zip"
   ]
  },
  {
   "cell_type": "code",
   "execution_count": null,
   "metadata": {},
   "outputs": [],
   "source": [
    "df = pd.read_csv('train_bookings.csv')"
   ]
  },
  {
   "cell_type": "code",
   "execution_count": null,
   "metadata": {},
   "outputs": [],
   "source": [
    "dataset, hotels, n_records = create_tf_datasets(df)"
   ]
  },
  {
   "cell_type": "markdown",
   "metadata": {},
   "source": [
    "## Parse data"
   ]
  },
  {
   "cell_type": "code",
   "execution_count": 229,
   "metadata": {},
   "outputs": [
    {
     "name": "stdout",
     "output_type": "stream",
     "text": [
      "{'hotel_cluster': b'15',\n",
      " 'is_package': 0,\n",
      " 'srch_adults_cnt': 1,\n",
      " 'srch_children_cnt': 0,\n",
      " 'srch_destination_id': 22260,\n",
      " 'srch_total_time': 1,\n",
      " 'user_id': b'472333'}\n"
     ]
    }
   ],
   "source": [
    "for x in dataset.take(1).as_numpy_iterator():\n",
    "    pprint.pprint(x)"
   ]
  },
  {
   "cell_type": "code",
   "execution_count": 230,
   "metadata": {},
   "outputs": [
    {
     "data": {
      "text/plain": [
       "array([b'0', b'1', b'10', b'11', b'12', b'13', b'14', b'15', b'16', b'17'],\n",
       "      dtype=object)"
      ]
     },
     "execution_count": 230,
     "metadata": {},
     "output_type": "execute_result"
    }
   ],
   "source": [
    "user_ids = dataset.batch(1_000_000).map(lambda x: x[\"user_id\"])\n",
    "hotel_clusters = hotels.batch(1_000_000)\n",
    "\n",
    "unique_user_ids = np.unique(np.concatenate(list(user_ids)))\n",
    "unique_hotel_clusters = np.unique(np.concatenate(list(hotel_clusters)))\n",
    "\n",
    "unique_hotel_clusters[:10]"
   ]
  },
  {
   "cell_type": "code",
   "execution_count": 286,
   "metadata": {},
   "outputs": [],
   "source": [
    "is_package = np.unique(df['is_package'])\n",
    "srch_adults = np.unique(df[\"srch_adults_cnt\"] + df_test[\"srch_adults_cnt\"])\n",
    "srch_children = np.unique(df[\"srch_children_cnt\"] + df_test[\"srch_children_cnt\"])\n",
    "\n",
    "# TODO contains negative days\n",
    "srch_total_time = np.unique(df[\"srch_total_time\"] + df_test[\"srch_total_time\"])\n",
    "\n",
    "srch_destination_id = np.unique(df[\"srch_destination_id\"]\n",
    "                                + df_test[\"srch_destination_id\"])\n",
    "\n",
    "srch_destination_id = np.array([int(x) for x in srch_destination_id if not np.isnan(x)])"
   ]
  },
  {
   "cell_type": "markdown",
   "metadata": {},
   "source": [
    "## Model\n",
    "\n",
    "Indicator columns and embedding columns never work on features directly\n",
    "\n",
    "https://keras.io/guides/preprocessing_layers/\n",
    "\n",
    "We only have 100 hotel clusters, so a retrival model might not be optimal. When we include the hotel_cluster as one of the features, we see that the accuracy on the Top 1 is still around 70% (For k=5 it does equal 100%). We cannot use a ranking model as we don't have a rank for a query-hotel cluster combination. Trying different loss functions, running for more epochs didn't work.\n",
    "\n",
    "Changing the hotel clusters do a categorical variable and adding a Dense layer afterwards also didn't help."
   ]
  },
  {
   "cell_type": "code",
   "execution_count": 289,
   "metadata": {},
   "outputs": [],
   "source": [
    "class UserModel(tf.keras.Model):\n",
    "  \n",
    "    def __init__(self):\n",
    "        super().__init__()\n",
    "\n",
    "        self.user_embedding = tf.keras.Sequential([\n",
    "            tf.keras.layers.experimental.preprocessing.StringLookup(\n",
    "                vocabulary=unique_user_ids, mask_token=None),\n",
    "            tf.keras.layers.Embedding(len(unique_user_ids) + 1, 32),\n",
    "        ])\n",
    "\n",
    "        self.package_encoder = (tf.keras\n",
    "                                .layers.experimental\n",
    "                                .preprocessing\n",
    "                                .CategoryEncoding(output_mode=\"binary\"))\n",
    "        \n",
    "        self.package_encoder.adapt(is_package)\n",
    "        \n",
    "        self.adults_cnt_normalizer = (tf.keras.layers\n",
    "                                      .experimental.preprocessing\n",
    "                                      .Normalization())\n",
    "        \n",
    "        self.adults_cnt_normalizer.adapt(srch_adults)\n",
    "        \n",
    "        self.children_cnt_normalizer = (tf.keras.layers\n",
    "                                      .experimental.preprocessing\n",
    "                                      .Normalization())\n",
    "        \n",
    "        self.children_cnt_normalizer.adapt(srch_children)\n",
    "        \n",
    "        self.srch_destination_encoder = (tf.keras\n",
    "                        .layers.experimental\n",
    "                        .preprocessing\n",
    "                        .CategoryEncoding(output_mode=\"count\"))\n",
    "        \n",
    "        self.srch_destination_encoder.adapt(srch_destination_id)\n",
    "        \n",
    "#         self.hotel_clusters = tf.keras.Sequential([\n",
    "#           tf.keras.layers.experimental.preprocessing.StringLookup(\n",
    "#           vocabulary=unique_hotel_clusters, mask_token=None),\n",
    "#           tf.keras.layers.Embedding(len(unique_hotel_clusters) + 1, 32),\n",
    "#         ])\n",
    "\n",
    "\n",
    "    def call(self, inputs):\n",
    "\n",
    "        return tf.concat([\n",
    "            self.user_embedding(inputs[\"user_id\"]),\n",
    "            self.package_encoder(inputs[\"is_package\"]),\n",
    "            self.adults_cnt_normalizer(inputs['srch_adults_cnt']),\n",
    "            self.srch_destination_encoder(inputs[\"srch_destination_id\"])\n",
    "            # self.hotel_clusters(inputs['hotel_cluster'])\n",
    "        ], axis=1)"
   ]
  },
  {
   "cell_type": "code",
   "execution_count": 290,
   "metadata": {},
   "outputs": [],
   "source": [
    "embedding_dimension = 32\n",
    "\n",
    "# top K categorical accuracy: how often the true candidate is in the top K candidates for a given query."
   ]
  },
  {
   "cell_type": "code",
   "execution_count": 291,
   "metadata": {},
   "outputs": [],
   "source": [
    "# Candidate tower\n",
    "class HotelClusterModel(tf.keras.Model):\n",
    "    \n",
    "    def __init__(self):\n",
    "        super().__init__()\n",
    "            \n",
    "        self.hotel_clusters = tf.keras.Sequential([\n",
    "          tf.keras.layers.experimental.preprocessing.StringLookup(\n",
    "          vocabulary=unique_hotel_clusters, mask_token=None),\n",
    "          tf.keras.layers.Embedding(len(unique_hotel_clusters) + 1, embedding_dimension)\n",
    "        ])\n",
    "        \n",
    "    def call(self, hotel_cluster):\n",
    "        return self.hotel_clusters(hotel_cluster) "
   ]
  },
  {
   "cell_type": "code",
   "execution_count": 292,
   "metadata": {},
   "outputs": [],
   "source": [
    "class ExpediaModel(tfrs.Model):\n",
    "\n",
    "    def __init__(self, layer_sizes: list):\n",
    "        super().__init__()\n",
    "        self.hotel_cluster_model: tf.keras.Model = HotelClusterModel()\n",
    "        \n",
    "        self.user_model: tf.keras.Model = tf.keras.Sequential()\n",
    "            \n",
    "        self.user_model.add(UserModel())\n",
    "        \n",
    "        for layer_size in layer_sizes:\n",
    "            self.user_model.add(tf.keras.layers.Dense(layer_size, activation=\"relu\"))\n",
    "        self.user_model.add(tf.keras.layers.Dense(embedding_dimension))\n",
    "        \n",
    "        metrics = tfrs.metrics.FactorizedTopK(\n",
    "          k=1,\n",
    "          candidates=hotels.batch(128).map(self.hotel_cluster_model)\n",
    "        )\n",
    "\n",
    "        self.task: tf.keras.layers.Layer = tfrs.tasks.Retrieval(\n",
    "          metrics=metrics\n",
    "        )\n",
    "\n",
    "    def compute_loss(self, features: Dict[Text, tf.Tensor], training=False) -> tf.Tensor:\n",
    "        # We pass the features to the user model\n",
    "        user_embeddings = self.user_model(features)\n",
    "        # And pick out the movie features and pass them into the movie model,\n",
    "        # getting embeddings back.\n",
    "        positive_hotel_clusters = self.hotel_cluster_model(features['hotel_cluster'])\n",
    "\n",
    "        # The task computes the loss and the metrics.\n",
    "        return self.task(user_embeddings, positive_hotel_clusters)"
   ]
  },
  {
   "cell_type": "code",
   "execution_count": null,
   "metadata": {},
   "outputs": [],
   "source": [
    "model = ExpediaModel(layer_sizes=[])\n",
    "model.compile(optimizer=tf.keras.optimizers.Adagrad(learning_rate=0.1))"
   ]
  },
  {
   "cell_type": "code",
   "execution_count": null,
   "metadata": {},
   "outputs": [],
   "source": [
    "# TODO timesplit\n",
    "tf.random.set_seed(42)\n",
    "shuffled = dataset.shuffle(n_records, seed=42, reshuffle_each_iteration=False)\n",
    "\n",
    "train = shuffled.take(int(0.95 * n_records))\n",
    "test = shuffled.skip(int(0.95 * n_records)).take(int(0.05 * n_records))\n",
    "\n",
    "cached_train = train.batch(8192).cache()\n",
    "cached_test = test.batch(4096).cache()"
   ]
  },
  {
   "cell_type": "code",
   "execution_count": null,
   "metadata": {},
   "outputs": [],
   "source": [
    "early_stopping = tf.keras.callbacks.EarlyStopping(monitor=\"val_factorized_top_k/top_1_categorical_accuracy\", patience=2)"
   ]
  },
  {
   "cell_type": "code",
   "execution_count": 237,
   "metadata": {},
   "outputs": [
    {
     "name": "stdout",
     "output_type": "stream",
     "text": [
      "Epoch 1/2\n",
      "53/56 [===========================>..] - ETA: 5s - factorized_top_k: 0.9025 - factorized_top_k/top_1_categorical_accuracy: 0.5126 - factorized_top_k/top_5_categorical_accuracy: 1.0000 - factorized_top_k/top_10_categorical_accuracy: 1.0000 - factorized_top_k/top_50_categorical_accuracy: 1.0000 - factorized_top_k/top_100_categorical_accuracy: 1.0000 - loss: 42260.9679 - regularization_loss: 0.0000e+00 - total_loss: 42260.9679"
     ]
    },
    {
     "ename": "KeyboardInterrupt",
     "evalue": "",
     "output_type": "error",
     "traceback": [
      "\u001b[0;31m---------------------------------------------------------------------------\u001b[0m",
      "\u001b[0;31mKeyboardInterrupt\u001b[0m                         Traceback (most recent call last)",
      "\u001b[0;32m<ipython-input-237-1c3fa1c8bb85>\u001b[0m in \u001b[0;36m<module>\u001b[0;34m\u001b[0m\n\u001b[1;32m      3\u001b[0m           \u001b[0mvalidation_freq\u001b[0m\u001b[0;34m=\u001b[0m\u001b[0;36m1\u001b[0m\u001b[0;34m,\u001b[0m\u001b[0;34m\u001b[0m\u001b[0;34m\u001b[0m\u001b[0m\n\u001b[1;32m      4\u001b[0m           \u001b[0mcallbacks\u001b[0m\u001b[0;34m=\u001b[0m\u001b[0;34m[\u001b[0m\u001b[0mearly_stopping\u001b[0m\u001b[0;34m]\u001b[0m\u001b[0;34m,\u001b[0m\u001b[0;34m\u001b[0m\u001b[0;34m\u001b[0m\u001b[0m\n\u001b[0;32m----> 5\u001b[0;31m           epochs=2)\n\u001b[0m",
      "\u001b[0;32m~/miniconda3/envs/recommender/lib/python3.7/site-packages/tensorflow/python/keras/engine/training.py\u001b[0m in \u001b[0;36m_method_wrapper\u001b[0;34m(self, *args, **kwargs)\u001b[0m\n\u001b[1;32m    106\u001b[0m   \u001b[0;32mdef\u001b[0m \u001b[0m_method_wrapper\u001b[0m\u001b[0;34m(\u001b[0m\u001b[0mself\u001b[0m\u001b[0;34m,\u001b[0m \u001b[0;34m*\u001b[0m\u001b[0margs\u001b[0m\u001b[0;34m,\u001b[0m \u001b[0;34m**\u001b[0m\u001b[0mkwargs\u001b[0m\u001b[0;34m)\u001b[0m\u001b[0;34m:\u001b[0m\u001b[0;34m\u001b[0m\u001b[0;34m\u001b[0m\u001b[0m\n\u001b[1;32m    107\u001b[0m     \u001b[0;32mif\u001b[0m \u001b[0;32mnot\u001b[0m \u001b[0mself\u001b[0m\u001b[0;34m.\u001b[0m\u001b[0m_in_multi_worker_mode\u001b[0m\u001b[0;34m(\u001b[0m\u001b[0;34m)\u001b[0m\u001b[0;34m:\u001b[0m  \u001b[0;31m# pylint: disable=protected-access\u001b[0m\u001b[0;34m\u001b[0m\u001b[0;34m\u001b[0m\u001b[0m\n\u001b[0;32m--> 108\u001b[0;31m       \u001b[0;32mreturn\u001b[0m \u001b[0mmethod\u001b[0m\u001b[0;34m(\u001b[0m\u001b[0mself\u001b[0m\u001b[0;34m,\u001b[0m \u001b[0;34m*\u001b[0m\u001b[0margs\u001b[0m\u001b[0;34m,\u001b[0m \u001b[0;34m**\u001b[0m\u001b[0mkwargs\u001b[0m\u001b[0;34m)\u001b[0m\u001b[0;34m\u001b[0m\u001b[0;34m\u001b[0m\u001b[0m\n\u001b[0m\u001b[1;32m    109\u001b[0m \u001b[0;34m\u001b[0m\u001b[0m\n\u001b[1;32m    110\u001b[0m     \u001b[0;31m# Running inside `run_distribute_coordinator` already.\u001b[0m\u001b[0;34m\u001b[0m\u001b[0;34m\u001b[0m\u001b[0;34m\u001b[0m\u001b[0m\n",
      "\u001b[0;32m~/miniconda3/envs/recommender/lib/python3.7/site-packages/tensorflow/python/keras/engine/training.py\u001b[0m in \u001b[0;36mfit\u001b[0;34m(self, x, y, batch_size, epochs, verbose, callbacks, validation_split, validation_data, shuffle, class_weight, sample_weight, initial_epoch, steps_per_epoch, validation_steps, validation_batch_size, validation_freq, max_queue_size, workers, use_multiprocessing)\u001b[0m\n\u001b[1;32m   1096\u001b[0m                 batch_size=batch_size):\n\u001b[1;32m   1097\u001b[0m               \u001b[0mcallbacks\u001b[0m\u001b[0;34m.\u001b[0m\u001b[0mon_train_batch_begin\u001b[0m\u001b[0;34m(\u001b[0m\u001b[0mstep\u001b[0m\u001b[0;34m)\u001b[0m\u001b[0;34m\u001b[0m\u001b[0;34m\u001b[0m\u001b[0m\n\u001b[0;32m-> 1098\u001b[0;31m               \u001b[0mtmp_logs\u001b[0m \u001b[0;34m=\u001b[0m \u001b[0mtrain_function\u001b[0m\u001b[0;34m(\u001b[0m\u001b[0miterator\u001b[0m\u001b[0;34m)\u001b[0m\u001b[0;34m\u001b[0m\u001b[0;34m\u001b[0m\u001b[0m\n\u001b[0m\u001b[1;32m   1099\u001b[0m               \u001b[0;32mif\u001b[0m \u001b[0mdata_handler\u001b[0m\u001b[0;34m.\u001b[0m\u001b[0mshould_sync\u001b[0m\u001b[0;34m:\u001b[0m\u001b[0;34m\u001b[0m\u001b[0;34m\u001b[0m\u001b[0m\n\u001b[1;32m   1100\u001b[0m                 \u001b[0mcontext\u001b[0m\u001b[0;34m.\u001b[0m\u001b[0masync_wait\u001b[0m\u001b[0;34m(\u001b[0m\u001b[0;34m)\u001b[0m\u001b[0;34m\u001b[0m\u001b[0;34m\u001b[0m\u001b[0m\n",
      "\u001b[0;32m~/miniconda3/envs/recommender/lib/python3.7/site-packages/tensorflow/python/eager/def_function.py\u001b[0m in \u001b[0;36m__call__\u001b[0;34m(self, *args, **kwds)\u001b[0m\n\u001b[1;32m    778\u001b[0m       \u001b[0;32melse\u001b[0m\u001b[0;34m:\u001b[0m\u001b[0;34m\u001b[0m\u001b[0;34m\u001b[0m\u001b[0m\n\u001b[1;32m    779\u001b[0m         \u001b[0mcompiler\u001b[0m \u001b[0;34m=\u001b[0m \u001b[0;34m\"nonXla\"\u001b[0m\u001b[0;34m\u001b[0m\u001b[0;34m\u001b[0m\u001b[0m\n\u001b[0;32m--> 780\u001b[0;31m         \u001b[0mresult\u001b[0m \u001b[0;34m=\u001b[0m \u001b[0mself\u001b[0m\u001b[0;34m.\u001b[0m\u001b[0m_call\u001b[0m\u001b[0;34m(\u001b[0m\u001b[0;34m*\u001b[0m\u001b[0margs\u001b[0m\u001b[0;34m,\u001b[0m \u001b[0;34m**\u001b[0m\u001b[0mkwds\u001b[0m\u001b[0;34m)\u001b[0m\u001b[0;34m\u001b[0m\u001b[0;34m\u001b[0m\u001b[0m\n\u001b[0m\u001b[1;32m    781\u001b[0m \u001b[0;34m\u001b[0m\u001b[0m\n\u001b[1;32m    782\u001b[0m       \u001b[0mnew_tracing_count\u001b[0m \u001b[0;34m=\u001b[0m \u001b[0mself\u001b[0m\u001b[0;34m.\u001b[0m\u001b[0m_get_tracing_count\u001b[0m\u001b[0;34m(\u001b[0m\u001b[0;34m)\u001b[0m\u001b[0;34m\u001b[0m\u001b[0;34m\u001b[0m\u001b[0m\n",
      "\u001b[0;32m~/miniconda3/envs/recommender/lib/python3.7/site-packages/tensorflow/python/eager/def_function.py\u001b[0m in \u001b[0;36m_call\u001b[0;34m(self, *args, **kwds)\u001b[0m\n\u001b[1;32m    805\u001b[0m       \u001b[0;31m# In this case we have created variables on the first call, so we run the\u001b[0m\u001b[0;34m\u001b[0m\u001b[0;34m\u001b[0m\u001b[0;34m\u001b[0m\u001b[0m\n\u001b[1;32m    806\u001b[0m       \u001b[0;31m# defunned version which is guaranteed to never create variables.\u001b[0m\u001b[0;34m\u001b[0m\u001b[0;34m\u001b[0m\u001b[0;34m\u001b[0m\u001b[0m\n\u001b[0;32m--> 807\u001b[0;31m       \u001b[0;32mreturn\u001b[0m \u001b[0mself\u001b[0m\u001b[0;34m.\u001b[0m\u001b[0m_stateless_fn\u001b[0m\u001b[0;34m(\u001b[0m\u001b[0;34m*\u001b[0m\u001b[0margs\u001b[0m\u001b[0;34m,\u001b[0m \u001b[0;34m**\u001b[0m\u001b[0mkwds\u001b[0m\u001b[0;34m)\u001b[0m  \u001b[0;31m# pylint: disable=not-callable\u001b[0m\u001b[0;34m\u001b[0m\u001b[0;34m\u001b[0m\u001b[0m\n\u001b[0m\u001b[1;32m    808\u001b[0m     \u001b[0;32melif\u001b[0m \u001b[0mself\u001b[0m\u001b[0;34m.\u001b[0m\u001b[0m_stateful_fn\u001b[0m \u001b[0;32mis\u001b[0m \u001b[0;32mnot\u001b[0m \u001b[0;32mNone\u001b[0m\u001b[0;34m:\u001b[0m\u001b[0;34m\u001b[0m\u001b[0;34m\u001b[0m\u001b[0m\n\u001b[1;32m    809\u001b[0m       \u001b[0;31m# Release the lock early so that multiple threads can perform the call\u001b[0m\u001b[0;34m\u001b[0m\u001b[0;34m\u001b[0m\u001b[0;34m\u001b[0m\u001b[0m\n",
      "\u001b[0;32m~/miniconda3/envs/recommender/lib/python3.7/site-packages/tensorflow/python/eager/function.py\u001b[0m in \u001b[0;36m__call__\u001b[0;34m(self, *args, **kwargs)\u001b[0m\n\u001b[1;32m   2827\u001b[0m     \u001b[0;32mwith\u001b[0m \u001b[0mself\u001b[0m\u001b[0;34m.\u001b[0m\u001b[0m_lock\u001b[0m\u001b[0;34m:\u001b[0m\u001b[0;34m\u001b[0m\u001b[0;34m\u001b[0m\u001b[0m\n\u001b[1;32m   2828\u001b[0m       \u001b[0mgraph_function\u001b[0m\u001b[0;34m,\u001b[0m \u001b[0margs\u001b[0m\u001b[0;34m,\u001b[0m \u001b[0mkwargs\u001b[0m \u001b[0;34m=\u001b[0m \u001b[0mself\u001b[0m\u001b[0;34m.\u001b[0m\u001b[0m_maybe_define_function\u001b[0m\u001b[0;34m(\u001b[0m\u001b[0margs\u001b[0m\u001b[0;34m,\u001b[0m \u001b[0mkwargs\u001b[0m\u001b[0;34m)\u001b[0m\u001b[0;34m\u001b[0m\u001b[0;34m\u001b[0m\u001b[0m\n\u001b[0;32m-> 2829\u001b[0;31m     \u001b[0;32mreturn\u001b[0m \u001b[0mgraph_function\u001b[0m\u001b[0;34m.\u001b[0m\u001b[0m_filtered_call\u001b[0m\u001b[0;34m(\u001b[0m\u001b[0margs\u001b[0m\u001b[0;34m,\u001b[0m \u001b[0mkwargs\u001b[0m\u001b[0;34m)\u001b[0m  \u001b[0;31m# pylint: disable=protected-access\u001b[0m\u001b[0;34m\u001b[0m\u001b[0;34m\u001b[0m\u001b[0m\n\u001b[0m\u001b[1;32m   2830\u001b[0m \u001b[0;34m\u001b[0m\u001b[0m\n\u001b[1;32m   2831\u001b[0m   \u001b[0;34m@\u001b[0m\u001b[0mproperty\u001b[0m\u001b[0;34m\u001b[0m\u001b[0;34m\u001b[0m\u001b[0m\n",
      "\u001b[0;32m~/miniconda3/envs/recommender/lib/python3.7/site-packages/tensorflow/python/eager/function.py\u001b[0m in \u001b[0;36m_filtered_call\u001b[0;34m(self, args, kwargs, cancellation_manager)\u001b[0m\n\u001b[1;32m   1846\u001b[0m                            resource_variable_ops.BaseResourceVariable))],\n\u001b[1;32m   1847\u001b[0m         \u001b[0mcaptured_inputs\u001b[0m\u001b[0;34m=\u001b[0m\u001b[0mself\u001b[0m\u001b[0;34m.\u001b[0m\u001b[0mcaptured_inputs\u001b[0m\u001b[0;34m,\u001b[0m\u001b[0;34m\u001b[0m\u001b[0;34m\u001b[0m\u001b[0m\n\u001b[0;32m-> 1848\u001b[0;31m         cancellation_manager=cancellation_manager)\n\u001b[0m\u001b[1;32m   1849\u001b[0m \u001b[0;34m\u001b[0m\u001b[0m\n\u001b[1;32m   1850\u001b[0m   \u001b[0;32mdef\u001b[0m \u001b[0m_call_flat\u001b[0m\u001b[0;34m(\u001b[0m\u001b[0mself\u001b[0m\u001b[0;34m,\u001b[0m \u001b[0margs\u001b[0m\u001b[0;34m,\u001b[0m \u001b[0mcaptured_inputs\u001b[0m\u001b[0;34m,\u001b[0m \u001b[0mcancellation_manager\u001b[0m\u001b[0;34m=\u001b[0m\u001b[0;32mNone\u001b[0m\u001b[0;34m)\u001b[0m\u001b[0;34m:\u001b[0m\u001b[0;34m\u001b[0m\u001b[0;34m\u001b[0m\u001b[0m\n",
      "\u001b[0;32m~/miniconda3/envs/recommender/lib/python3.7/site-packages/tensorflow/python/eager/function.py\u001b[0m in \u001b[0;36m_call_flat\u001b[0;34m(self, args, captured_inputs, cancellation_manager)\u001b[0m\n\u001b[1;32m   1922\u001b[0m       \u001b[0;31m# No tape is watching; skip to running the function.\u001b[0m\u001b[0;34m\u001b[0m\u001b[0;34m\u001b[0m\u001b[0;34m\u001b[0m\u001b[0m\n\u001b[1;32m   1923\u001b[0m       return self._build_call_outputs(self._inference_function.call(\n\u001b[0;32m-> 1924\u001b[0;31m           ctx, args, cancellation_manager=cancellation_manager))\n\u001b[0m\u001b[1;32m   1925\u001b[0m     forward_backward = self._select_forward_and_backward_functions(\n\u001b[1;32m   1926\u001b[0m         \u001b[0margs\u001b[0m\u001b[0;34m,\u001b[0m\u001b[0;34m\u001b[0m\u001b[0;34m\u001b[0m\u001b[0m\n",
      "\u001b[0;32m~/miniconda3/envs/recommender/lib/python3.7/site-packages/tensorflow/python/eager/function.py\u001b[0m in \u001b[0;36mcall\u001b[0;34m(self, ctx, args, cancellation_manager)\u001b[0m\n\u001b[1;32m    548\u001b[0m               \u001b[0minputs\u001b[0m\u001b[0;34m=\u001b[0m\u001b[0margs\u001b[0m\u001b[0;34m,\u001b[0m\u001b[0;34m\u001b[0m\u001b[0;34m\u001b[0m\u001b[0m\n\u001b[1;32m    549\u001b[0m               \u001b[0mattrs\u001b[0m\u001b[0;34m=\u001b[0m\u001b[0mattrs\u001b[0m\u001b[0;34m,\u001b[0m\u001b[0;34m\u001b[0m\u001b[0;34m\u001b[0m\u001b[0m\n\u001b[0;32m--> 550\u001b[0;31m               ctx=ctx)\n\u001b[0m\u001b[1;32m    551\u001b[0m         \u001b[0;32melse\u001b[0m\u001b[0;34m:\u001b[0m\u001b[0;34m\u001b[0m\u001b[0;34m\u001b[0m\u001b[0m\n\u001b[1;32m    552\u001b[0m           outputs = execute.execute_with_cancellation(\n",
      "\u001b[0;32m~/miniconda3/envs/recommender/lib/python3.7/site-packages/tensorflow/python/eager/execute.py\u001b[0m in \u001b[0;36mquick_execute\u001b[0;34m(op_name, num_outputs, inputs, attrs, ctx, name)\u001b[0m\n\u001b[1;32m     58\u001b[0m     \u001b[0mctx\u001b[0m\u001b[0;34m.\u001b[0m\u001b[0mensure_initialized\u001b[0m\u001b[0;34m(\u001b[0m\u001b[0;34m)\u001b[0m\u001b[0;34m\u001b[0m\u001b[0;34m\u001b[0m\u001b[0m\n\u001b[1;32m     59\u001b[0m     tensors = pywrap_tfe.TFE_Py_Execute(ctx._handle, device_name, op_name,\n\u001b[0;32m---> 60\u001b[0;31m                                         inputs, attrs, num_outputs)\n\u001b[0m\u001b[1;32m     61\u001b[0m   \u001b[0;32mexcept\u001b[0m \u001b[0mcore\u001b[0m\u001b[0;34m.\u001b[0m\u001b[0m_NotOkStatusException\u001b[0m \u001b[0;32mas\u001b[0m \u001b[0me\u001b[0m\u001b[0;34m:\u001b[0m\u001b[0;34m\u001b[0m\u001b[0;34m\u001b[0m\u001b[0m\n\u001b[1;32m     62\u001b[0m     \u001b[0;32mif\u001b[0m \u001b[0mname\u001b[0m \u001b[0;32mis\u001b[0m \u001b[0;32mnot\u001b[0m \u001b[0;32mNone\u001b[0m\u001b[0;34m:\u001b[0m\u001b[0;34m\u001b[0m\u001b[0;34m\u001b[0m\u001b[0m\n",
      "\u001b[0;31mKeyboardInterrupt\u001b[0m: "
     ]
    }
   ],
   "source": [
    "fitted_model = model.fit(cached_train, \n",
    "          validation_data=cached_test,\n",
    "          validation_freq=1,\n",
    "          callbacks=[early_stopping],\n",
    "          epochs=2)"
   ]
  },
  {
   "cell_type": "code",
   "execution_count": 215,
   "metadata": {},
   "outputs": [
    {
     "name": "stdout",
     "output_type": "stream",
     "text": [
      "7/7 [==============================] - 3s 363ms/step - factorized_top_k: 0.8169 - factorized_top_k/top_1_categorical_accuracy: 0.0846 - factorized_top_k/top_5_categorical_accuracy: 1.0000 - factorized_top_k/top_10_categorical_accuracy: 1.0000 - factorized_top_k/top_50_categorical_accuracy: 1.0000 - factorized_top_k/top_100_categorical_accuracy: 1.0000 - loss: 24285.3289 - regularization_loss: 0.0000e+00 - total_loss: 24285.3289\n"
     ]
    },
    {
     "data": {
      "text/plain": [
       "{'factorized_top_k': array([0.0846, 1.    , 1.    , 1.    , 1.    ], dtype=float32),\n",
       " 'factorized_top_k/top_1_categorical_accuracy': 0.08460000157356262,\n",
       " 'factorized_top_k/top_5_categorical_accuracy': 1.0,\n",
       " 'factorized_top_k/top_10_categorical_accuracy': 1.0,\n",
       " 'factorized_top_k/top_50_categorical_accuracy': 1.0,\n",
       " 'factorized_top_k/top_100_categorical_accuracy': 1.0,\n",
       " 'loss': 2295.845703125,\n",
       " 'regularization_loss': 0,\n",
       " 'total_loss': 2295.845703125}"
      ]
     },
     "execution_count": 215,
     "metadata": {},
     "output_type": "execute_result"
    }
   ],
   "source": [
    "model.evaluate(cached_test, return_dict=True)"
   ]
  },
  {
   "cell_type": "code",
   "execution_count": 216,
   "metadata": {},
   "outputs": [
    {
     "name": "stdout",
     "output_type": "stream",
     "text": [
      "Top-1 accuracy: 0.085.\n"
     ]
    },
    {
     "data": {
      "image/png": "[encoded data removed]",
      "text/plain": [
       "<Figure size 432x288 with 1 Axes>"
      ]
     },
     "metadata": {
      "needs_background": "light"
     },
     "output_type": "display_data"
    }
   ],
   "source": [
    "accuracy = fitted_model.history[\"val_factorized_top_k/top_1_categorical_accuracy\"][-1]\n",
    "print(f\"Top-1 accuracy: {accuracy:.3f}.\")\n",
    "\n",
    "num_validation_runs = len(\n",
    "fitted_model.history[\"val_factorized_top_k/top_1_categorical_accuracy\"])\n",
    "epochs = [(x + 1)* 1 for x in range(num_validation_runs)]\n",
    "\n",
    "plt.plot(epochs, fitted_model.history[\"val_factorized_top_k/top_1_categorical_accuracy\"], label=\"simple model\")\n",
    "plt.title(\"Accuracy vs epoch\")\n",
    "plt.xlabel(\"epoch\")\n",
    "plt.ylabel(\"Top-1 accuracy\");\n",
    "plt.legend();"
   ]
  },
  {
   "cell_type": "markdown",
   "metadata": {},
   "source": [
    "### Save model"
   ]
  },
  {
   "cell_type": "code",
   "execution_count": 113,
   "metadata": {},
   "outputs": [],
   "source": [
    "# Save model\n",
    "query_path = os.path.join('./models/', f\"{filename}_package_query_model\")\n",
    "model.user_model.save(query_path)\n",
    "\n",
    "candidate_path = os.path.join('./models/', f\"{filename}_package_candidate_model\")\n",
    "model.hotel_cluster_model.save(candidate_path)"
   ]
  },
  {
   "cell_type": "code",
   "execution_count": 114,
   "metadata": {},
   "outputs": [
    {
     "data": {
      "text/plain": [
       "'/Users/wf07pu/Documents/workspace/Kaggle_expedia/deep-learning'"
      ]
     },
     "execution_count": 114,
     "metadata": {},
     "output_type": "execute_result"
    }
   ],
   "source": [
    "os.getcwd()"
   ]
  },
  {
   "cell_type": "code",
   "execution_count": 29,
   "metadata": {},
   "outputs": [
    {
     "data": {
      "text/plain": [
       "<tf.Tensor: shape=(4096, 32), dtype=float32, numpy=\n",
       "array([[-0.11536495, -0.35532725, -0.29341123, ..., -0.12003823,\n",
       "        -0.1506847 ,  0.13403347],\n",
       "       [-0.06841899,  0.12776509, -0.00734759, ...,  0.16686675,\n",
       "        -0.39123264, -0.13943402],\n",
       "       [-0.25987336, -0.0114258 ,  0.34444422, ...,  0.6702015 ,\n",
       "        -0.53774613, -0.5448187 ],\n",
       "       ...,\n",
       "       [-0.18969959, -0.41773486, -0.13887192, ...,  0.1610161 ,\n",
       "         0.07017141,  0.25148642],\n",
       "       [-0.3093794 ,  0.13931379, -0.14610325, ...,  1.1008857 ,\n",
       "         0.11728058, -0.13133314],\n",
       "       [-0.08509706, -0.39110804, -0.23782617, ..., -0.10203935,\n",
       "         0.02522854,  0.19742453]], dtype=float32)>"
      ]
     },
     "execution_count": 29,
     "metadata": {},
     "output_type": "execute_result"
    }
   ],
   "source": [
    "model.user_model(list(cached_test.take(1))[0])"
   ]
  },
  {
   "cell_type": "code",
   "execution_count": 121,
   "metadata": {},
   "outputs": [],
   "source": [
    "# Load model\n",
    "filename = 'train_sample'\n",
    "query_path = os.path.join('./models/', f\"{filename}_package_query_model\")\n",
    "user_model = tf.keras.models.load_model(query_path)\n",
    "\n",
    "candidate_path = os.path.join('./models/', f\"{filename}_package_candidate_model\")\n",
    "candidate_model = tf.keras.models.load_model(candidate_path)"
   ]
  },
  {
   "cell_type": "markdown",
   "metadata": {},
   "source": [
    "## Predictions"
   ]
  },
  {
   "cell_type": "code",
   "execution_count": null,
   "metadata": {},
   "outputs": [],
   "source": [
    "final_test_set_cached = final_test_set.batch(4096)"
   ]
  },
  {
   "cell_type": "code",
   "execution_count": null,
   "metadata": {},
   "outputs": [],
   "source": [
    "cached_final_test_set = final_test_set.batch(8192).cache()"
   ]
  },
  {
   "cell_type": "code",
   "execution_count": null,
   "metadata": {},
   "outputs": [],
   "source": [
    "user_embeddings = model.user_model.predict(cached_final_test_set)\n",
    "\n",
    "user_embeddings.shape"
   ]
  },
  {
   "cell_type": "markdown",
   "metadata": {},
   "source": [
    "### Brute Force"
   ]
  },
  {
   "cell_type": "code",
   "execution_count": null,
   "metadata": {},
   "outputs": [],
   "source": [
    "# Create a model that takes in raw query features, and\n",
    "# index_bruteforce = tfrs.layers.factorized_top_k.BruteForce()\n",
    "\n",
    "index_bruteforce = tfrs.layers.ann.BruteForce()\n",
    "\n",
    "hotel_cluster_embeddings = hotels.batch(100).map(model.hotel_cluster_model)\n",
    "\n",
    "# recommends hotels from all hotel clusters.\n",
    "index_bruteforce.index(candidates=hotel_cluster_embeddings, \n",
    "                      identifiers=hotels)\n",
    "\n",
    "brute_force_result = index_bruteforce(queries=user_embeddings)[1].numpy()\n",
    "\n",
    "results = [[str(int(i))\n",
    " for i \n",
    " in query[:5]]\n",
    " for query\n",
    " in brute_force_result\n",
    "]"
   ]
  },
  {
   "cell_type": "code",
   "execution_count": null,
   "metadata": {},
   "outputs": [],
   "source": [
    "pd.DataFrame({'id': df['id'], 'hotel_cluster': [' '.join(result) for result in results]}).to_csv('submission.csv', index=False)"
   ]
  },
  {
   "cell_type": "code",
   "execution_count": null,
   "metadata": {},
   "outputs": [],
   "source": [
    "!kaggle competitions submit -c expedia-hotel-recommendations -f submission.csv -m \"First tensorflow-recommender approach\""
   ]
  },
  {
   "cell_type": "markdown",
   "metadata": {},
   "source": [
    "## Archive"
   ]
  },
  {
   "cell_type": "code",
   "execution_count": null,
   "metadata": {},
   "outputs": [],
   "source": [
    "_, hotel_cluster = index(queries={'user_id':tf.constant([\"472333\"]), \n",
    "                                   'is_package': tf.constant([1])})\n",
    "print(f\"Recommendations for user 472333: {hotel_cluster[0, :3]}\")"
   ]
  },
  {
   "cell_type": "code",
   "execution_count": null,
   "metadata": {},
   "outputs": [],
   "source": [
    "users_to_predict"
   ]
  },
  {
   "cell_type": "code",
   "execution_count": null,
   "metadata": {},
   "outputs": [],
   "source": [
    "results = []\n",
    "\n",
    "for i, user in users_to_predict.iterrows():\n",
    "    _, hotel_clusters = index(queries={'user_id':tf.constant([str(user['user_id'])]), \n",
    "                                       'is_package': tf.constant([user['is_package']])})\n",
    "    results.append({'user_id': user['user_id'], 'hotel cluster' : [int(i) for i in hotel_clusters[0, :5].numpy()]})\n",
    "    if i % 1_000 == 0:\n",
    "        print(f\"Parsed {i} users.\")"
   ]
  },
  {
   "cell_type": "code",
   "execution_count": null,
   "metadata": {},
   "outputs": [],
   "source": [
    "pd.DataFrame(results)"
   ]
  },
  {
   "cell_type": "markdown",
   "metadata": {},
   "source": [
    "### Brute force per record\n",
    "\n",
    "Too slow and yields the same result"
   ]
  },
  {
   "cell_type": "code",
   "execution_count": null,
   "metadata": {},
   "outputs": [],
   "source": [
    "# Create a model that takes in raw query features, and\n",
    "index_bruteforce = tfrs.layers.ann.BruteForce(query_model=model.user_model)\n",
    "\n",
    "hotel_cluster_embeddings = hotels.batch(100).map(model.hotel_cluster_model)\n",
    "\n",
    "# recommends hotels from all hotel clusters.\n",
    "index_bruteforce.index(candidates=hotel_cluster_embeddings, \n",
    "                      identifiers=hotels)\n",
    "\n",
    "results_bruteforce = []\n",
    "\n",
    "for row in final_test_set.batch(1).take(5_00):\n",
    "    _, hotel_cluster = index_bruteforce(queries=row)\n",
    "    results_bruteforce.append([int(i) for i in hotel_cluster.numpy()[0][:5]])"
   ]
  },
  {
   "cell_type": "markdown",
   "metadata": {},
   "source": [
    "### Annoy\n",
    "\n",
    "Uses NNeirest neighbours for the items. Because we 'only' have 100 items (=hotel clusters), the computational benefit does not differ much from brute force."
   ]
  },
  {
   "cell_type": "code",
   "execution_count": null,
   "metadata": {},
   "outputs": [],
   "source": [
    "from annoy import AnnoyIndex\n",
    "\n",
    "index = AnnoyIndex(embedding_dimension, \"dot\")\n",
    "\n",
    "hotel_embeddings = hotels.enumerate().map(lambda idx, cluster: (idx, cluster, model.hotel_cluster_model(cluster)))\n",
    "hotel_embeddings\n",
    "\n",
    "# We unbatch the dataset because Annoy accepts only scalar (id, embedding) pairs.\n",
    "for hotel_id, _, hotel_embedding in hotel_embeddings.as_numpy_iterator():\n",
    "    index.add_item(hotel_id, hotel_embedding)\n",
    "\n",
    "# Build a 10-tree ANN index.\n",
    "index.build(10)\n",
    "\n",
    "results = []\n",
    "\n",
    "for i, row in enumerate(final_test_set.batch(1).take(len(final_test_set))):\n",
    "    query_embedding = model.user_model(row)[0]\n",
    "    results.append(index.get_nns_by_vector(query_embedding, 5))\n",
    "    print(query_embedding)\n",
    "    if i % 10_000 == 0:\n",
    "        print(f\"Parsed {i} users.\")\n",
    "        \n",
    "# import pickle\n",
    "\n",
    "# with open(\"./results_230_000.txt\", \"wb\") as fp:   #Pickling\n",
    "#     pickle.dump(results, fp)"
   ]
  },
  {
   "cell_type": "code",
   "execution_count": null,
   "metadata": {},
   "outputs": [],
   "source": []
  }
 ],
 "metadata": {
  "kernelspec": {
   "display_name": "recommender (Python=3.7)",
   "language": "python",
   "name": "recommender"
  },
  "language_info": {
   "codemirror_mode": {
    "name": "ipython",
    "version": 3
   },
   "file_extension": ".py",
   "mimetype": "text/x-python",
   "name": "python",
   "nbconvert_exporter": "python",
   "pygments_lexer": "ipython3",
   "version": "3.7.9"
  },
  "toc": {
   "base_numbering": 1,
   "nav_menu": {},
   "number_sections": true,
   "sideBar": true,
   "skip_h1_title": false,
   "title_cell": "Table of Contents",
   "title_sidebar": "Contents",
   "toc_cell": false,
   "toc_position": {
    "height": "calc(100% - 180px)",
    "left": "10px",
    "top": "150px",
    "width": "268.793px"
   },
   "toc_section_display": true,
   "toc_window_display": true
  }
 },
 "nbformat": 4,
 "nbformat_minor": 4
}
