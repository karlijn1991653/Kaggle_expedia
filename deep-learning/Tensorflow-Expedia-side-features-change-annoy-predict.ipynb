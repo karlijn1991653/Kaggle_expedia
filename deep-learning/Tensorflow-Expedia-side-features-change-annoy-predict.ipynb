{
 "cells": [
  {
   "cell_type": "markdown",
   "metadata": {},
   "source": [
    "# Tensorflow Expedia plus features"
   ]
  },
  {
   "cell_type": "code",
   "execution_count": null,
   "metadata": {},
   "outputs": [],
   "source": [
    "!pip install tensorflow_recommenders"
   ]
  },
  {
   "cell_type": "code",
   "execution_count": 1,
   "metadata": {},
   "outputs": [],
   "source": [
    "import os\n",
    "import pprint\n",
    "import tempfile\n",
    "\n",
    "from typing import Dict, Text\n",
    "\n",
    "import datetime as dt\n",
    "\n",
    "%matplotlib inline\n",
    "import matplotlib.pyplot as plt\n",
    "\n",
    "import numpy as np\n",
    "import tensorflow as tf\n",
    "import tensorflow_datasets as tfds\n",
    "import pandas as pd\n",
    "\n",
    "import tensorflow_recommenders as tfrs"
   ]
  },
  {
   "cell_type": "code",
   "execution_count": 2,
   "metadata": {},
   "outputs": [],
   "source": [
    "tf.compat.v1.logging.set_verbosity(tf.compat.v1.logging.ERROR)"
   ]
  },
  {
   "cell_type": "markdown",
   "metadata": {},
   "source": [
    "## Load data"
   ]
  },
  {
   "cell_type": "code",
   "execution_count": 86,
   "metadata": {},
   "outputs": [],
   "source": [
    "data_dir = '../data/expedia/'\n",
    "\n",
    "def convert_date(date_col):\n",
    "    return (pd.to_datetime(date_col) - dt.datetime(1970,1,1)).dt.total_seconds()\n",
    "\n",
    "def convert_features(df: pd.DataFrame) -> pd.DataFrame:\n",
    "    \n",
    "    # Convert date to unix timestamp\n",
    "    df['date_time'] = convert_date(df['date_time'])\n",
    "    \n",
    "    # Add number of days\n",
    "    df['srch_total_time'] = (pd.to_datetime(df['srch_co'], errors='coerce')\n",
    "                             -pd.to_datetime(df['srch_ci'], errors='coerce'))\n",
    "    \n",
    "    df['srch_total_time'] = (df['srch_total_time']\n",
    "                             .fillna(df['srch_total_time']\n",
    "                             .mean())\n",
    "                             .apply(lambda x: int(x.days)))\n",
    "    \n",
    "    df['srch_destination_id'] = [bytes(str(uid), 'utf-8') for uid in df['srch_destination_id']]\n",
    "    \n",
    "    df['hotel_country'] = [bytes(str(uid), 'utf-8') for uid in df['hotel_country']]\n",
    "    \n",
    "    df['hotel_market'] = [bytes(str(uid), 'utf-8') for uid in df['hotel_market']]\n",
    "\n",
    "    df['user_location_city'] = [bytes(str(uid), 'utf-8') for uid in df['user_location_city']]\n",
    "    \n",
    "    df['orig_destination_distance'] = df['orig_destination_distance'].fillna(-1)\n",
    "    \n",
    "    # Convert to bytes\n",
    "    df['user_id'] = [bytes(str(uid), 'utf-8') for uid in df['user_id']]\n",
    "    \n",
    "    df = df.drop(['srch_ci', 'srch_co'], axis=1)\n",
    "    \n",
    "    if 'hotel_cluster' in df.columns:\n",
    "        df['hotel_cluster'] = [bytes(str(uid), 'utf-8') for uid in df['hotel_cluster']]\n",
    "        df = df.drop(['cnt'], axis=1)\n",
    "    \n",
    "    return df\n",
    "    \n",
    "\n",
    "def create_tf_datasets(df: pd.DataFrame):\n",
    "            \n",
    "    features = convert_features(df)\n",
    "        \n",
    "    # Create tf datasets\n",
    "    dataset = tf.data.Dataset.from_tensor_slices((dict(features))) \n",
    "    hotels = tf.data.Dataset.from_tensor_slices([bytes(str(uid), 'utf-8') for uid in range(0, 100)])    \n",
    "    \n",
    "    # Column selection\n",
    "    dataset = dataset.map(lambda x: {\n",
    "        \"hotel_cluster\": x[\"hotel_cluster\"],\n",
    "        \"user_id\": x[\"user_id\"],\n",
    "        \"is_package\" : x[\"is_package\"],\n",
    "        \"srch_adults_cnt\" : x[\"srch_adults_cnt\"],\n",
    "        \"srch_children_cnt\": x[\"srch_children_cnt\"],\n",
    "        \"srch_total_time\" : x[\"srch_total_time\"],\n",
    "        \"srch_destination_id\" : x[\"srch_destination_id\"],\n",
    "        \"is_booking\" : x[\"is_booking\"],\n",
    "        \"hotel_country\": x[\"hotel_country\"], \n",
    "        \"hotel_market\": x[\"hotel_market\"],\n",
    "        \"orig_destination_distance\": x[\"orig_destination_distance\"],\n",
    "        \"user_location_city\": x[\"user_location_city\"],\n",
    "    })\n",
    "    \n",
    "    return dataset, hotels, len(df)\n",
    "    \n",
    "def create_tf_test_dataset(df: pd.DataFrame):\n",
    "    \n",
    "    features = convert_features(df)\n",
    "    \n",
    "    features['is_booking'] = [1 for _ in range(len(df_test))]\n",
    "    \n",
    "    dataset = tf.data.Dataset.from_tensor_slices((dict(features))) \n",
    "\n",
    "    return dataset.map(lambda x: {\n",
    "        \"user_id\": x[\"user_id\"],\n",
    "        \"is_package\" : x[\"is_package\"],\n",
    "        \"srch_adults_cnt\" : x[\"srch_adults_cnt\"],\n",
    "        \"srch_children_cnt\": x[\"srch_children_cnt\"],\n",
    "        \"srch_total_time\": x[\"srch_total_time\"],\n",
    "        \"srch_destination_id\" : x[\"srch_destination_id\"],\n",
    "        \"is_booking\": x[\"is_booking\"],\n",
    "        \"hotel_country\": x[\"hotel_country\"], \n",
    "        \"hotel_market\": x[\"hotel_market\"],\n",
    "        \"orig_destination_distance\": x[\"orig_destination_distance\"],\n",
    "        \"user_location_city\": x[\"user_location_city\"],\n",
    "    })    "
   ]
  },
  {
   "cell_type": "code",
   "execution_count": 60,
   "metadata": {},
   "outputs": [],
   "source": [
    "if False:\n",
    "    df_selected = df[['user_id', 'is_package', 'srch_adults_cnt', 'srch_children_cnt', 'srch_ci', 'srch_co', \n",
    "     'srch_destination_id', 'hotel_cluster', 'is_booking', 'date_time', 'cnt']]\n",
    "\n",
    "    df_selected.to_csv(data_dir + 'selected.csv', index=False)\n",
    "    \n",
    "if False:\n",
    "\n",
    "    df_selected = df[(df['date_time'] > '2014-06-01') | (df['is_booking'] == 1)][[\n",
    "        'user_id', 'is_package', 'srch_adults_cnt', 'srch_children_cnt', 'srch_ci', 'srch_co', \n",
    "        'srch_destination_id', 'hotel_cluster', 'is_booking', 'date_time', 'cnt', 'orig_destination_distance',\n",
    "        'user_location_city', 'hotel_country', 'hotel_market']]\n",
    "\n",
    "    df_selected.to_csv(data_dir + 'selected_small.csv', index=False)"
   ]
  },
  {
   "cell_type": "code",
   "execution_count": 61,
   "metadata": {},
   "outputs": [
    {
     "name": "stdout",
     "output_type": "stream",
     "text": [
      "{'hotel_cluster': b'15',\n",
      " 'hotel_country': b'34',\n",
      " 'hotel_market': b'1396',\n",
      " 'is_booking': 0,\n",
      " 'is_package': 0,\n",
      " 'orig_destination_distance': -1.0,\n",
      " 'srch_adults_cnt': 1,\n",
      " 'srch_children_cnt': 0,\n",
      " 'srch_destination_id': b'22260',\n",
      " 'srch_total_time': 1,\n",
      " 'user_id': b'472333',\n",
      " 'user_location_city': b'38962'}\n"
     ]
    }
   ],
   "source": [
    "filename = 'train_sample' # 'train_sample' 'train_bookings', 'train', 'selected_small',\n",
    "\n",
    "df = pd.read_csv(data_dir + f'{filename}.csv')\n",
    "\n",
    "dataset, hotels, n_records = create_tf_datasets(df)\n",
    "\n",
    "for x in dataset.take(1).as_numpy_iterator():\n",
    "    pprint.pprint(x)"
   ]
  },
  {
   "cell_type": "code",
   "execution_count": 151,
   "metadata": {},
   "outputs": [],
   "source": [
    "# Saving as tensorflow dataset resulted in a large format \n",
    "# tf.data.experimental.save(dataset, data_dir + \"train_dataset\", compression='gzip') #gzip"
   ]
  },
  {
   "cell_type": "markdown",
   "metadata": {},
   "source": [
    "## Colab load data"
   ]
  },
  {
   "cell_type": "markdown",
   "metadata": {},
   "source": [
    "### Manual upload"
   ]
  },
  {
   "cell_type": "code",
   "execution_count": 6,
   "metadata": {},
   "outputs": [
    {
     "ename": "ModuleNotFoundError",
     "evalue": "No module named 'google.colab'",
     "output_type": "error",
     "traceback": [
      "\u001b[0;31m---------------------------------------------------------------------------\u001b[0m",
      "\u001b[0;31mModuleNotFoundError\u001b[0m                       Traceback (most recent call last)",
      "\u001b[0;32m<ipython-input-6-32715ec90e88>\u001b[0m in \u001b[0;36m<module>\u001b[0;34m\u001b[0m\n\u001b[1;32m      1\u001b[0m \u001b[0;31m# Upload Colab per file\u001b[0m\u001b[0;34m\u001b[0m\u001b[0;34m\u001b[0m\u001b[0;34m\u001b[0m\u001b[0m\n\u001b[0;32m----> 2\u001b[0;31m \u001b[0;32mfrom\u001b[0m \u001b[0mgoogle\u001b[0m\u001b[0;34m.\u001b[0m\u001b[0mcolab\u001b[0m \u001b[0;32mimport\u001b[0m \u001b[0mfiles\u001b[0m\u001b[0;34m\u001b[0m\u001b[0;34m\u001b[0m\u001b[0m\n\u001b[0m\u001b[1;32m      3\u001b[0m \u001b[0;32mimport\u001b[0m \u001b[0mio\u001b[0m\u001b[0;34m\u001b[0m\u001b[0;34m\u001b[0m\u001b[0m\n\u001b[1;32m      4\u001b[0m \u001b[0;34m\u001b[0m\u001b[0m\n\u001b[1;32m      5\u001b[0m \u001b[0muploaded\u001b[0m \u001b[0;34m=\u001b[0m \u001b[0mfiles\u001b[0m\u001b[0;34m.\u001b[0m\u001b[0mupload\u001b[0m\u001b[0;34m(\u001b[0m\u001b[0;34m)\u001b[0m\u001b[0;34m\u001b[0m\u001b[0;34m\u001b[0m\u001b[0m\n",
      "\u001b[0;31mModuleNotFoundError\u001b[0m: No module named 'google.colab'"
     ]
    }
   ],
   "source": [
    "# Upload Colab per file\n",
    "from google.colab import files\n",
    "import io\n",
    "\n",
    "uploaded = files.upload()\n",
    "\n",
    "for fn in uploaded.keys():\n",
    "    print('User uploaded file \"{name}\" with length {length} bytes'.format(\n",
    "      name=fn, length=len(uploaded[fn])))\n",
    "    \n",
    "df = pd.read_csv(io.StringIO(uploaded['train_sample.csv'].decode('utf-8')))"
   ]
  },
  {
   "cell_type": "markdown",
   "metadata": {},
   "source": [
    "### Load from Google drive"
   ]
  },
  {
   "cell_type": "code",
   "execution_count": null,
   "metadata": {},
   "outputs": [],
   "source": [
    "from google.colab import drive\n",
    "drive.mount('/content/gdrive')"
   ]
  },
  {
   "cell_type": "code",
   "execution_count": null,
   "metadata": {},
   "outputs": [],
   "source": [
    "import os\n",
    "os.environ['KAGGLE_CONFIG_DIR'] = \"/content/gdrive/My Drive/kaggle\"\n",
    "# /content/gdrive/My Drive/Kaggle is the path where kaggle.json is present in the Google Drive\n",
    "\n",
    "#changing the working directory\n",
    "%cd /content/gdrive/My Drive/kaggle\n",
    "#Check the present working directory using pwd command\n",
    "os.getcwd()"
   ]
  },
  {
   "cell_type": "code",
   "execution_count": null,
   "metadata": {},
   "outputs": [],
   "source": [
    "# Download the Kaggle dataset in case\n",
    "!kaggle competitions download -c expedia-hotel-recommendations\n",
    "!unzip \\*.zip  && rm *.zip"
   ]
  },
  {
   "cell_type": "code",
   "execution_count": null,
   "metadata": {},
   "outputs": [],
   "source": [
    "filename = 'train_bookings' # 'train_sample' 'train_bookings'\n",
    "\n",
    "data_dir = './'\n",
    "\n",
    "df = pd.read_csv(data_dir + f'{filename}.csv')\n",
    "dataset, hotels, n_records = create_tf_datasets(df)"
   ]
  },
  {
   "cell_type": "markdown",
   "metadata": {},
   "source": [
    "## Parse data"
   ]
  },
  {
   "cell_type": "code",
   "execution_count": 62,
   "metadata": {},
   "outputs": [
    {
     "data": {
      "text/plain": [
       "[b'0', b'1', b'2', b'3', b'4', b'5', b'6', b'7', b'8', b'9']"
      ]
     },
     "execution_count": 62,
     "metadata": {},
     "output_type": "execute_result"
    }
   ],
   "source": [
    "unique_user_ids = [bytes(str(uid), 'utf-8') for uid in np.unique(df['user_id'])]\n",
    "unique_hotel_clusters = [bytes(str(uid), 'utf-8') for uid in np.unique(df['hotel_cluster'])]\n",
    "\n",
    "is_package = np.unique(df['is_package'])\n",
    "srch_adults = np.unique(df[\"srch_adults_cnt\"])\n",
    "srch_children = np.unique(df[\"srch_children_cnt\"])\n",
    "orig_destination_distance = np.unique(df[\"orig_destination_distance\"].fillna(-1))\n",
    "\n",
    "# TODO contains negative days\n",
    "srch_total_time = np.unique(df[\"srch_total_time\"])\n",
    "\n",
    "srch_destination_id = np.unique(df[\"srch_destination_id\"])\n",
    "\n",
    "is_booking = np.unique(df['is_booking'])\n",
    "\n",
    "hotel_country = np.unique([bytes(str(uid), 'utf-8') for uid in np.unique(df['hotel_country'])])\n",
    "\n",
    "hotel_market =  np.unique([bytes(str(uid), 'utf-8') for uid in np.unique(df['hotel_market'])])\n",
    "\n",
    "user_location_city = np.unique([bytes(str(uid), 'utf-8') for uid in np.unique(df['user_location_city'])])\n",
    "\n",
    "unique_hotel_clusters[:10]"
   ]
  },
  {
   "cell_type": "markdown",
   "metadata": {},
   "source": [
    "## Model\n",
    "\n",
    "Indicator columns and embedding columns never work on features directly\n",
    "\n",
    "https://keras.io/guides/preprocessing_layers/\n",
    "\n",
    "We only have 100 hotel clusters, so a retrival model might not be optimal. When we include the hotel_cluster as one of the features, we see that the accuracy on the Top 1 is still around 70% (For k=5 it does equal 100%). We cannot use a ranking model as we don't have a rank for a query-hotel cluster combination. Trying different loss functions, running for more epochs didn't work.\n",
    "\n",
    "Open questions:\n",
    "- What is the default loss value of the Retrival model? Explicitely filling in CategoricalCrossEntopy yields less good results.\n",
    "- Why is the loss function lower for a lower 1K accuracy while the 5K, 50K and 100K accuracy are all one?\n",
    "- Why do we not receive an accuracy of 1 for 1K if we add hotel cluster as one of the features? Could be linked to the loss function.\n",
    "\n",
    "Changing the hotel clusters do a categorical variable and adding a Dense layer afterwards also didn't help."
   ]
  },
  {
   "cell_type": "code",
   "execution_count": 64,
   "metadata": {},
   "outputs": [],
   "source": [
    "class UserModel(tf.keras.Model):\n",
    "  \n",
    "    def __init__(self):\n",
    "        super().__init__()\n",
    "        \n",
    "        self.user_embedding = tf.keras.Sequential([\n",
    "            tf.keras.layers.experimental.preprocessing.StringLookup(\n",
    "                vocabulary=unique_user_ids, mask_token=None),\n",
    "            tf.keras.layers.Embedding(len(unique_user_ids) + 1, 32),\n",
    "        ])\n",
    "\n",
    "        self.package_encoder = self._encoder(is_package)\n",
    "        \n",
    "        self.adults_cnt_normalizer = self._normalizer(srch_adults)\n",
    "        \n",
    "        self.children_cnt_normalizer = self._normalizer(srch_children)\n",
    "\n",
    "        self.srch_destination_embedding = self._embedding(srch_destination_id, size=32)\n",
    "        \n",
    "        self.booking_encoder = self._encoder(is_booking)\n",
    "        \n",
    "        self.hotel_country_embedding = self._embedding(vocabulary=hotel_country, size=32)\n",
    "        \n",
    "        self.hotel_market_embedding = self._embedding(vocabulary=hotel_market, size=32)\n",
    "        \n",
    "        self.orig_destination_distance_normalizer = self._normalizer(orig_destination_distance)\n",
    "        \n",
    "        self.user_location_city_embedding = self._embedding(vocabulary=user_location_city)\n",
    "        \n",
    "        # self.hotel_clusters = self._embedding(vocabulary=unique_hotel_clusters, size=32)\n",
    "        \n",
    "    def _embedding(self, vocabulary, size=32):\n",
    "        return tf.keras.Sequential([\n",
    "            tf.keras.layers.experimental.preprocessing.StringLookup(\n",
    "                vocabulary=vocabulary, mask_token=None,  input_shape=(32,)),\n",
    "            tf.keras.layers.Embedding(len(vocabulary) + 1, size),\n",
    "        ])\n",
    "    \n",
    "    def _normalizer(self, continuous_var):\n",
    "        \n",
    "        normalizer = (tf.keras.layers\n",
    "                              .experimental.preprocessing\n",
    "                              .Normalization())\n",
    "        \n",
    "        normalizer.adapt(continuous_var)\n",
    "        \n",
    "        return normalizer\n",
    "    \n",
    "    def _encoder(self, categorical_var, output_mode=\"binary\"):\n",
    "        \n",
    "        encoder = (tf.keras\n",
    "                        .layers.experimental\n",
    "                        .preprocessing\n",
    "                        .CategoryEncoding(output_mode=output_mode))\n",
    "        \n",
    "        encoder.adapt(categorical_var)\n",
    "        \n",
    "        return encoder\n",
    "        \n",
    "    \n",
    "    def call(self, inputs):\n",
    "\n",
    "        return tf.concat([\n",
    "            self.user_embedding(inputs[\"user_id\"]),\n",
    "            self.package_encoder(inputs[\"is_package\"]),\n",
    "            self.adults_cnt_normalizer(inputs['srch_adults_cnt']),\n",
    "            self.srch_destination_embedding(inputs[\"srch_destination_id\"]),\n",
    "            self.booking_encoder(inputs[\"is_booking\"]),\n",
    "            self.hotel_country_embedding(inputs[\"hotel_country\"]),\n",
    "            self.hotel_market_embedding(inputs[\"hotel_market\"]),\n",
    "            self.orig_destination_distance_normalizer(inputs[\"orig_destination_distance\"]),\n",
    "            self.user_location_city_embedding(inputs[\"user_location_city\"])\n",
    "            # self.hotel_clusters(inputs['hotel_cluster'])\n",
    "        ], axis=1)"
   ]
  },
  {
   "cell_type": "code",
   "execution_count": 65,
   "metadata": {},
   "outputs": [],
   "source": [
    "embedding_dimension = 32\n",
    "\n",
    "# top K categorical accuracy: how often the true candidate is in the top K candidates for a given query."
   ]
  },
  {
   "cell_type": "code",
   "execution_count": 66,
   "metadata": {},
   "outputs": [],
   "source": [
    "# Candidate tower\n",
    "class HotelClusterModel(tf.keras.Model):\n",
    "    \n",
    "    def __init__(self):\n",
    "        super().__init__()\n",
    "            \n",
    "        self.hotel_clusters = tf.keras.Sequential([\n",
    "          tf.keras.layers.experimental.preprocessing.StringLookup(\n",
    "          vocabulary=unique_hotel_clusters, mask_token=None),\n",
    "          tf.keras.layers.Embedding(len(unique_hotel_clusters) + 1, embedding_dimension)\n",
    "        ])\n",
    "        \n",
    "    def call(self, hotel_cluster):\n",
    "        return self.hotel_clusters(hotel_cluster) "
   ]
  },
  {
   "cell_type": "code",
   "execution_count": 67,
   "metadata": {},
   "outputs": [],
   "source": [
    "class ExpediaModel(tfrs.Model):\n",
    "\n",
    "    def __init__(self, layer_sizes: list):\n",
    "        super().__init__()\n",
    "        self.hotel_cluster_model: tf.keras.Model = HotelClusterModel()\n",
    "        \n",
    "        self.user_model: tf.keras.Model = tf.keras.Sequential()\n",
    "            \n",
    "        self.user_model.add(UserModel())\n",
    "        \n",
    "        for layer_size in layer_sizes:\n",
    "            self.user_model.add(tf.keras.layers.Dense(layer_size, activation=\"relu\"))\n",
    "        self.user_model.add(tf.keras.layers.Dense(embedding_dimension))\n",
    "                \n",
    "        metrics = tfrs.metrics.FactorizedTopK(\n",
    "          k=1,\n",
    "          candidates=hotels.batch(128).map(self.hotel_cluster_model)\n",
    "        )\n",
    "\n",
    "        self.task: tf.keras.layers.Layer = tfrs.tasks.Retrieval(\n",
    "          metrics=metrics\n",
    "        )\n",
    "\n",
    "    def compute_loss(self, features: Dict[Text, tf.Tensor], training=False) -> tf.Tensor:\n",
    "        # We pass the features to the user model\n",
    "        user_embeddings = self.user_model(features)\n",
    "        # And pick out the movie features and pass them into the movie model,\n",
    "        # getting embeddings back.\n",
    "        positive_hotel_clusters = self.hotel_cluster_model(features['hotel_cluster'])\n",
    "\n",
    "        # The task computes the loss and the metrics.\n",
    "        return self.task(user_embeddings, positive_hotel_clusters)"
   ]
  },
  {
   "cell_type": "code",
   "execution_count": 68,
   "metadata": {},
   "outputs": [],
   "source": [
    "model = ExpediaModel(layer_sizes=[])\n",
    "model.compile(optimizer=tf.keras.optimizers.Adagrad(learning_rate=0.1))"
   ]
  },
  {
   "cell_type": "code",
   "execution_count": 69,
   "metadata": {},
   "outputs": [],
   "source": [
    "# TODO timesplit\n",
    "tf.random.set_seed(42)\n",
    "shuffled = dataset.shuffle(n_records, seed=42, reshuffle_each_iteration=False)\n",
    "\n",
    "train = shuffled.take(int(0.95 * n_records))\n",
    "test = shuffled.skip(int(0.95 * n_records)).take(int(0.05 * n_records))\n",
    "\n",
    "cached_train = train.batch(8192).cache()\n",
    "cached_test = test.batch(4096).cache()"
   ]
  },
  {
   "cell_type": "code",
   "execution_count": 70,
   "metadata": {},
   "outputs": [],
   "source": [
    "early_stopping = tf.keras.callbacks.EarlyStopping(monitor=\"val_factorized_top_k/top_1_categorical_accuracy\", patience=2)"
   ]
  },
  {
   "cell_type": "code",
   "execution_count": null,
   "metadata": {},
   "outputs": [],
   "source": [
    "fitted_model = model.fit(cached_train, \n",
    "          validation_data=cached_test,\n",
    "          validation_freq=1,\n",
    "          callbacks=[early_stopping],\n",
    "          epochs=2)"
   ]
  },
  {
   "cell_type": "code",
   "execution_count": 24,
   "metadata": {},
   "outputs": [
    {
     "name": "stdout",
     "output_type": "stream",
     "text": [
      "7/7 [==============================] - 1s 78ms/step - factorized_top_k: 0.0000e+00 - factorized_top_k/top_1_categorical_accuracy: 0.0000e+00 - factorized_top_k/top_5_categorical_accuracy: 0.0000e+00 - factorized_top_k/top_10_categorical_accuracy: 0.0000e+00 - factorized_top_k/top_50_categorical_accuracy: 0.0000e+00 - factorized_top_k/top_100_categorical_accuracy: 0.0000e+00 - loss: nan - regularization_loss: 0.0000e+00 - total_loss: nan\n"
     ]
    },
    {
     "data": {
      "text/plain": [
       "{'factorized_top_k': array([0., 0., 0., 0., 0.], dtype=float32),\n",
       " 'factorized_top_k/top_1_categorical_accuracy': 0.0,\n",
       " 'factorized_top_k/top_5_categorical_accuracy': 0.0,\n",
       " 'factorized_top_k/top_10_categorical_accuracy': 0.0,\n",
       " 'factorized_top_k/top_50_categorical_accuracy': 0.0,\n",
       " 'factorized_top_k/top_100_categorical_accuracy': 0.0,\n",
       " 'loss': nan,\n",
       " 'regularization_loss': 0,\n",
       " 'total_loss': nan}"
      ]
     },
     "execution_count": 24,
     "metadata": {},
     "output_type": "execute_result"
    }
   ],
   "source": [
    "model.evaluate(cached_test, return_dict=True)"
   ]
  },
  {
   "cell_type": "code",
   "execution_count": 19,
   "metadata": {},
   "outputs": [
    {
     "name": "stdout",
     "output_type": "stream",
     "text": [
      "Top-1 accuracy: 0.085.\n"
     ]
    },
    {
     "data": {
      "image/png": "[encoded data removed]",
      "text/plain": [
       "<Figure size 432x288 with 1 Axes>"
      ]
     },
     "metadata": {
      "needs_background": "light"
     },
     "output_type": "display_data"
    }
   ],
   "source": [
    "accuracy = fitted_model.history[\"val_factorized_top_k/top_1_categorical_accuracy\"][-1]\n",
    "print(f\"Top-1 accuracy: {accuracy:.3f}.\")\n",
    "\n",
    "num_validation_runs = len(\n",
    "fitted_model.history[\"val_factorized_top_k/top_1_categorical_accuracy\"])\n",
    "epochs = [(x + 1)* 1 for x in range(num_validation_runs)]\n",
    "\n",
    "plt.plot(epochs, fitted_model.history[\"val_factorized_top_k/top_1_categorical_accuracy\"], label=\"simple model\")\n",
    "plt.title(\"Accuracy vs epoch\")\n",
    "plt.xlabel(\"epoch\")\n",
    "plt.ylabel(\"Top-1 accuracy\");\n",
    "plt.legend();"
   ]
  },
  {
   "cell_type": "markdown",
   "metadata": {},
   "source": [
    "### Save model"
   ]
  },
  {
   "cell_type": "code",
   "execution_count": 113,
   "metadata": {},
   "outputs": [],
   "source": [
    "# Save model\n",
    "query_path = os.path.join('./models/', f\"{filename}_package_query_model\")\n",
    "model.user_model.save(query_path)\n",
    "\n",
    "candidate_path = os.path.join('./models/', f\"{filename}_package_candidate_model\")\n",
    "model.hotel_cluster_model.save(candidate_path)"
   ]
  },
  {
   "cell_type": "code",
   "execution_count": 114,
   "metadata": {},
   "outputs": [
    {
     "data": {
      "text/plain": [
       "'/Users/wf07pu/Documents/workspace/Kaggle_expedia/deep-learning'"
      ]
     },
     "execution_count": 114,
     "metadata": {},
     "output_type": "execute_result"
    }
   ],
   "source": [
    "os.getcwd()"
   ]
  },
  {
   "cell_type": "code",
   "execution_count": 29,
   "metadata": {},
   "outputs": [
    {
     "data": {
      "text/plain": [
       "<tf.Tensor: shape=(4096, 32), dtype=float32, numpy=\n",
       "array([[-0.11536495, -0.35532725, -0.29341123, ..., -0.12003823,\n",
       "        -0.1506847 ,  0.13403347],\n",
       "       [-0.06841899,  0.12776509, -0.00734759, ...,  0.16686675,\n",
       "        -0.39123264, -0.13943402],\n",
       "       [-0.25987336, -0.0114258 ,  0.34444422, ...,  0.6702015 ,\n",
       "        -0.53774613, -0.5448187 ],\n",
       "       ...,\n",
       "       [-0.18969959, -0.41773486, -0.13887192, ...,  0.1610161 ,\n",
       "         0.07017141,  0.25148642],\n",
       "       [-0.3093794 ,  0.13931379, -0.14610325, ...,  1.1008857 ,\n",
       "         0.11728058, -0.13133314],\n",
       "       [-0.08509706, -0.39110804, -0.23782617, ..., -0.10203935,\n",
       "         0.02522854,  0.19742453]], dtype=float32)>"
      ]
     },
     "execution_count": 29,
     "metadata": {},
     "output_type": "execute_result"
    }
   ],
   "source": [
    "model.user_model(list(cached_test.take(1))[0])"
   ]
  },
  {
   "cell_type": "code",
   "execution_count": 121,
   "metadata": {},
   "outputs": [],
   "source": [
    "# Load model\n",
    "filename = 'train_sample'\n",
    "query_path = os.path.join('./models/', f\"{filename}_package_query_model\")\n",
    "user_model = tf.keras.models.load_model(query_path)\n",
    "\n",
    "candidate_path = os.path.join('./models/', f\"{filename}_package_candidate_model\")\n",
    "candidate_model = tf.keras.models.load_model(candidate_path)"
   ]
  },
  {
   "cell_type": "markdown",
   "metadata": {},
   "source": [
    "## Predictions"
   ]
  },
  {
   "cell_type": "code",
   "execution_count": 87,
   "metadata": {},
   "outputs": [],
   "source": [
    "df_test = pd.read_csv(data_dir + 'test.csv')\n",
    "final_test_set = create_tf_test_dataset(df_test)\n",
    "\n",
    "final_test_set_cached = final_test_set.batch(4096)"
   ]
  },
  {
   "cell_type": "code",
   "execution_count": 88,
   "metadata": {},
   "outputs": [
    {
     "ename": "ValueError",
     "evalue": "in user code:\n\n    /Users/wf07pu/miniconda3/envs/recommender/lib/python3.7/site-packages/tensorflow/python/keras/engine/training.py:1462 predict_function  *\n        return step_function(self, iterator)\n    <ipython-input-64-a8eb78a96df4>:72 call  *\n        self.user_location_city_embedding(inputs[\"user_location_city\"])\n    /Users/wf07pu/miniconda3/envs/recommender/lib/python3.7/site-packages/tensorflow/python/util/dispatch.py:201 wrapper  **\n        return target(*args, **kwargs)\n    /Users/wf07pu/miniconda3/envs/recommender/lib/python3.7/site-packages/tensorflow/python/ops/array_ops.py:1654 concat\n        return gen_array_ops.concat_v2(values=values, axis=axis, name=name)\n    /Users/wf07pu/miniconda3/envs/recommender/lib/python3.7/site-packages/tensorflow/python/ops/gen_array_ops.py:1222 concat_v2\n        \"ConcatV2\", values=values, axis=axis, name=name)\n    /Users/wf07pu/miniconda3/envs/recommender/lib/python3.7/site-packages/tensorflow/python/framework/op_def_library.py:744 _apply_op_helper\n        attrs=attr_protos, op_def=op_def)\n    /Users/wf07pu/miniconda3/envs/recommender/lib/python3.7/site-packages/tensorflow/python/framework/func_graph.py:593 _create_op_internal\n        compute_device)\n    /Users/wf07pu/miniconda3/envs/recommender/lib/python3.7/site-packages/tensorflow/python/framework/ops.py:3485 _create_op_internal\n        op_def=op_def)\n    /Users/wf07pu/miniconda3/envs/recommender/lib/python3.7/site-packages/tensorflow/python/framework/ops.py:1975 __init__\n        control_input_ops, op_def)\n    /Users/wf07pu/miniconda3/envs/recommender/lib/python3.7/site-packages/tensorflow/python/framework/ops.py:1815 _create_c_op\n        raise ValueError(str(e))\n\n    ValueError: Shape must be rank 2 but is rank 3 for '{{node sequential_36/user_model_5/concat}} = ConcatV2[N=9, T=DT_FLOAT, Tidx=DT_INT32](sequential_36/user_model_5/sequential_37/embedding_31/embedding_lookup/Identity, sequential_36/user_model_5/category_encoding_10/bincount/DenseBincount, sequential_36/user_model_5/normalization_15/truediv, sequential_36/user_model_5/sequential_38/embedding_32/embedding_lookup/Identity_1, sequential_36/user_model_5/category_encoding_11/bincount/DenseBincount, sequential_36/user_model_5/sequential_39/embedding_33/embedding_lookup/Identity_1, sequential_36/user_model_5/sequential_40/embedding_34/embedding_lookup/Identity_1, sequential_36/user_model_5/normalization_17/truediv, sequential_36/user_model_5/sequential_41/embedding_35/embedding_lookup/Identity_1, sequential_36/user_model_5/concat/axis)' with input shapes: [?,32], [?,2], [?,1], [?,1,32], [?,2], [?,1,32], [?,1,32], [?,1], [?,1,32], [].\n",
     "output_type": "error",
     "traceback": [
      "\u001b[0;31m---------------------------------------------------------------------------\u001b[0m",
      "\u001b[0;31mValueError\u001b[0m                                Traceback (most recent call last)",
      "\u001b[0;32m<ipython-input-88-a12caacdb2c9>\u001b[0m in \u001b[0;36m<module>\u001b[0;34m\u001b[0m\n\u001b[0;32m----> 1\u001b[0;31m \u001b[0muser_embeddings\u001b[0m \u001b[0;34m=\u001b[0m \u001b[0mmodel\u001b[0m\u001b[0;34m.\u001b[0m\u001b[0muser_model\u001b[0m\u001b[0;34m.\u001b[0m\u001b[0mpredict\u001b[0m\u001b[0;34m(\u001b[0m\u001b[0mfinal_test_set_cached\u001b[0m\u001b[0;34m)\u001b[0m\u001b[0;34m\u001b[0m\u001b[0;34m\u001b[0m\u001b[0m\n\u001b[0m\u001b[1;32m      2\u001b[0m \u001b[0;34m\u001b[0m\u001b[0m\n\u001b[1;32m      3\u001b[0m \u001b[0muser_embeddings\u001b[0m\u001b[0;34m.\u001b[0m\u001b[0mshape\u001b[0m\u001b[0;34m\u001b[0m\u001b[0;34m\u001b[0m\u001b[0m\n",
      "\u001b[0;32m~/miniconda3/envs/recommender/lib/python3.7/site-packages/tensorflow/python/keras/engine/training.py\u001b[0m in \u001b[0;36m_method_wrapper\u001b[0;34m(self, *args, **kwargs)\u001b[0m\n\u001b[1;32m    128\u001b[0m       raise ValueError('{} is not supported in multi-worker mode.'.format(\n\u001b[1;32m    129\u001b[0m           method.__name__))\n\u001b[0;32m--> 130\u001b[0;31m     \u001b[0;32mreturn\u001b[0m \u001b[0mmethod\u001b[0m\u001b[0;34m(\u001b[0m\u001b[0mself\u001b[0m\u001b[0;34m,\u001b[0m \u001b[0;34m*\u001b[0m\u001b[0margs\u001b[0m\u001b[0;34m,\u001b[0m \u001b[0;34m**\u001b[0m\u001b[0mkwargs\u001b[0m\u001b[0;34m)\u001b[0m\u001b[0;34m\u001b[0m\u001b[0;34m\u001b[0m\u001b[0m\n\u001b[0m\u001b[1;32m    131\u001b[0m \u001b[0;34m\u001b[0m\u001b[0m\n\u001b[1;32m    132\u001b[0m   return tf_decorator.make_decorator(\n",
      "\u001b[0;32m~/miniconda3/envs/recommender/lib/python3.7/site-packages/tensorflow/python/keras/engine/training.py\u001b[0m in \u001b[0;36mpredict\u001b[0;34m(self, x, batch_size, verbose, steps, callbacks, max_queue_size, workers, use_multiprocessing)\u001b[0m\n\u001b[1;32m   1597\u001b[0m           \u001b[0;32mfor\u001b[0m \u001b[0mstep\u001b[0m \u001b[0;32min\u001b[0m \u001b[0mdata_handler\u001b[0m\u001b[0;34m.\u001b[0m\u001b[0msteps\u001b[0m\u001b[0;34m(\u001b[0m\u001b[0;34m)\u001b[0m\u001b[0;34m:\u001b[0m\u001b[0;34m\u001b[0m\u001b[0;34m\u001b[0m\u001b[0m\n\u001b[1;32m   1598\u001b[0m             \u001b[0mcallbacks\u001b[0m\u001b[0;34m.\u001b[0m\u001b[0mon_predict_batch_begin\u001b[0m\u001b[0;34m(\u001b[0m\u001b[0mstep\u001b[0m\u001b[0;34m)\u001b[0m\u001b[0;34m\u001b[0m\u001b[0;34m\u001b[0m\u001b[0m\n\u001b[0;32m-> 1599\u001b[0;31m             \u001b[0mtmp_batch_outputs\u001b[0m \u001b[0;34m=\u001b[0m \u001b[0mpredict_function\u001b[0m\u001b[0;34m(\u001b[0m\u001b[0miterator\u001b[0m\u001b[0;34m)\u001b[0m\u001b[0;34m\u001b[0m\u001b[0;34m\u001b[0m\u001b[0m\n\u001b[0m\u001b[1;32m   1600\u001b[0m             \u001b[0;32mif\u001b[0m \u001b[0mdata_handler\u001b[0m\u001b[0;34m.\u001b[0m\u001b[0mshould_sync\u001b[0m\u001b[0;34m:\u001b[0m\u001b[0;34m\u001b[0m\u001b[0;34m\u001b[0m\u001b[0m\n\u001b[1;32m   1601\u001b[0m               \u001b[0mcontext\u001b[0m\u001b[0;34m.\u001b[0m\u001b[0masync_wait\u001b[0m\u001b[0;34m(\u001b[0m\u001b[0;34m)\u001b[0m\u001b[0;34m\u001b[0m\u001b[0;34m\u001b[0m\u001b[0m\n",
      "\u001b[0;32m~/miniconda3/envs/recommender/lib/python3.7/site-packages/tensorflow/python/eager/def_function.py\u001b[0m in \u001b[0;36m__call__\u001b[0;34m(self, *args, **kwds)\u001b[0m\n\u001b[1;32m    778\u001b[0m       \u001b[0;32melse\u001b[0m\u001b[0;34m:\u001b[0m\u001b[0;34m\u001b[0m\u001b[0;34m\u001b[0m\u001b[0m\n\u001b[1;32m    779\u001b[0m         \u001b[0mcompiler\u001b[0m \u001b[0;34m=\u001b[0m \u001b[0;34m\"nonXla\"\u001b[0m\u001b[0;34m\u001b[0m\u001b[0;34m\u001b[0m\u001b[0m\n\u001b[0;32m--> 780\u001b[0;31m         \u001b[0mresult\u001b[0m \u001b[0;34m=\u001b[0m \u001b[0mself\u001b[0m\u001b[0;34m.\u001b[0m\u001b[0m_call\u001b[0m\u001b[0;34m(\u001b[0m\u001b[0;34m*\u001b[0m\u001b[0margs\u001b[0m\u001b[0;34m,\u001b[0m \u001b[0;34m**\u001b[0m\u001b[0mkwds\u001b[0m\u001b[0;34m)\u001b[0m\u001b[0;34m\u001b[0m\u001b[0;34m\u001b[0m\u001b[0m\n\u001b[0m\u001b[1;32m    781\u001b[0m \u001b[0;34m\u001b[0m\u001b[0m\n\u001b[1;32m    782\u001b[0m       \u001b[0mnew_tracing_count\u001b[0m \u001b[0;34m=\u001b[0m \u001b[0mself\u001b[0m\u001b[0;34m.\u001b[0m\u001b[0m_get_tracing_count\u001b[0m\u001b[0;34m(\u001b[0m\u001b[0;34m)\u001b[0m\u001b[0;34m\u001b[0m\u001b[0;34m\u001b[0m\u001b[0m\n",
      "\u001b[0;32m~/miniconda3/envs/recommender/lib/python3.7/site-packages/tensorflow/python/eager/def_function.py\u001b[0m in \u001b[0;36m_call\u001b[0;34m(self, *args, **kwds)\u001b[0m\n\u001b[1;32m    812\u001b[0m       \u001b[0;31m# In this case we have not created variables on the first call. So we can\u001b[0m\u001b[0;34m\u001b[0m\u001b[0;34m\u001b[0m\u001b[0;34m\u001b[0m\u001b[0m\n\u001b[1;32m    813\u001b[0m       \u001b[0;31m# run the first trace but we should fail if variables are created.\u001b[0m\u001b[0;34m\u001b[0m\u001b[0;34m\u001b[0m\u001b[0;34m\u001b[0m\u001b[0m\n\u001b[0;32m--> 814\u001b[0;31m       \u001b[0mresults\u001b[0m \u001b[0;34m=\u001b[0m \u001b[0mself\u001b[0m\u001b[0;34m.\u001b[0m\u001b[0m_stateful_fn\u001b[0m\u001b[0;34m(\u001b[0m\u001b[0;34m*\u001b[0m\u001b[0margs\u001b[0m\u001b[0;34m,\u001b[0m \u001b[0;34m**\u001b[0m\u001b[0mkwds\u001b[0m\u001b[0;34m)\u001b[0m\u001b[0;34m\u001b[0m\u001b[0;34m\u001b[0m\u001b[0m\n\u001b[0m\u001b[1;32m    815\u001b[0m       \u001b[0;32mif\u001b[0m \u001b[0mself\u001b[0m\u001b[0;34m.\u001b[0m\u001b[0m_created_variables\u001b[0m\u001b[0;34m:\u001b[0m\u001b[0;34m\u001b[0m\u001b[0;34m\u001b[0m\u001b[0m\n\u001b[1;32m    816\u001b[0m         raise ValueError(\"Creating variables on a non-first call to a function\"\n",
      "\u001b[0;32m~/miniconda3/envs/recommender/lib/python3.7/site-packages/tensorflow/python/eager/function.py\u001b[0m in \u001b[0;36m__call__\u001b[0;34m(self, *args, **kwargs)\u001b[0m\n\u001b[1;32m   2826\u001b[0m     \u001b[0;34m\"\"\"Calls a graph function specialized to the inputs.\"\"\"\u001b[0m\u001b[0;34m\u001b[0m\u001b[0;34m\u001b[0m\u001b[0m\n\u001b[1;32m   2827\u001b[0m     \u001b[0;32mwith\u001b[0m \u001b[0mself\u001b[0m\u001b[0;34m.\u001b[0m\u001b[0m_lock\u001b[0m\u001b[0;34m:\u001b[0m\u001b[0;34m\u001b[0m\u001b[0;34m\u001b[0m\u001b[0m\n\u001b[0;32m-> 2828\u001b[0;31m       \u001b[0mgraph_function\u001b[0m\u001b[0;34m,\u001b[0m \u001b[0margs\u001b[0m\u001b[0;34m,\u001b[0m \u001b[0mkwargs\u001b[0m \u001b[0;34m=\u001b[0m \u001b[0mself\u001b[0m\u001b[0;34m.\u001b[0m\u001b[0m_maybe_define_function\u001b[0m\u001b[0;34m(\u001b[0m\u001b[0margs\u001b[0m\u001b[0;34m,\u001b[0m \u001b[0mkwargs\u001b[0m\u001b[0;34m)\u001b[0m\u001b[0;34m\u001b[0m\u001b[0;34m\u001b[0m\u001b[0m\n\u001b[0m\u001b[1;32m   2829\u001b[0m     \u001b[0;32mreturn\u001b[0m \u001b[0mgraph_function\u001b[0m\u001b[0;34m.\u001b[0m\u001b[0m_filtered_call\u001b[0m\u001b[0;34m(\u001b[0m\u001b[0margs\u001b[0m\u001b[0;34m,\u001b[0m \u001b[0mkwargs\u001b[0m\u001b[0;34m)\u001b[0m  \u001b[0;31m# pylint: disable=protected-access\u001b[0m\u001b[0;34m\u001b[0m\u001b[0;34m\u001b[0m\u001b[0m\n\u001b[1;32m   2830\u001b[0m \u001b[0;34m\u001b[0m\u001b[0m\n",
      "\u001b[0;32m~/miniconda3/envs/recommender/lib/python3.7/site-packages/tensorflow/python/eager/function.py\u001b[0m in \u001b[0;36m_maybe_define_function\u001b[0;34m(self, args, kwargs)\u001b[0m\n\u001b[1;32m   3208\u001b[0m           \u001b[0;32mand\u001b[0m \u001b[0mself\u001b[0m\u001b[0;34m.\u001b[0m\u001b[0minput_signature\u001b[0m \u001b[0;32mis\u001b[0m \u001b[0;32mNone\u001b[0m\u001b[0;34m\u001b[0m\u001b[0;34m\u001b[0m\u001b[0m\n\u001b[1;32m   3209\u001b[0m           and call_context_key in self._function_cache.missed):\n\u001b[0;32m-> 3210\u001b[0;31m         \u001b[0;32mreturn\u001b[0m \u001b[0mself\u001b[0m\u001b[0;34m.\u001b[0m\u001b[0m_define_function_with_shape_relaxation\u001b[0m\u001b[0;34m(\u001b[0m\u001b[0margs\u001b[0m\u001b[0;34m,\u001b[0m \u001b[0mkwargs\u001b[0m\u001b[0;34m)\u001b[0m\u001b[0;34m\u001b[0m\u001b[0;34m\u001b[0m\u001b[0m\n\u001b[0m\u001b[1;32m   3211\u001b[0m \u001b[0;34m\u001b[0m\u001b[0m\n\u001b[1;32m   3212\u001b[0m       \u001b[0mself\u001b[0m\u001b[0;34m.\u001b[0m\u001b[0m_function_cache\u001b[0m\u001b[0;34m.\u001b[0m\u001b[0mmissed\u001b[0m\u001b[0;34m.\u001b[0m\u001b[0madd\u001b[0m\u001b[0;34m(\u001b[0m\u001b[0mcall_context_key\u001b[0m\u001b[0;34m)\u001b[0m\u001b[0;34m\u001b[0m\u001b[0;34m\u001b[0m\u001b[0m\n",
      "\u001b[0;32m~/miniconda3/envs/recommender/lib/python3.7/site-packages/tensorflow/python/eager/function.py\u001b[0m in \u001b[0;36m_define_function_with_shape_relaxation\u001b[0;34m(self, args, kwargs)\u001b[0m\n\u001b[1;32m   3140\u001b[0m \u001b[0;34m\u001b[0m\u001b[0m\n\u001b[1;32m   3141\u001b[0m     graph_function = self._create_graph_function(\n\u001b[0;32m-> 3142\u001b[0;31m         args, kwargs, override_flat_arg_shapes=relaxed_arg_shapes)\n\u001b[0m\u001b[1;32m   3143\u001b[0m     \u001b[0mself\u001b[0m\u001b[0;34m.\u001b[0m\u001b[0m_function_cache\u001b[0m\u001b[0;34m.\u001b[0m\u001b[0marg_relaxed\u001b[0m\u001b[0;34m[\u001b[0m\u001b[0mrank_only_cache_key\u001b[0m\u001b[0;34m]\u001b[0m \u001b[0;34m=\u001b[0m \u001b[0mgraph_function\u001b[0m\u001b[0;34m\u001b[0m\u001b[0;34m\u001b[0m\u001b[0m\n\u001b[1;32m   3144\u001b[0m \u001b[0;34m\u001b[0m\u001b[0m\n",
      "\u001b[0;32m~/miniconda3/envs/recommender/lib/python3.7/site-packages/tensorflow/python/eager/function.py\u001b[0m in \u001b[0;36m_create_graph_function\u001b[0;34m(self, args, kwargs, override_flat_arg_shapes)\u001b[0m\n\u001b[1;32m   3073\u001b[0m             \u001b[0marg_names\u001b[0m\u001b[0;34m=\u001b[0m\u001b[0marg_names\u001b[0m\u001b[0;34m,\u001b[0m\u001b[0;34m\u001b[0m\u001b[0;34m\u001b[0m\u001b[0m\n\u001b[1;32m   3074\u001b[0m             \u001b[0moverride_flat_arg_shapes\u001b[0m\u001b[0;34m=\u001b[0m\u001b[0moverride_flat_arg_shapes\u001b[0m\u001b[0;34m,\u001b[0m\u001b[0;34m\u001b[0m\u001b[0;34m\u001b[0m\u001b[0m\n\u001b[0;32m-> 3075\u001b[0;31m             capture_by_value=self._capture_by_value),\n\u001b[0m\u001b[1;32m   3076\u001b[0m         \u001b[0mself\u001b[0m\u001b[0;34m.\u001b[0m\u001b[0m_function_attributes\u001b[0m\u001b[0;34m,\u001b[0m\u001b[0;34m\u001b[0m\u001b[0;34m\u001b[0m\u001b[0m\n\u001b[1;32m   3077\u001b[0m         \u001b[0mfunction_spec\u001b[0m\u001b[0;34m=\u001b[0m\u001b[0mself\u001b[0m\u001b[0;34m.\u001b[0m\u001b[0mfunction_spec\u001b[0m\u001b[0;34m,\u001b[0m\u001b[0;34m\u001b[0m\u001b[0;34m\u001b[0m\u001b[0m\n",
      "\u001b[0;32m~/miniconda3/envs/recommender/lib/python3.7/site-packages/tensorflow/python/framework/func_graph.py\u001b[0m in \u001b[0;36mfunc_graph_from_py_func\u001b[0;34m(name, python_func, args, kwargs, signature, func_graph, autograph, autograph_options, add_control_dependencies, arg_names, op_return_value, collections, capture_by_value, override_flat_arg_shapes)\u001b[0m\n\u001b[1;32m    984\u001b[0m         \u001b[0m_\u001b[0m\u001b[0;34m,\u001b[0m \u001b[0moriginal_func\u001b[0m \u001b[0;34m=\u001b[0m \u001b[0mtf_decorator\u001b[0m\u001b[0;34m.\u001b[0m\u001b[0munwrap\u001b[0m\u001b[0;34m(\u001b[0m\u001b[0mpython_func\u001b[0m\u001b[0;34m)\u001b[0m\u001b[0;34m\u001b[0m\u001b[0;34m\u001b[0m\u001b[0m\n\u001b[1;32m    985\u001b[0m \u001b[0;34m\u001b[0m\u001b[0m\n\u001b[0;32m--> 986\u001b[0;31m       \u001b[0mfunc_outputs\u001b[0m \u001b[0;34m=\u001b[0m \u001b[0mpython_func\u001b[0m\u001b[0;34m(\u001b[0m\u001b[0;34m*\u001b[0m\u001b[0mfunc_args\u001b[0m\u001b[0;34m,\u001b[0m \u001b[0;34m**\u001b[0m\u001b[0mfunc_kwargs\u001b[0m\u001b[0;34m)\u001b[0m\u001b[0;34m\u001b[0m\u001b[0;34m\u001b[0m\u001b[0m\n\u001b[0m\u001b[1;32m    987\u001b[0m \u001b[0;34m\u001b[0m\u001b[0m\n\u001b[1;32m    988\u001b[0m       \u001b[0;31m# invariant: `func_outputs` contains only Tensors, CompositeTensors,\u001b[0m\u001b[0;34m\u001b[0m\u001b[0;34m\u001b[0m\u001b[0;34m\u001b[0m\u001b[0m\n",
      "\u001b[0;32m~/miniconda3/envs/recommender/lib/python3.7/site-packages/tensorflow/python/eager/def_function.py\u001b[0m in \u001b[0;36mwrapped_fn\u001b[0;34m(*args, **kwds)\u001b[0m\n\u001b[1;32m    598\u001b[0m         \u001b[0;31m# __wrapped__ allows AutoGraph to swap in a converted function. We give\u001b[0m\u001b[0;34m\u001b[0m\u001b[0;34m\u001b[0m\u001b[0;34m\u001b[0m\u001b[0m\n\u001b[1;32m    599\u001b[0m         \u001b[0;31m# the function a weak reference to itself to avoid a reference cycle.\u001b[0m\u001b[0;34m\u001b[0m\u001b[0;34m\u001b[0m\u001b[0;34m\u001b[0m\u001b[0m\n\u001b[0;32m--> 600\u001b[0;31m         \u001b[0;32mreturn\u001b[0m \u001b[0mweak_wrapped_fn\u001b[0m\u001b[0;34m(\u001b[0m\u001b[0;34m)\u001b[0m\u001b[0;34m.\u001b[0m\u001b[0m__wrapped__\u001b[0m\u001b[0;34m(\u001b[0m\u001b[0;34m*\u001b[0m\u001b[0margs\u001b[0m\u001b[0;34m,\u001b[0m \u001b[0;34m**\u001b[0m\u001b[0mkwds\u001b[0m\u001b[0;34m)\u001b[0m\u001b[0;34m\u001b[0m\u001b[0;34m\u001b[0m\u001b[0m\n\u001b[0m\u001b[1;32m    601\u001b[0m     \u001b[0mweak_wrapped_fn\u001b[0m \u001b[0;34m=\u001b[0m \u001b[0mweakref\u001b[0m\u001b[0;34m.\u001b[0m\u001b[0mref\u001b[0m\u001b[0;34m(\u001b[0m\u001b[0mwrapped_fn\u001b[0m\u001b[0;34m)\u001b[0m\u001b[0;34m\u001b[0m\u001b[0;34m\u001b[0m\u001b[0m\n\u001b[1;32m    602\u001b[0m \u001b[0;34m\u001b[0m\u001b[0m\n",
      "\u001b[0;32m~/miniconda3/envs/recommender/lib/python3.7/site-packages/tensorflow/python/framework/func_graph.py\u001b[0m in \u001b[0;36mwrapper\u001b[0;34m(*args, **kwargs)\u001b[0m\n\u001b[1;32m    971\u001b[0m           \u001b[0;32mexcept\u001b[0m \u001b[0mException\u001b[0m \u001b[0;32mas\u001b[0m \u001b[0me\u001b[0m\u001b[0;34m:\u001b[0m  \u001b[0;31m# pylint:disable=broad-except\u001b[0m\u001b[0;34m\u001b[0m\u001b[0;34m\u001b[0m\u001b[0m\n\u001b[1;32m    972\u001b[0m             \u001b[0;32mif\u001b[0m \u001b[0mhasattr\u001b[0m\u001b[0;34m(\u001b[0m\u001b[0me\u001b[0m\u001b[0;34m,\u001b[0m \u001b[0;34m\"ag_error_metadata\"\u001b[0m\u001b[0;34m)\u001b[0m\u001b[0;34m:\u001b[0m\u001b[0;34m\u001b[0m\u001b[0;34m\u001b[0m\u001b[0m\n\u001b[0;32m--> 973\u001b[0;31m               \u001b[0;32mraise\u001b[0m \u001b[0me\u001b[0m\u001b[0;34m.\u001b[0m\u001b[0mag_error_metadata\u001b[0m\u001b[0;34m.\u001b[0m\u001b[0mto_exception\u001b[0m\u001b[0;34m(\u001b[0m\u001b[0me\u001b[0m\u001b[0;34m)\u001b[0m\u001b[0;34m\u001b[0m\u001b[0;34m\u001b[0m\u001b[0m\n\u001b[0m\u001b[1;32m    974\u001b[0m             \u001b[0;32melse\u001b[0m\u001b[0;34m:\u001b[0m\u001b[0;34m\u001b[0m\u001b[0;34m\u001b[0m\u001b[0m\n\u001b[1;32m    975\u001b[0m               \u001b[0;32mraise\u001b[0m\u001b[0;34m\u001b[0m\u001b[0;34m\u001b[0m\u001b[0m\n",
      "\u001b[0;31mValueError\u001b[0m: in user code:\n\n    /Users/wf07pu/miniconda3/envs/recommender/lib/python3.7/site-packages/tensorflow/python/keras/engine/training.py:1462 predict_function  *\n        return step_function(self, iterator)\n    <ipython-input-64-a8eb78a96df4>:72 call  *\n        self.user_location_city_embedding(inputs[\"user_location_city\"])\n    /Users/wf07pu/miniconda3/envs/recommender/lib/python3.7/site-packages/tensorflow/python/util/dispatch.py:201 wrapper  **\n        return target(*args, **kwargs)\n    /Users/wf07pu/miniconda3/envs/recommender/lib/python3.7/site-packages/tensorflow/python/ops/array_ops.py:1654 concat\n        return gen_array_ops.concat_v2(values=values, axis=axis, name=name)\n    /Users/wf07pu/miniconda3/envs/recommender/lib/python3.7/site-packages/tensorflow/python/ops/gen_array_ops.py:1222 concat_v2\n        \"ConcatV2\", values=values, axis=axis, name=name)\n    /Users/wf07pu/miniconda3/envs/recommender/lib/python3.7/site-packages/tensorflow/python/framework/op_def_library.py:744 _apply_op_helper\n        attrs=attr_protos, op_def=op_def)\n    /Users/wf07pu/miniconda3/envs/recommender/lib/python3.7/site-packages/tensorflow/python/framework/func_graph.py:593 _create_op_internal\n        compute_device)\n    /Users/wf07pu/miniconda3/envs/recommender/lib/python3.7/site-packages/tensorflow/python/framework/ops.py:3485 _create_op_internal\n        op_def=op_def)\n    /Users/wf07pu/miniconda3/envs/recommender/lib/python3.7/site-packages/tensorflow/python/framework/ops.py:1975 __init__\n        control_input_ops, op_def)\n    /Users/wf07pu/miniconda3/envs/recommender/lib/python3.7/site-packages/tensorflow/python/framework/ops.py:1815 _create_c_op\n        raise ValueError(str(e))\n\n    ValueError: Shape must be rank 2 but is rank 3 for '{{node sequential_36/user_model_5/concat}} = ConcatV2[N=9, T=DT_FLOAT, Tidx=DT_INT32](sequential_36/user_model_5/sequential_37/embedding_31/embedding_lookup/Identity, sequential_36/user_model_5/category_encoding_10/bincount/DenseBincount, sequential_36/user_model_5/normalization_15/truediv, sequential_36/user_model_5/sequential_38/embedding_32/embedding_lookup/Identity_1, sequential_36/user_model_5/category_encoding_11/bincount/DenseBincount, sequential_36/user_model_5/sequential_39/embedding_33/embedding_lookup/Identity_1, sequential_36/user_model_5/sequential_40/embedding_34/embedding_lookup/Identity_1, sequential_36/user_model_5/normalization_17/truediv, sequential_36/user_model_5/sequential_41/embedding_35/embedding_lookup/Identity_1, sequential_36/user_model_5/concat/axis)' with input shapes: [?,32], [?,2], [?,1], [?,1,32], [?,2], [?,1,32], [?,1,32], [?,1], [?,1,32], [].\n"
     ]
    }
   ],
   "source": [
    "user_embeddings = model.user_model.predict(final_test_set_cached)\n",
    "\n",
    "user_embeddings.shape"
   ]
  },
  {
   "cell_type": "markdown",
   "metadata": {},
   "source": [
    "### Determine k\n",
    "\n",
    "Note that we determine k on the training set, ideally you want to determine it on the validation set. Not needed for this challenge as the accuracy is not averaged over the number of predictions. Meaning the optimal value is k=5 as providing less recommendations can never improve the metric."
   ]
  },
  {
   "cell_type": "code",
   "execution_count": 73,
   "metadata": {},
   "outputs": [],
   "source": [
    "cached_df = dataset.take(500_000).batch(500_000)"
   ]
  },
  {
   "cell_type": "code",
   "execution_count": 74,
   "metadata": {},
   "outputs": [],
   "source": [
    "user_embeddings_train = model.user_model.predict(cached_df)"
   ]
  },
  {
   "cell_type": "code",
   "execution_count": 76,
   "metadata": {},
   "outputs": [],
   "source": [
    "index_bruteforce = tfrs.layers.ann.BruteForce()\n",
    "\n",
    "hotel_cluster_embeddings = hotels.batch(100).map(model.hotel_cluster_model)\n",
    "\n",
    "# recommends hotels from all hotel clusters.\n",
    "index_bruteforce.index(candidates=hotel_cluster_embeddings, \n",
    "                      identifiers=hotels)\n",
    "\n",
    "(scores, brute_force_result) = index_bruteforce(queries=user_embeddings_train)\n",
    "\n",
    "results_train = [[int(i)\n",
    " for i \n",
    " in query[:5]]\n",
    " for query\n",
    " in brute_force_result.numpy()\n",
    "]"
   ]
  },
  {
   "cell_type": "code",
   "execution_count": 101,
   "metadata": {},
   "outputs": [],
   "source": [
    "determine_k_df = (\n",
    "    pd.DataFrame({'hotel_cluster' : df['hotel_cluster'][:500_000], 'predict' : results_train})\n",
    "     .assign(\n",
    "        top5=lambda df: df.apply(lambda x: x['hotel_cluster'] in x['predict'], axis=1))\n",
    "    .assign(\n",
    "        k=lambda df: df.apply(lambda x: x['predict'].index(x['hotel_cluster']) if x['top5'] else None, axis=1))\n",
    ")"
   ]
  },
  {
   "cell_type": "code",
   "execution_count": 116,
   "metadata": {},
   "outputs": [
    {
     "data": {
      "image/png": "[encoded data removed]",
      "text/plain": [
       "<Figure size 432x288 with 1 Axes>"
      ]
     },
     "metadata": {
      "needs_background": "light"
     },
     "output_type": "display_data"
    }
   ],
   "source": [
    "determine_k_df[determine_k_df['top5']].groupby('k').count().plot(kind='bar', y='predict');"
   ]
  },
  {
   "cell_type": "code",
   "execution_count": 128,
   "metadata": {},
   "outputs": [],
   "source": [
    "def k_accuracy(df, k):\n",
    "    return len(df[df['k'] <= k]) / (len(df) * (1 + k))"
   ]
  },
  {
   "cell_type": "code",
   "execution_count": 134,
   "metadata": {},
   "outputs": [
    {
     "name": "stdout",
     "output_type": "stream",
     "text": [
      "Accuracy k=1 0.690\n",
      "Accuracy k=2 0.394\n",
      "Accuracy k=3 0.278\n",
      "Accuracy k=4 0.216\n",
      "Accuracy k=5 0.177\n"
     ]
    }
   ],
   "source": [
    "print(f'Accuracy k=1 {k_accuracy(determine_k_df, 0):.3f}')\n",
    "print(f'Accuracy k=2 {k_accuracy(determine_k_df, 1):.3f}')\n",
    "print(f'Accuracy k=3 {k_accuracy(determine_k_df, 2):.3f}')\n",
    "print(f'Accuracy k=4 {k_accuracy(determine_k_df, 3):.3f}')\n",
    "print(f'Accuracy k=5 {k_accuracy(determine_k_df, 4):.3f}')"
   ]
  },
  {
   "cell_type": "markdown",
   "metadata": {},
   "source": [
    "### Brute Force"
   ]
  },
  {
   "cell_type": "code",
   "execution_count": 24,
   "metadata": {},
   "outputs": [],
   "source": [
    "# Create a model that takes in raw query features, and\n",
    "# index_bruteforce = tfrs.layers.factorized_top_k.BruteForce()\n",
    "\n",
    "index_bruteforce = tfrs.layers.ann.BruteForce()\n",
    "\n",
    "hotel_cluster_embeddings = hotels.batch(100).map(model.hotel_cluster_model)\n",
    "\n",
    "# recommends hotels from all hotel clusters.\n",
    "index_bruteforce.index(candidates=hotel_cluster_embeddings, \n",
    "                      identifiers=hotels)\n",
    "\n",
    "(scores, brute_force_result) = index_bruteforce(queries=user_embeddings)\n",
    "\n",
    "results = [[str(int(i))\n",
    " for i \n",
    " in query[:5]]\n",
    " for query\n",
    " in brute_force_result.numpy()\n",
    "]"
   ]
  },
  {
   "cell_type": "code",
   "execution_count": 46,
   "metadata": {},
   "outputs": [
    {
     "data": {
      "text/plain": [
       "array([4.528264 , 3.8475575, 3.3138466, 3.278887 , 3.1990438, 3.1466887,\n",
       "       3.1171858, 2.771071 , 2.668694 , 2.6567016], dtype=float32)"
      ]
     },
     "execution_count": 46,
     "metadata": {},
     "output_type": "execute_result"
    }
   ],
   "source": [
    "scores[9].numpy()"
   ]
  },
  {
   "cell_type": "code",
   "execution_count": null,
   "metadata": {},
   "outputs": [],
   "source": [
    "pd.DataFrame({'id': df_test['id'], 'hotel_cluster': [' '.join(result) for result in results]}).to_csv('submission.csv', index=False)"
   ]
  },
  {
   "cell_type": "code",
   "execution_count": null,
   "metadata": {},
   "outputs": [],
   "source": [
    "!kaggle competitions submit -c expedia-hotel-recommendations -f submission.csv -m \"First tensorflow-recommender approach\""
   ]
  },
  {
   "cell_type": "markdown",
   "metadata": {},
   "source": [
    "## Archive"
   ]
  },
  {
   "cell_type": "code",
   "execution_count": null,
   "metadata": {},
   "outputs": [],
   "source": [
    "_, hotel_cluster = index(queries={'user_id':tf.constant([\"472333\"]), \n",
    "                                   'is_package': tf.constant([1])})\n",
    "print(f\"Recommendations for user 472333: {hotel_cluster[0, :3]}\")"
   ]
  },
  {
   "cell_type": "code",
   "execution_count": null,
   "metadata": {},
   "outputs": [],
   "source": [
    "users_to_predict"
   ]
  },
  {
   "cell_type": "code",
   "execution_count": null,
   "metadata": {},
   "outputs": [],
   "source": [
    "results = []\n",
    "\n",
    "for i, user in users_to_predict.iterrows():\n",
    "    _, hotel_clusters = index(queries={'user_id':tf.constant([str(user['user_id'])]), \n",
    "                                       'is_package': tf.constant([user['is_package']])})\n",
    "    results.append({'user_id': user['user_id'], 'hotel cluster' : [int(i) for i in hotel_clusters[0, :5].numpy()]})\n",
    "    if i % 1_000 == 0:\n",
    "        print(f\"Parsed {i} users.\")"
   ]
  },
  {
   "cell_type": "code",
   "execution_count": null,
   "metadata": {},
   "outputs": [],
   "source": [
    "pd.DataFrame(results)"
   ]
  },
  {
   "cell_type": "markdown",
   "metadata": {},
   "source": [
    "### Brute force per record\n",
    "\n",
    "Too slow and yields the same result"
   ]
  },
  {
   "cell_type": "code",
   "execution_count": null,
   "metadata": {},
   "outputs": [],
   "source": [
    "# Create a model that takes in raw query features, and\n",
    "index_bruteforce = tfrs.layers.ann.BruteForce(query_model=model.user_model)\n",
    "\n",
    "hotel_cluster_embeddings = hotels.batch(100).map(model.hotel_cluster_model)\n",
    "\n",
    "# recommends hotels from all hotel clusters.\n",
    "index_bruteforce.index(candidates=hotel_cluster_embeddings, \n",
    "                      identifiers=hotels)\n",
    "\n",
    "results_bruteforce = []\n",
    "\n",
    "for row in final_test_set.batch(1).take(5_00):\n",
    "    _, hotel_cluster = index_bruteforce(queries=row)\n",
    "    results_bruteforce.append([int(i) for i in hotel_cluster.numpy()[0][:5]])"
   ]
  },
  {
   "cell_type": "markdown",
   "metadata": {},
   "source": [
    "### Annoy\n",
    "\n",
    "Uses NNeirest neighbours for the items. Because we 'only' have 100 items (=hotel clusters), the computational benefit does not differ much from brute force."
   ]
  },
  {
   "cell_type": "code",
   "execution_count": null,
   "metadata": {},
   "outputs": [],
   "source": [
    "from annoy import AnnoyIndex\n",
    "\n",
    "index = AnnoyIndex(embedding_dimension, \"dot\")\n",
    "\n",
    "hotel_embeddings = hotels.enumerate().map(lambda idx, cluster: (idx, cluster, model.hotel_cluster_model(cluster)))\n",
    "hotel_embeddings\n",
    "\n",
    "# We unbatch the dataset because Annoy accepts only scalar (id, embedding) pairs.\n",
    "for hotel_id, _, hotel_embedding in hotel_embeddings.as_numpy_iterator():\n",
    "    index.add_item(hotel_id, hotel_embedding)\n",
    "\n",
    "# Build a 10-tree ANN index.\n",
    "index.build(10)\n",
    "\n",
    "results = []\n",
    "\n",
    "for i, row in enumerate(final_test_set.batch(1).take(len(final_test_set))):\n",
    "    query_embedding = model.user_model(row)[0]\n",
    "    results.append(index.get_nns_by_vector(query_embedding, 5))\n",
    "    print(query_embedding)\n",
    "    if i % 10_000 == 0:\n",
    "        print(f\"Parsed {i} users.\")\n",
    "        \n",
    "# import pickle\n",
    "\n",
    "# with open(\"./results_230_000.txt\", \"wb\") as fp:   #Pickling\n",
    "#     pickle.dump(results, fp)"
   ]
  },
  {
   "cell_type": "code",
   "execution_count": null,
   "metadata": {},
   "outputs": [],
   "source": []
  }
 ],
 "metadata": {
  "kernelspec": {
   "display_name": "recommender (Python=3.7)",
   "language": "python",
   "name": "recommender"
  },
  "language_info": {
   "codemirror_mode": {
    "name": "ipython",
    "version": 3
   },
   "file_extension": ".py",
   "mimetype": "text/x-python",
   "name": "python",
   "nbconvert_exporter": "python",
   "pygments_lexer": "ipython3",
   "version": "3.7.9"
  },
  "toc": {
   "base_numbering": 1,
   "nav_menu": {},
   "number_sections": true,
   "sideBar": true,
   "skip_h1_title": false,
   "title_cell": "Table of Contents",
   "title_sidebar": "Contents",
   "toc_cell": false,
   "toc_position": {
    "height": "calc(100% - 180px)",
    "left": "10px",
    "top": "150px",
    "width": "268.793px"
   },
   "toc_section_display": true,
   "toc_window_display": true
  }
 },
 "nbformat": 4,
 "nbformat_minor": 4
}
